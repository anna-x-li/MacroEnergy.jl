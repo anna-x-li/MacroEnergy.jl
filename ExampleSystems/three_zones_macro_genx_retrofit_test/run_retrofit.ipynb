{
 "cells": [
  {
   "cell_type": "code",
   "execution_count": 2,
   "metadata": {},
   "outputs": [
    {
     "data": {
      "text/plain": [
       "get_flows (generic function with 7 methods)"
      ]
     },
     "metadata": {},
     "output_type": "display_data"
    }
   ],
   "source": [
    "# Function to get sorting key: returns the index of the first matching suffix or a large number\n",
    "function suffix_sort_key(name)\n",
    "    idx = findfirst(s -> endswith(name, s), suffixes)\n",
    "    return isnothing(idx) ? length(suffixes) + 1 : idx  # Default to placing non-matching names at the end\n",
    "end\n",
    "\n",
    "# Function to get flows for each type of asset\n",
    "function get_flows(asset::MacroEnergy.CementPlant, df::DataFrame)\n",
    "    df[:, \"trad_\" * string(asset.id) * \"_cement\"] = MacroEnergy.value.(MacroEnergy.flow(asset.cement_edge)).data\n",
    "    df[:, \"trad_\" * string(asset.id) * \"_co2\"] = MacroEnergy.value.(MacroEnergy.flow(asset.co2_edge)).data\n",
    "end\n",
    "\n",
    "function get_flows(asset::MacroEnergy.ElectrochemCementPlant, df::DataFrame)\n",
    "    df[:, \"echem_\" * string(asset.id) * \"_cement\"] = MacroEnergy.value.(MacroEnergy.flow(asset.cement_edge)).data\n",
    "end\n",
    "\n",
    "function get_flows(asset::ElectricDAC, df::DataFrame)\n",
    "    df[:, string(asset.id) * \"_co2\"] = MacroEnergy.value.(MacroEnergy.flow(asset.co2_edge)).data\n",
    "end\n",
    "\n",
    "function get_flows(asset::PowerLine, df::DataFrame)\n",
    "    df[:, asset.id] = MacroEnergy.value.(MacroEnergy.flow(asset.elec_edge)).data\n",
    "end\n",
    "\n",
    "function get_flows(asset::Battery, df::DataFrame)\n",
    "    df[:, string(asset.id) * \"_charge\"] = -1 * MacroEnergy.value.(MacroEnergy.flow(asset.charge_edge)).data\n",
    "    df[:, string(asset.id) * \"_discharge\"] = MacroEnergy.value.(MacroEnergy.flow(asset.discharge_edge)).data\n",
    "end\n",
    "\n",
    "function get_flows(asset::ThermalPower, df::DataFrame)\n",
    "    df[:, asset.id] = MacroEnergy.value.(MacroEnergy.flow(asset.elec_edge)).data\n",
    "    df[:, string(asset.id) * \"_co2\"] = MacroEnergy.value.(MacroEnergy.flow(asset.co2_edge)).data\n",
    "end\n",
    "\n",
    "function get_flows(asset::VRE, df::DataFrame)\n",
    "    df[:, asset.id] = MacroEnergy.value.(MacroEnergy.flow(asset.edge)).data\n",
    "end"
   ]
  },
  {
   "cell_type": "code",
   "execution_count": 1,
   "metadata": {},
   "outputs": [
    {
     "name": "stderr",
     "output_type": "stream",
     "text": [
      "\u001b[32m\u001b[1m  Activating\u001b[22m\u001b[39m project at `~/Macro`\n",
      "\n",
      "libgomp: Invalid value for environment variable OMP_NUM_THREADS: invalid\n",
      "\n",
      "libgomp: Invalid value for environment variable OMP_NUM_THREADS: invalid\n"
     ]
    }
   ],
   "source": [
    "using Pkg\n",
    "using Revise\n",
    "Pkg.activate(dirname(dirname(@__DIR__)))\n",
    "using MacroEnergy\n",
    "using Gurobi\n",
    "using Plots\n",
    "using DataFrames, CSV\n",
    "using BenchmarkTools\n",
    "#using JLD2, FileIO\n",
    "using JuMP"
   ]
  },
  {
   "cell_type": "code",
   "execution_count": 2,
   "metadata": {},
   "outputs": [
    {
     "data": {
      "text/plain": [
       "false"
      ]
     },
     "metadata": {},
     "output_type": "display_data"
    }
   ],
   "source": [
    "case_path = @__DIR__\n",
    "lazy_load = false"
   ]
  },
  {
   "cell_type": "code",
   "execution_count": 10,
   "metadata": {},
   "outputs": [
    {
     "name": "stderr",
     "output_type": "stream",
     "text": [
      "┌ Info: Loading system from /home/al3792/Macro/ExampleSystems/three_zones_macro_genx_retrofit_test/system_data.json\n",
      "└ @ MacroEnergy /home/al3792/Macro/src/load_inputs/load_system.jl:18\n",
      "┌ Info: Loading system data\n",
      "└ @ MacroEnergy /home/al3792/Macro/src/load_inputs/load_system_data.jl:18\n",
      "┌ Info: Done loading system data. It took 0.0 seconds\n",
      "└ @ MacroEnergy /home/al3792/Macro/src/load_inputs/load_system_data.jl:26\n",
      "┌ Info: Generating system\n",
      "└ @ MacroEnergy /home/al3792/Macro/src/load_inputs/generate_system.jl:18\n",
      "┌ Warning: WeightTotal not found in time_data.json\n",
      "└ @ MacroEnergy /home/al3792/Macro/src/load_inputs/load_time_data.jl:81\n",
      "┌ Info: Using PeriodLength as default value for WeightTotal\n",
      "└ @ MacroEnergy /home/al3792/Macro/src/load_inputs/load_time_data.jl:82\n",
      "┌ Info: Done generating system. It took 0.6 seconds\n",
      "└ @ MacroEnergy /home/al3792/Macro/src/load_inputs/generate_system.jl:35\n",
      "┌ Info: Done loading system. It took 0.6 seconds\n",
      "└ @ MacroEnergy /home/al3792/Macro/src/load_inputs/load_system.jl:25\n",
      "┌ Info: Generating model\n",
      "└ @ MacroEnergy /home/al3792/Macro/src/generate_model.jl:3\n",
      "┌ Info:  -- Adding linking variables\n",
      "└ @ MacroEnergy /home/al3792/Macro/src/generate_model.jl:15\n",
      "┌ Info:  -- Defining available capacity\n",
      "└ @ MacroEnergy /home/al3792/Macro/src/generate_model.jl:18\n",
      "┌ Info:  -- Generating planning model\n",
      "└ @ MacroEnergy /home/al3792/Macro/src/generate_model.jl:21\n",
      "┌ Info: retrofit_ids Any[1]\n",
      "└ @ MacroEnergy /home/al3792/Macro/src/model/constraints/constraints_utils.jl:23\n",
      "┌ Info:  -- Generating operational model\n",
      "└ @ MacroEnergy /home/al3792/Macro/src/generate_model.jl:24\n",
      "┌ Info:  -- Model generation complete. It took 13.38 seconds\n",
      "└ @ MacroEnergy /home/al3792/Macro/src/generate_model.jl:29\n"
     ]
    },
    {
     "data": {
      "text/plain": [
       "A JuMP Model\n",
       "├ solver: none\n",
       "├ objective_sense: MIN_SENSE\n",
       "│ └ objective_function_type: AffExpr\n",
       "├ num_variables: 525646\n",
       "├ num_constraints: 1296553\n",
       "│ ├ AffExpr in MOI.EqualTo{Float64}: 219001\n",
       "│ ├ AffExpr in MOI.GreaterThan{Float64}: 78840\n",
       "│ ├ AffExpr in MOI.LessThan{Float64}: 490586\n",
       "│ ├ VariableRef in MOI.EqualTo{Float64}: 16\n",
       "│ └ VariableRef in MOI.GreaterThan{Float64}: 508110\n",
       "└ Names registered in the model\n",
       "  └ :cRetrofitCapacity, :eFixedCost, :eRetrofitCapByRetroId, :eRetrofittedCapByRetroId, :eVariableCost, :vREF"
      ]
     },
     "metadata": {},
     "output_type": "display_data"
    }
   ],
   "source": [
    "# Run single case\n",
    "system = MacroEnergy.load_system(case_path)\n",
    "model = MacroEnergy.generate_model(system)"
   ]
  },
  {
   "cell_type": "code",
   "execution_count": 11,
   "metadata": {},
   "outputs": [
    {
     "name": "stdout",
     "output_type": "stream",
     "text": [
      "Set parameter LicenseID to value 197246\n",
      "Set parameter GURO_PAR_SPECIAL\n",
      "Set parameter TokenServer to value \"license.rc.princeton.edu\"\n",
      "Set parameter BarConvTol to value 0.001\n",
      "Set parameter Crossover to value 0\n",
      "Set parameter Method to value 2\n",
      "Set parameter Method to value 2\n",
      "Set parameter Crossover to value 0\n",
      "Set parameter BarConvTol to value 0.001\n",
      "Gurobi Optimizer version 12.0.0 build v12.0.0rc1 (linux64 - \"Red Hat Enterprise Linux 8.10 (Ootpa)\")\n",
      "\n",
      "CPU model: Intel(R) Xeon(R) Gold 6246R CPU @ 3.40GHz, instruction set [SSE2|AVX|AVX2|AVX512]\n",
      "Thread count: 32 physical cores, 32 logical processors, using up to 32 threads\n",
      "\n",
      "Non-default parameters:\n",
      "Method  2\n",
      "BarConvTol  0.001\n",
      "Crossover  0\n",
      "\n",
      "Optimize a model with 788427 rows, 525646 columns and 2714562 nonzeros\n",
      "Model fingerprint: 0xd22b1d57\n",
      "Coefficient statistics:\n",
      "  Matrix range     [4e-07, 2e+04]\n",
      "  Objective range  [1e-01, 2e+07]\n",
      "  Bounds range     [1e+00, 1e+00]\n",
      "  RHS range        [2e+00, 2e+04]\n",
      "Presolve removed 342202 rows and 140718 columns\n",
      "Presolve time: 2.03s\n",
      "Presolved: 446225 rows, 384928 columns, 2048238 nonzeros\n",
      "Ordering time: 0.45s\n",
      "\n",
      "Barrier statistics:\n",
      " Dense cols : 24\n",
      " AA' NZ     : 3.205e+06\n",
      " Factor NZ  : 1.681e+07 (roughly 500 MB of memory)\n",
      " Factor Ops : 1.477e+09 (less than 1 second per iteration)\n",
      " Threads    : 32\n",
      "\n",
      "                  Objective                Residual\n",
      "Iter       Primal          Dual         Primal    Dual     Compl     Time\n",
      "   0   4.71915113e+14 -9.83256558e+12  1.97e+05 1.56e-10  1.16e+11     3s\n",
      "   1   4.28491178e+14 -4.21890620e+13  1.82e+05 1.85e+06  9.42e+10     6s\n",
      "   2   3.15153261e+14 -1.59635062e+14  1.38e+05 8.02e+05  6.02e+10     7s\n",
      "   3   2.08449382e+14 -2.17091313e+14  9.46e+04 1.94e+05  3.44e+10     7s\n",
      "   4   6.98362097e+13 -2.16378599e+14  2.86e+04 1.03e+05  1.21e+10     8s\n",
      "   5   4.70570352e+13 -1.73582601e+14  1.54e+04 4.99e+04  6.32e+09     8s\n",
      "   6   1.50374028e+13 -1.06295955e+14  2.27e+03 1.06e+04  1.23e+09     9s\n",
      "   7   6.55759203e+12 -2.95462733e+13  1.77e+02 6.06e+02  1.09e+08     9s\n",
      "   8   2.46655803e+12 -6.21214677e+12  1.17e+01 7.87e+01  1.59e+07    10s\n",
      "   9   9.37597768e+11 -1.46235696e+12  1.29e+00 1.70e+01  3.71e+06    10s\n",
      "  10   2.86093611e+11 -2.60091027e+11  9.07e-02 3.33e+00  7.26e+05    11s\n",
      "  11   4.84255231e+10 -4.09276247e+10  5.52e-03 4.73e-01  1.09e+05    11s\n",
      "  12   9.84118202e+09 -8.26105869e+09  8.41e-04 7.99e-02  2.16e+04    12s\n",
      "  13   4.77865018e+09 -2.64058143e+09  3.17e-04 3.28e-02  8.86e+03    12s\n",
      "  14   3.38140200e+09 -5.23067990e+08  1.77e-04 1.64e-02  4.66e+03    13s\n",
      "  15   2.84754186e+09  3.94237052e+08  1.22e-04 1.01e-02  2.93e+03    13s\n",
      "  16   2.72201051e+09  7.20081755e+08  1.09e-04 7.27e-03  2.39e+03    14s\n",
      "  17   2.56272006e+09  8.42187746e+08  9.34e-05 4.59e-03  2.05e+03    14s\n",
      "  18   2.20986888e+09  1.40868309e+09  5.36e-05 1.48e-03  9.55e+02    15s\n",
      "  19   2.00280298e+09  1.52546933e+09  2.79e-05 9.88e-04  5.71e+02    16s\n",
      "  20   1.92123076e+09  1.54997758e+09  2.08e-05 8.10e-04  4.45e+02    16s\n",
      "  21   1.90681308e+09  1.58508338e+09  1.95e-05 6.02e-04  3.85e+02    17s\n",
      "  22   1.88439892e+09  1.59038617e+09  1.76e-05 5.68e-04  3.52e+02    18s\n",
      "  23   1.85923722e+09  1.65593916e+09  1.51e-05 3.58e-03  2.41e+02    18s\n",
      "  24   1.81095160e+09  1.67551680e+09  1.07e-05 3.15e-03  1.61e+02    19s\n",
      "  25   1.77958376e+09  1.68767785e+09  7.72e-06 1.61e-03  1.09e+02    19s\n",
      "  26   1.73149047e+09  1.69646260e+09  9.64e-04 7.62e-04  4.14e+01    20s\n",
      "  27   1.72048320e+09  1.69723035e+09  6.62e-04 5.45e-04  2.75e+01    21s\n",
      "  28   1.71247138e+09  1.69842855e+09  4.71e-04 2.04e-04  1.66e+01    22s\n",
      "  29   1.70892085e+09  1.69876486e+09  3.48e-04 1.40e-04  1.20e+01    22s\n",
      "  30   1.70334129e+09  1.69905397e+09  1.31e-04 8.40e-05  5.07e+00    22s\n",
      "  31   1.70216017e+09  1.69934011e+09  8.82e-05 4.25e-05  3.34e+00    23s\n",
      "  32   1.70036802e+09  1.69955802e+09  2.32e-05 1.69e-05  9.59e-01    23s\n",
      "  33   1.69972916e+09  1.69965001e+09  1.76e-06 8.64e-07  9.38e-02    24s\n",
      "  34   1.69966763e+09  1.69965802e+09  1.84e-07 5.13e-08  1.14e-02    26s\n",
      "  35   1.69965921e+09  1.69965869e+09  1.04e-07 2.51e-08  6.22e-04    27s\n",
      "\n",
      "Barrier solved model in 35 iterations and 27.25 seconds (16.75 work units)\n",
      "Optimal objective 1.69965921e+09\n",
      "\n",
      "\n",
      "User-callback calls 1899, time in user-callback 0.01 sec\n"
     ]
    }
   ],
   "source": [
    "MacroEnergy.set_optimizer(model, Gurobi.Optimizer);\n",
    "MacroEnergy.set_optimizer_attributes(model, \"BarConvTol\"=>1e-3,\"Crossover\" => 0, \"Method\" => 2)\n",
    "MacroEnergy.optimize!(model)"
   ]
  },
  {
   "cell_type": "code",
   "execution_count": 12,
   "metadata": {},
   "outputs": [
    {
     "data": {
      "text/html": [
       "<div><div style = \"float: left;\"><span>18×8 DataFrame</span></div><div style = \"clear: both;\"></div></div><div class = \"data-frame\" style = \"overflow-x: scroll;\"><table class = \"data-frame\" style = \"margin-bottom: 6px;\"><thead><tr class = \"header\"><th class = \"rowNumber\" style = \"font-weight: bold; text-align: right;\">Row</th><th style = \"text-align: left;\">commodity</th><th style = \"text-align: left;\">commodity_subtype</th><th style = \"text-align: left;\">zone</th><th style = \"text-align: left;\">resource_id</th><th style = \"text-align: left;\">component_id</th><th style = \"text-align: left;\">type</th><th style = \"text-align: left;\">variable</th><th style = \"text-align: left;\">value</th></tr><tr class = \"subheader headerLastRow\"><th class = \"rowNumber\" style = \"font-weight: bold; text-align: right;\"></th><th title = \"Symbol\" style = \"text-align: left;\">Symbol</th><th title = \"Symbol\" style = \"text-align: left;\">Symbol</th><th title = \"Symbol\" style = \"text-align: left;\">Symbol</th><th title = \"Symbol\" style = \"text-align: left;\">Symbol</th><th title = \"Symbol\" style = \"text-align: left;\">Symbol</th><th title = \"Symbol\" style = \"text-align: left;\">Symbol</th><th title = \"Symbol\" style = \"text-align: left;\">Symbol</th><th title = \"Float64\" style = \"text-align: left;\">Float64</th></tr></thead><tbody><tr><td class = \"rowNumber\" style = \"font-weight: bold; text-align: right;\">1</td><td style = \"text-align: left;\">Cement</td><td style = \"text-align: left;\">capacity</td><td style = \"text-align: left;\">cement_produced</td><td style = \"text-align: left;\">cement_MA</td><td style = \"text-align: left;\">cement_MA_cement_edge</td><td style = \"text-align: left;\">MacroEnergy.ElectrochemCementPlant_test{Nothing}</td><td style = \"text-align: left;\">capacity</td><td style = \"text-align: right;\">102.357</td></tr><tr><td class = \"rowNumber\" style = \"font-weight: bold; text-align: right;\">2</td><td style = \"text-align: left;\">Cement</td><td style = \"text-align: left;\">capacity</td><td style = \"text-align: left;\">cement_produced</td><td style = \"text-align: left;\">cement_CT</td><td style = \"text-align: left;\">cement_CT_cement_edge</td><td style = \"text-align: left;\">MacroEnergy.ElectrochemCementPlant_test{Nothing}</td><td style = \"text-align: left;\">capacity</td><td style = \"text-align: right;\">82.0169</td></tr><tr><td class = \"rowNumber\" style = \"font-weight: bold; text-align: right;\">3</td><td style = \"text-align: left;\">Cement</td><td style = \"text-align: left;\">capacity</td><td style = \"text-align: left;\">cement_produced</td><td style = \"text-align: left;\">cement_ME</td><td style = \"text-align: left;\">cement_ME_cement_edge</td><td style = \"text-align: left;\">MacroEnergy.ElectrochemCementPlant_test{Nothing}</td><td style = \"text-align: left;\">capacity</td><td style = \"text-align: right;\">81.9878</td></tr><tr><td class = \"rowNumber\" style = \"font-weight: bold; text-align: right;\">4</td><td style = \"text-align: left;\">Cement</td><td style = \"text-align: left;\">capacity</td><td style = \"text-align: left;\">cement_produced</td><td style = \"text-align: left;\">cement_MA</td><td style = \"text-align: left;\">cement_MA_cement_edge</td><td style = \"text-align: left;\">MacroEnergy.ElectrochemCementPlant_test{Nothing}</td><td style = \"text-align: left;\">capacity</td><td style = \"text-align: right;\">0.00031699</td></tr><tr><td class = \"rowNumber\" style = \"font-weight: bold; text-align: right;\">5</td><td style = \"text-align: left;\">Cement</td><td style = \"text-align: left;\">capacity</td><td style = \"text-align: left;\">cement_produced</td><td style = \"text-align: left;\">cement_CT</td><td style = \"text-align: left;\">cement_CT_cement_edge</td><td style = \"text-align: left;\">MacroEnergy.ElectrochemCementPlant_test{Nothing}</td><td style = \"text-align: left;\">capacity</td><td style = \"text-align: right;\">0.000318261</td></tr><tr><td class = \"rowNumber\" style = \"font-weight: bold; text-align: right;\">6</td><td style = \"text-align: left;\">Cement</td><td style = \"text-align: left;\">capacity</td><td style = \"text-align: left;\">cement_produced</td><td style = \"text-align: left;\">cement_ME</td><td style = \"text-align: left;\">cement_ME_cement_edge</td><td style = \"text-align: left;\">MacroEnergy.ElectrochemCementPlant_test{Nothing}</td><td style = \"text-align: left;\">capacity</td><td style = \"text-align: right;\">0.000323883</td></tr><tr><td class = \"rowNumber\" style = \"font-weight: bold; text-align: right;\">7</td><td style = \"text-align: left;\">Electricity</td><td style = \"text-align: left;\">capacity</td><td style = \"text-align: left;\">elec_MA_elec_CT</td><td style = \"text-align: left;\">MA_to_CT</td><td style = \"text-align: left;\">MA_to_CT_elec_edge</td><td style = \"text-align: left;\">PowerLine</td><td style = \"text-align: left;\">capacity</td><td style = \"text-align: right;\">2950.0</td></tr><tr><td class = \"rowNumber\" style = \"font-weight: bold; text-align: right;\">8</td><td style = \"text-align: left;\">Electricity</td><td style = \"text-align: left;\">capacity</td><td style = \"text-align: left;\">elec_MA_elec_ME</td><td style = \"text-align: left;\">MA_to_ME</td><td style = \"text-align: left;\">MA_to_ME_elec_edge</td><td style = \"text-align: left;\">PowerLine</td><td style = \"text-align: left;\">capacity</td><td style = \"text-align: right;\">2000.0</td></tr><tr><td class = \"rowNumber\" style = \"font-weight: bold; text-align: right;\">9</td><td style = \"text-align: left;\">Electricity</td><td style = \"text-align: left;\">capacity</td><td style = \"text-align: left;\">elec_MA</td><td style = \"text-align: left;\">storage_MA</td><td style = \"text-align: left;\">storage_MA_discharge_edge</td><td style = \"text-align: left;\">Battery</td><td style = \"text-align: left;\">capacity</td><td style = \"text-align: right;\">4976.26</td></tr><tr><td class = \"rowNumber\" style = \"font-weight: bold; text-align: right;\">10</td><td style = \"text-align: left;\">Electricity</td><td style = \"text-align: left;\">capacity</td><td style = \"text-align: left;\">elec_CT</td><td style = \"text-align: left;\">storage_CT</td><td style = \"text-align: left;\">storage_CT_discharge_edge</td><td style = \"text-align: left;\">Battery</td><td style = \"text-align: left;\">capacity</td><td style = \"text-align: right;\">2034.94</td></tr><tr><td class = \"rowNumber\" style = \"font-weight: bold; text-align: right;\">11</td><td style = \"text-align: left;\">Electricity</td><td style = \"text-align: left;\">capacity</td><td style = \"text-align: left;\">elec_ME</td><td style = \"text-align: left;\">storage_ME</td><td style = \"text-align: left;\">storage_ME_discharge_edge</td><td style = \"text-align: left;\">Battery</td><td style = \"text-align: left;\">capacity</td><td style = \"text-align: right;\">3122.65</td></tr><tr><td class = \"rowNumber\" style = \"font-weight: bold; text-align: right;\">12</td><td style = \"text-align: left;\">Electricity</td><td style = \"text-align: left;\">capacity</td><td style = \"text-align: left;\">elec_MA</td><td style = \"text-align: left;\">ng_MA</td><td style = \"text-align: left;\">ng_MA_elec_edge</td><td style = \"text-align: left;\">ThermalPower{NaturalGas}</td><td style = \"text-align: left;\">capacity</td><td style = \"text-align: right;\">7890.14</td></tr><tr><td class = \"rowNumber\" style = \"font-weight: bold; text-align: right;\">13</td><td style = \"text-align: left;\">Electricity</td><td style = \"text-align: left;\">capacity</td><td style = \"text-align: left;\">elec_CT</td><td style = \"text-align: left;\">ng_CT</td><td style = \"text-align: left;\">ng_CT_elec_edge</td><td style = \"text-align: left;\">ThermalPower{NaturalGas}</td><td style = \"text-align: left;\">capacity</td><td style = \"text-align: right;\">5674.69</td></tr><tr><td class = \"rowNumber\" style = \"font-weight: bold; text-align: right;\">14</td><td style = \"text-align: left;\">Electricity</td><td style = \"text-align: left;\">capacity</td><td style = \"text-align: left;\">elec_ME</td><td style = \"text-align: left;\">ng_ME</td><td style = \"text-align: left;\">ng_ME_elec_edge</td><td style = \"text-align: left;\">ThermalPower{NaturalGas}</td><td style = \"text-align: left;\">capacity</td><td style = \"text-align: right;\">0.00327442</td></tr><tr><td class = \"rowNumber\" style = \"font-weight: bold; text-align: right;\">15</td><td style = \"text-align: left;\">Electricity</td><td style = \"text-align: left;\">capacity</td><td style = \"text-align: left;\">elec_MA</td><td style = \"text-align: left;\">solar_pv_MA</td><td style = \"text-align: left;\">solar_pv_MA_edge</td><td style = \"text-align: left;\">VRE</td><td style = \"text-align: left;\">capacity</td><td style = \"text-align: right;\">8.98464e-5</td></tr><tr><td class = \"rowNumber\" style = \"font-weight: bold; text-align: right;\">16</td><td style = \"text-align: left;\">Electricity</td><td style = \"text-align: left;\">capacity</td><td style = \"text-align: left;\">elec_CT</td><td style = \"text-align: left;\">solar_pv_CT</td><td style = \"text-align: left;\">solar_pv_CT_edge</td><td style = \"text-align: left;\">VRE</td><td style = \"text-align: left;\">capacity</td><td style = \"text-align: right;\">9.30274e-5</td></tr><tr><td class = \"rowNumber\" style = \"font-weight: bold; text-align: right;\">17</td><td style = \"text-align: left;\">Electricity</td><td style = \"text-align: left;\">capacity</td><td style = \"text-align: left;\">elec_CT</td><td style = \"text-align: left;\">onshore_wind_CT</td><td style = \"text-align: left;\">onshore_wind_CT_edge</td><td style = \"text-align: left;\">VRE</td><td style = \"text-align: left;\">capacity</td><td style = \"text-align: right;\">0.00017802</td></tr><tr><td class = \"rowNumber\" style = \"font-weight: bold; text-align: right;\">18</td><td style = \"text-align: left;\">Electricity</td><td style = \"text-align: left;\">capacity</td><td style = \"text-align: left;\">elec_ME</td><td style = \"text-align: left;\">onshore_wind_ME</td><td style = \"text-align: left;\">onshore_wind_ME_edge</td><td style = \"text-align: left;\">VRE</td><td style = \"text-align: left;\">capacity</td><td style = \"text-align: right;\">0.000153921</td></tr></tbody></table></div>"
      ],
      "text/latex": [
       "\\begin{tabular}{r|cccccc}\n",
       "\t& commodity & commodity\\_subtype & zone & resource\\_id & component\\_id & \\\\\n",
       "\t\\hline\n",
       "\t& Symbol & Symbol & Symbol & Symbol & Symbol & \\\\\n",
       "\t\\hline\n",
       "\t1 & Cement & capacity & cement\\_produced & cement\\_MA & cement\\_MA\\_cement\\_edge & $\\dots$ \\\\\n",
       "\t2 & Cement & capacity & cement\\_produced & cement\\_CT & cement\\_CT\\_cement\\_edge & $\\dots$ \\\\\n",
       "\t3 & Cement & capacity & cement\\_produced & cement\\_ME & cement\\_ME\\_cement\\_edge & $\\dots$ \\\\\n",
       "\t4 & Cement & capacity & cement\\_produced & cement\\_MA & cement\\_MA\\_cement\\_edge & $\\dots$ \\\\\n",
       "\t5 & Cement & capacity & cement\\_produced & cement\\_CT & cement\\_CT\\_cement\\_edge & $\\dots$ \\\\\n",
       "\t6 & Cement & capacity & cement\\_produced & cement\\_ME & cement\\_ME\\_cement\\_edge & $\\dots$ \\\\\n",
       "\t7 & Electricity & capacity & elec\\_MA\\_elec\\_CT & MA\\_to\\_CT & MA\\_to\\_CT\\_elec\\_edge & $\\dots$ \\\\\n",
       "\t8 & Electricity & capacity & elec\\_MA\\_elec\\_ME & MA\\_to\\_ME & MA\\_to\\_ME\\_elec\\_edge & $\\dots$ \\\\\n",
       "\t9 & Electricity & capacity & elec\\_MA & storage\\_MA & storage\\_MA\\_discharge\\_edge & $\\dots$ \\\\\n",
       "\t10 & Electricity & capacity & elec\\_CT & storage\\_CT & storage\\_CT\\_discharge\\_edge & $\\dots$ \\\\\n",
       "\t11 & Electricity & capacity & elec\\_ME & storage\\_ME & storage\\_ME\\_discharge\\_edge & $\\dots$ \\\\\n",
       "\t12 & Electricity & capacity & elec\\_MA & ng\\_MA & ng\\_MA\\_elec\\_edge & $\\dots$ \\\\\n",
       "\t13 & Electricity & capacity & elec\\_CT & ng\\_CT & ng\\_CT\\_elec\\_edge & $\\dots$ \\\\\n",
       "\t14 & Electricity & capacity & elec\\_ME & ng\\_ME & ng\\_ME\\_elec\\_edge & $\\dots$ \\\\\n",
       "\t15 & Electricity & capacity & elec\\_MA & solar\\_pv\\_MA & solar\\_pv\\_MA\\_edge & $\\dots$ \\\\\n",
       "\t16 & Electricity & capacity & elec\\_CT & solar\\_pv\\_CT & solar\\_pv\\_CT\\_edge & $\\dots$ \\\\\n",
       "\t17 & Electricity & capacity & elec\\_CT & onshore\\_wind\\_CT & onshore\\_wind\\_CT\\_edge & $\\dots$ \\\\\n",
       "\t18 & Electricity & capacity & elec\\_ME & onshore\\_wind\\_ME & onshore\\_wind\\_ME\\_edge & $\\dots$ \\\\\n",
       "\\end{tabular}\n"
      ],
      "text/plain": [
       "\u001b[1m18×8 DataFrame\u001b[0m\n",
       "\u001b[1m Row \u001b[0m│\u001b[1m commodity   \u001b[0m\u001b[1m commodity_subtype \u001b[0m\u001b[1m zone            \u001b[0m\u001b[1m resource_id     \u001b[0m\u001b[1m compo\u001b[0m ⋯\n",
       "     │\u001b[90m Symbol      \u001b[0m\u001b[90m Symbol            \u001b[0m\u001b[90m Symbol          \u001b[0m\u001b[90m Symbol          \u001b[0m\u001b[90m Symbo\u001b[0m ⋯\n",
       "─────┼──────────────────────────────────────────────────────────────────────────\n",
       "   1 │ Cement       capacity           cement_produced  cement_MA        cemen ⋯\n",
       "   2 │ Cement       capacity           cement_produced  cement_CT        cemen\n",
       "   3 │ Cement       capacity           cement_produced  cement_ME        cemen\n",
       "   4 │ Cement       capacity           cement_produced  cement_MA        cemen\n",
       "   5 │ Cement       capacity           cement_produced  cement_CT        cemen ⋯\n",
       "   6 │ Cement       capacity           cement_produced  cement_ME        cemen\n",
       "   7 │ Electricity  capacity           elec_MA_elec_CT  MA_to_CT         MA_to\n",
       "   8 │ Electricity  capacity           elec_MA_elec_ME  MA_to_ME         MA_to\n",
       "  ⋮  │      ⋮               ⋮                 ⋮                ⋮               ⋱\n",
       "  12 │ Electricity  capacity           elec_MA          ng_MA            ng_MA ⋯\n",
       "  13 │ Electricity  capacity           elec_CT          ng_CT            ng_CT\n",
       "  14 │ Electricity  capacity           elec_ME          ng_ME            ng_ME\n",
       "  15 │ Electricity  capacity           elec_MA          solar_pv_MA      solar\n",
       "  16 │ Electricity  capacity           elec_CT          solar_pv_CT      solar ⋯\n",
       "  17 │ Electricity  capacity           elec_CT          onshore_wind_CT  onsho\n",
       "  18 │ Electricity  capacity           elec_ME          onshore_wind_ME  onsho\n",
       "\u001b[36m                                                    4 columns and 3 rows omitted\u001b[0m"
      ]
     },
     "metadata": {},
     "output_type": "display_data"
    }
   ],
   "source": [
    "capacity_results_df = MacroEnergy.get_optimal_capacity(system)"
   ]
  },
  {
   "cell_type": "code",
   "execution_count": 14,
   "metadata": {},
   "outputs": [
    {
     "data": {
      "text/plain": [
       "\"/home/al3792/Macro/ExampleSystems/three_zones_macro_genx_cement_retrofit/results/trad_cement_with_retrofit_capacity.csv\""
      ]
     },
     "metadata": {},
     "output_type": "display_data"
    }
   ],
   "source": [
    "results_dir = joinpath(case_path, \"results\")\n",
    "MacroEnergy.write_csv(joinpath(results_dir, \"trad_cement_with_retrofit_capacity.csv\"), capacity_results_df)"
   ]
  },
  {
   "cell_type": "code",
   "execution_count": 15,
   "metadata": {},
   "outputs": [
    {
     "data": {
      "text/html": [
       "<div><div style = \"float: left;\"><span>8760×27 DataFrame</span></div><div style = \"float: right;\"><span style = \"font-style: italic;\">8735 rows omitted</span></div><div style = \"clear: both;\"></div></div><div class = \"data-frame\" style = \"overflow-x: scroll;\"><table class = \"data-frame\" style = \"margin-bottom: 6px;\"><thead><tr class = \"header\"><th class = \"rowNumber\" style = \"font-weight: bold; text-align: right;\">Row</th><th style = \"text-align: left;\">trad_cement_MA_cement</th><th style = \"text-align: left;\">trad_cement_CT_cement</th><th style = \"text-align: left;\">trad_cement_ME_cement</th><th style = \"text-align: left;\">echem_cement_MA_cement</th><th style = \"text-align: left;\">echem_cement_CT_cement</th><th style = \"text-align: left;\">echem_cement_ME_cement</th><th style = \"text-align: left;\">trad_cement_MA_co2</th><th style = \"text-align: left;\">trad_cement_CT_co2</th><th style = \"text-align: left;\">trad_cement_ME_co2</th><th style = \"text-align: left;\">ng_MA_co2</th><th style = \"text-align: left;\">ng_CT_co2</th><th style = \"text-align: left;\">ng_ME_co2</th><th style = \"text-align: left;\">MA_to_CT</th><th style = \"text-align: left;\">MA_to_ME</th><th style = \"text-align: left;\">storage_MA_charge</th><th style = \"text-align: left;\">storage_MA_discharge</th><th style = \"text-align: left;\">storage_CT_charge</th><th style = \"text-align: left;\">storage_CT_discharge</th><th style = \"text-align: left;\">storage_ME_charge</th><th style = \"text-align: left;\">storage_ME_discharge</th><th style = \"text-align: left;\">ng_MA</th><th style = \"text-align: left;\">ng_CT</th><th style = \"text-align: left;\">ng_ME</th><th style = \"text-align: left;\">solar_pv_MA</th><th style = \"text-align: left;\">solar_pv_CT</th><th style = \"text-align: left;\">onshore_wind_CT</th><th style = \"text-align: left;\">onshore_wind_ME</th></tr><tr class = \"subheader headerLastRow\"><th class = \"rowNumber\" style = \"font-weight: bold; text-align: right;\"></th><th title = \"Float64\" style = \"text-align: left;\">Float64</th><th title = \"Float64\" style = \"text-align: left;\">Float64</th><th title = \"Float64\" style = \"text-align: left;\">Float64</th><th title = \"Float64\" style = \"text-align: left;\">Float64</th><th title = \"Float64\" style = \"text-align: left;\">Float64</th><th title = \"Float64\" style = \"text-align: left;\">Float64</th><th title = \"Float64\" style = \"text-align: left;\">Float64</th><th title = \"Float64\" style = \"text-align: left;\">Float64</th><th title = \"Float64\" style = \"text-align: left;\">Float64</th><th title = \"Float64\" style = \"text-align: left;\">Float64</th><th title = \"Float64\" style = \"text-align: left;\">Float64</th><th title = \"Float64\" style = \"text-align: left;\">Float64</th><th title = \"Float64\" style = \"text-align: left;\">Float64</th><th title = \"Float64\" style = \"text-align: left;\">Float64</th><th title = \"Float64\" style = \"text-align: left;\">Float64</th><th title = \"Float64\" style = \"text-align: left;\">Float64</th><th title = \"Float64\" style = \"text-align: left;\">Float64</th><th title = \"Float64\" style = \"text-align: left;\">Float64</th><th title = \"Float64\" style = \"text-align: left;\">Float64</th><th title = \"Float64\" style = \"text-align: left;\">Float64</th><th title = \"Float64\" style = \"text-align: left;\">Float64</th><th title = \"Float64\" style = \"text-align: left;\">Float64</th><th title = \"Float64\" style = \"text-align: left;\">Float64</th><th title = \"Float64\" style = \"text-align: left;\">Float64</th><th title = \"Float64\" style = \"text-align: left;\">Float64</th><th title = \"Float64\" style = \"text-align: left;\">Float64</th><th title = \"Float64\" style = \"text-align: left;\">Float64</th></tr></thead><tbody><tr><td class = \"rowNumber\" style = \"font-weight: bold; text-align: right;\">1</td><td style = \"text-align: right;\">38.9214</td><td style = \"text-align: right;\">39.0204</td><td style = \"text-align: right;\">38.636</td><td style = \"text-align: right;\">11.9166</td><td style = \"text-align: right;\">11.9488</td><td style = \"text-align: right;\">11.2007</td><td style = \"text-align: right;\">30.203</td><td style = \"text-align: right;\">30.2798</td><td style = \"text-align: right;\">29.9815</td><td style = \"text-align: right;\">1462.16</td><td style = \"text-align: right;\">765.648</td><td style = \"text-align: right;\">30.7871</td><td style = \"text-align: right;\">-1572.58</td><td style = \"text-align: right;\">1305.77</td><td style = \"text-align: right;\">-513.938</td><td style = \"text-align: right;\">51.7531</td><td style = \"text-align: right;\">-434.352</td><td style = \"text-align: right;\">49.034</td><td style = \"text-align: right;\">-417.648</td><td style = \"text-align: right;\">38.2477</td><td style = \"text-align: right;\">8075.37</td><td style = \"text-align: right;\">4228.22</td><td style = \"text-align: right;\">169.441</td><td style = \"text-align: right;\">0.0</td><td style = \"text-align: right;\">0.0</td><td style = \"text-align: right;\">1.75927</td><td style = \"text-align: right;\">2.65248</td></tr><tr><td class = \"rowNumber\" style = \"font-weight: bold; text-align: right;\">2</td><td style = \"text-align: right;\">38.8682</td><td style = \"text-align: right;\">38.9653</td><td style = \"text-align: right;\">38.589</td><td style = \"text-align: right;\">11.9529</td><td style = \"text-align: right;\">11.983</td><td style = \"text-align: right;\">11.2854</td><td style = \"text-align: right;\">30.1618</td><td style = \"text-align: right;\">30.237</td><td style = \"text-align: right;\">29.945</td><td style = \"text-align: right;\">1427.35</td><td style = \"text-align: right;\">713.469</td><td style = \"text-align: right;\">30.2976</td><td style = \"text-align: right;\">-1378.95</td><td style = \"text-align: right;\">1303.47</td><td style = \"text-align: right;\">-555.815</td><td style = \"text-align: right;\">51.2942</td><td style = \"text-align: right;\">-461.505</td><td style = \"text-align: right;\">48.7437</td><td style = \"text-align: right;\">-468.48</td><td style = \"text-align: right;\">36.5873</td><td style = \"text-align: right;\">7883.11</td><td style = \"text-align: right;\">3940.02</td><td style = \"text-align: right;\">166.752</td><td style = \"text-align: right;\">0.0</td><td style = \"text-align: right;\">0.0</td><td style = \"text-align: right;\">1.8366</td><td style = \"text-align: right;\">2.30175</td></tr><tr><td class = \"rowNumber\" style = \"font-weight: bold; text-align: right;\">3</td><td style = \"text-align: right;\">38.8382</td><td style = \"text-align: right;\">38.9345</td><td style = \"text-align: right;\">38.5602</td><td style = \"text-align: right;\">11.9785</td><td style = \"text-align: right;\">12.0108</td><td style = \"text-align: right;\">11.3216</td><td style = \"text-align: right;\">30.1384</td><td style = \"text-align: right;\">30.2132</td><td style = \"text-align: right;\">29.9227</td><td style = \"text-align: right;\">1398.81</td><td style = \"text-align: right;\">677.222</td><td style = \"text-align: right;\">30.169</td><td style = \"text-align: right;\">-1254.12</td><td style = \"text-align: right;\">1305.73</td><td style = \"text-align: right;\">-588.786</td><td style = \"text-align: right;\">52.035</td><td style = \"text-align: right;\">-477.742</td><td style = \"text-align: right;\">49.1857</td><td style = \"text-align: right;\">-513.711</td><td style = \"text-align: right;\">37.1968</td><td style = \"text-align: right;\">7725.48</td><td style = \"text-align: right;\">3739.82</td><td style = \"text-align: right;\">166.039</td><td style = \"text-align: right;\">0.0</td><td style = \"text-align: right;\">0.0</td><td style = \"text-align: right;\">2.05251</td><td style = \"text-align: right;\">2.45651</td></tr><tr><td class = \"rowNumber\" style = \"font-weight: bold; text-align: right;\">4</td><td style = \"text-align: right;\">38.8288</td><td style = \"text-align: right;\">38.9233</td><td style = \"text-align: right;\">38.5508</td><td style = \"text-align: right;\">11.9881</td><td style = \"text-align: right;\">12.0161</td><td style = \"text-align: right;\">11.3367</td><td style = \"text-align: right;\">30.1311</td><td style = \"text-align: right;\">30.2045</td><td style = \"text-align: right;\">29.9154</td><td style = \"text-align: right;\">1383.47</td><td style = \"text-align: right;\">659.165</td><td style = \"text-align: right;\">30.073</td><td style = \"text-align: right;\">-1195.34</td><td style = \"text-align: right;\">1305.85</td><td style = \"text-align: right;\">-605.49</td><td style = \"text-align: right;\">52.3687</td><td style = \"text-align: right;\">-482.051</td><td style = \"text-align: right;\">49.5148</td><td style = \"text-align: right;\">-535.036</td><td style = \"text-align: right;\">37.1372</td><td style = \"text-align: right;\">7640.76</td><td style = \"text-align: right;\">3640.1</td><td style = \"text-align: right;\">165.504</td><td style = \"text-align: right;\">0.0</td><td style = \"text-align: right;\">0.0</td><td style = \"text-align: right;\">1.99213</td><td style = \"text-align: right;\">2.2824</td></tr><tr><td class = \"rowNumber\" style = \"font-weight: bold; text-align: right;\">5</td><td style = \"text-align: right;\">38.8361</td><td style = \"text-align: right;\">38.9256</td><td style = \"text-align: right;\">38.5486</td><td style = \"text-align: right;\">12.0049</td><td style = \"text-align: right;\">12.0167</td><td style = \"text-align: right;\">11.3119</td><td style = \"text-align: right;\">30.1368</td><td style = \"text-align: right;\">30.2063</td><td style = \"text-align: right;\">29.9137</td><td style = \"text-align: right;\">1381.92</td><td style = \"text-align: right;\">656.363</td><td style = \"text-align: right;\">30.1135</td><td style = \"text-align: right;\">-1190.86</td><td style = \"text-align: right;\">1312.06</td><td style = \"text-align: right;\">-611.34</td><td style = \"text-align: right;\">52.4943</td><td style = \"text-align: right;\">-477.291</td><td style = \"text-align: right;\">49.3902</td><td style = \"text-align: right;\">-544.336</td><td style = \"text-align: right;\">37.2077</td><td style = \"text-align: right;\">7632.21</td><td style = \"text-align: right;\">3624.63</td><td style = \"text-align: right;\">165.736</td><td style = \"text-align: right;\">0.0</td><td style = \"text-align: right;\">0.0</td><td style = \"text-align: right;\">1.34761</td><td style = \"text-align: right;\">2.02097</td></tr><tr><td class = \"rowNumber\" style = \"font-weight: bold; text-align: right;\">6</td><td style = \"text-align: right;\">38.8274</td><td style = \"text-align: right;\">38.9172</td><td style = \"text-align: right;\">38.5318</td><td style = \"text-align: right;\">12.0273</td><td style = \"text-align: right;\">12.0443</td><td style = \"text-align: right;\">11.2959</td><td style = \"text-align: right;\">30.1301</td><td style = \"text-align: right;\">30.1997</td><td style = \"text-align: right;\">29.9007</td><td style = \"text-align: right;\">1392.68</td><td style = \"text-align: right;\">668.932</td><td style = \"text-align: right;\">29.9335</td><td style = \"text-align: right;\">-1242.73</td><td style = \"text-align: right;\">1313.44</td><td style = \"text-align: right;\">-596.859</td><td style = \"text-align: right;\">51.143</td><td style = \"text-align: right;\">-458.333</td><td style = \"text-align: right;\">48.2985</td><td style = \"text-align: right;\">-527.492</td><td style = \"text-align: right;\">36.1697</td><td style = \"text-align: right;\">7691.65</td><td style = \"text-align: right;\">3694.06</td><td style = \"text-align: right;\">164.751</td><td style = \"text-align: right;\">0.0</td><td style = \"text-align: right;\">0.0</td><td style = \"text-align: right;\">0.968561</td><td style = \"text-align: right;\">1.77971</td></tr><tr><td class = \"rowNumber\" style = \"font-weight: bold; text-align: right;\">7</td><td style = \"text-align: right;\">38.8597</td><td style = \"text-align: right;\">38.9514</td><td style = \"text-align: right;\">38.5669</td><td style = \"text-align: right;\">11.9851</td><td style = \"text-align: right;\">12.0063</td><td style = \"text-align: right;\">11.2743</td><td style = \"text-align: right;\">30.1551</td><td style = \"text-align: right;\">30.2263</td><td style = \"text-align: right;\">29.928</td><td style = \"text-align: right;\">1413.56</td><td style = \"text-align: right;\">697.542</td><td style = \"text-align: right;\">29.9425</td><td style = \"text-align: right;\">-1344.27</td><td style = \"text-align: right;\">1310.95</td><td style = \"text-align: right;\">-554.537</td><td style = \"text-align: right;\">51.3726</td><td style = \"text-align: right;\">-439.786</td><td style = \"text-align: right;\">48.0274</td><td style = \"text-align: right;\">-488.156</td><td style = \"text-align: right;\">35.4117</td><td style = \"text-align: right;\">7806.97</td><td style = \"text-align: right;\">3852.07</td><td style = \"text-align: right;\">164.797</td><td style = \"text-align: right;\">0.0</td><td style = \"text-align: right;\">0.0</td><td style = \"text-align: right;\">1.15704</td><td style = \"text-align: right;\">1.60935</td></tr><tr><td class = \"rowNumber\" style = \"font-weight: bold; text-align: right;\">8</td><td style = \"text-align: right;\">38.8908</td><td style = \"text-align: right;\">38.9853</td><td style = \"text-align: right;\">38.5986</td><td style = \"text-align: right;\">11.9509</td><td style = \"text-align: right;\">11.9767</td><td style = \"text-align: right;\">11.2414</td><td style = \"text-align: right;\">30.1793</td><td style = \"text-align: right;\">30.2526</td><td style = \"text-align: right;\">29.9526</td><td style = \"text-align: right;\">1432.25</td><td style = \"text-align: right;\">726.585</td><td style = \"text-align: right;\">30.1201</td><td style = \"text-align: right;\">-1447.74</td><td style = \"text-align: right;\">1312.26</td><td style = \"text-align: right;\">-522.904</td><td style = \"text-align: right;\">51.2979</td><td style = \"text-align: right;\">-429.47</td><td style = \"text-align: right;\">47.503</td><td style = \"text-align: right;\">-457.941</td><td style = \"text-align: right;\">35.8571</td><td style = \"text-align: right;\">7910.19</td><td style = \"text-align: right;\">4012.49</td><td style = \"text-align: right;\">165.773</td><td style = \"text-align: right;\">0.0</td><td style = \"text-align: right;\">0.0</td><td style = \"text-align: right;\">1.35001</td><td style = \"text-align: right;\">1.59763</td></tr><tr><td class = \"rowNumber\" style = \"font-weight: bold; text-align: right;\">9</td><td style = \"text-align: right;\">38.9052</td><td style = \"text-align: right;\">39.0083</td><td style = \"text-align: right;\">38.6032</td><td style = \"text-align: right;\">11.9467</td><td style = \"text-align: right;\">12.0079</td><td style = \"text-align: right;\">11.1725</td><td style = \"text-align: right;\">30.1905</td><td style = \"text-align: right;\">30.2705</td><td style = \"text-align: right;\">29.9561</td><td style = \"text-align: right;\">1463.43</td><td style = \"text-align: right;\">765.599</td><td style = \"text-align: right;\">30.0873</td><td style = \"text-align: right;\">-1605.78</td><td style = \"text-align: right;\">1311.7</td><td style = \"text-align: right;\">-450.769</td><td style = \"text-align: right;\">50.0001</td><td style = \"text-align: right;\">-372.497</td><td style = \"text-align: right;\">47.8228</td><td style = \"text-align: right;\">-405.257</td><td style = \"text-align: right;\">37.9537</td><td style = \"text-align: right;\">8082.41</td><td style = \"text-align: right;\">4227.99</td><td style = \"text-align: right;\">165.598</td><td style = \"text-align: right;\">0.342702</td><td style = \"text-align: right;\">0.420137</td><td style = \"text-align: right;\">1.25151</td><td style = \"text-align: right;\">1.40353</td></tr><tr><td class = \"rowNumber\" style = \"font-weight: bold; text-align: right;\">10</td><td style = \"text-align: right;\">38.9543</td><td style = \"text-align: right;\">39.0567</td><td style = \"text-align: right;\">38.7165</td><td style = \"text-align: right;\">11.7559</td><td style = \"text-align: right;\">11.7952</td><td style = \"text-align: right;\">11.3652</td><td style = \"text-align: right;\">30.2285</td><td style = \"text-align: right;\">30.308</td><td style = \"text-align: right;\">30.044</td><td style = \"text-align: right;\">1491.68</td><td style = \"text-align: right;\">807.562</td><td style = \"text-align: right;\">28.1391</td><td style = \"text-align: right;\">-1742.98</td><td style = \"text-align: right;\">1276.53</td><td style = \"text-align: right;\">-385.476</td><td style = \"text-align: right;\">49.5073</td><td style = \"text-align: right;\">-351.892</td><td style = \"text-align: right;\">46.1312</td><td style = \"text-align: right;\">-297.628</td><td style = \"text-align: right;\">31.8423</td><td style = \"text-align: right;\">8238.45</td><td style = \"text-align: right;\">4459.73</td><td style = \"text-align: right;\">154.869</td><td style = \"text-align: right;\">0.738745</td><td style = \"text-align: right;\">0.775504</td><td style = \"text-align: right;\">4.17016e-5</td><td style = \"text-align: right;\">0.199597</td></tr><tr><td class = \"rowNumber\" style = \"font-weight: bold; text-align: right;\">11</td><td style = \"text-align: right;\">39.0061</td><td style = \"text-align: right;\">39.1137</td><td style = \"text-align: right;\">38.7561</td><td style = \"text-align: right;\">11.7194</td><td style = \"text-align: right;\">11.7711</td><td style = \"text-align: right;\">11.2775</td><td style = \"text-align: right;\">30.2687</td><td style = \"text-align: right;\">30.3522</td><td style = \"text-align: right;\">30.0747</td><td style = \"text-align: right;\">1508.89</td><td style = \"text-align: right;\">833.666</td><td style = \"text-align: right;\">28.2845</td><td style = \"text-align: right;\">-1853.72</td><td style = \"text-align: right;\">1288.21</td><td style = \"text-align: right;\">-342.31</td><td style = \"text-align: right;\">49.9197</td><td style = \"text-align: right;\">-319.308</td><td style = \"text-align: right;\">46.7875</td><td style = \"text-align: right;\">-278.053</td><td style = \"text-align: right;\">31.7773</td><td style = \"text-align: right;\">8333.49</td><td style = \"text-align: right;\">4603.93</td><td style = \"text-align: right;\">155.641</td><td style = \"text-align: right;\">0.989135</td><td style = \"text-align: right;\">1.03156</td><td style = \"text-align: right;\">0.00012719</td><td style = \"text-align: right;\">0.0586916</td></tr><tr><td class = \"rowNumber\" style = \"font-weight: bold; text-align: right;\">12</td><td style = \"text-align: right;\">39.0491</td><td style = \"text-align: right;\">39.156</td><td style = \"text-align: right;\">38.7981</td><td style = \"text-align: right;\">11.6836</td><td style = \"text-align: right;\">11.7289</td><td style = \"text-align: right;\">11.2282</td><td style = \"text-align: right;\">30.3021</td><td style = \"text-align: right;\">30.385</td><td style = \"text-align: right;\">30.1073</td><td style = \"text-align: right;\">1515.12</td><td style = \"text-align: right;\">844.359</td><td style = \"text-align: right;\">28.7438</td><td style = \"text-align: right;\">-1899.61</td><td style = \"text-align: right;\">1293.78</td><td style = \"text-align: right;\">-330.112</td><td style = \"text-align: right;\">50.7728</td><td style = \"text-align: right;\">-308.765</td><td style = \"text-align: right;\">47.8034</td><td style = \"text-align: right;\">-275.177</td><td style = \"text-align: right;\">32.7543</td><td style = \"text-align: right;\">8367.9</td><td style = \"text-align: right;\">4663.0</td><td style = \"text-align: right;\">158.165</td><td style = \"text-align: right;\">1.14107</td><td style = \"text-align: right;\">1.20538</td><td style = \"text-align: right;\">0.0016179</td><td style = \"text-align: right;\">0.0150475</td></tr><tr><td class = \"rowNumber\" style = \"font-weight: bold; text-align: right;\">13</td><td style = \"text-align: right;\">39.0394</td><td style = \"text-align: right;\">39.1484</td><td style = \"text-align: right;\">38.781</td><td style = \"text-align: right;\">11.7055</td><td style = \"text-align: right;\">11.7654</td><td style = \"text-align: right;\">11.2042</td><td style = \"text-align: right;\">30.2945</td><td style = \"text-align: right;\">30.3791</td><td style = \"text-align: right;\">30.0941</td><td style = \"text-align: right;\">1518.64</td><td style = \"text-align: right;\">851.832</td><td style = \"text-align: right;\">28.7427</td><td style = \"text-align: right;\">-1930.67</td><td style = \"text-align: right;\">1298.76</td><td style = \"text-align: right;\">-333.841</td><td style = \"text-align: right;\">50.1327</td><td style = \"text-align: right;\">-304.977</td><td style = \"text-align: right;\">46.7196</td><td style = \"text-align: right;\">-274.438</td><td style = \"text-align: right;\">32.9927</td><td style = \"text-align: right;\">8387.31</td><td style = \"text-align: right;\">4704.28</td><td style = \"text-align: right;\">158.147</td><td style = \"text-align: right;\">1.05964</td><td style = \"text-align: right;\">1.09397</td><td style = \"text-align: right;\">0.259354</td><td style = \"text-align: right;\">0.0277312</td></tr><tr><td style = \"text-align: right;\">&vellip;</td><td style = \"text-align: right;\">&vellip;</td><td style = \"text-align: right;\">&vellip;</td><td style = \"text-align: right;\">&vellip;</td><td style = \"text-align: right;\">&vellip;</td><td style = \"text-align: right;\">&vellip;</td><td style = \"text-align: right;\">&vellip;</td><td style = \"text-align: right;\">&vellip;</td><td style = \"text-align: right;\">&vellip;</td><td style = \"text-align: right;\">&vellip;</td><td style = \"text-align: right;\">&vellip;</td><td style = \"text-align: right;\">&vellip;</td><td style = \"text-align: right;\">&vellip;</td><td style = \"text-align: right;\">&vellip;</td><td style = \"text-align: right;\">&vellip;</td><td style = \"text-align: right;\">&vellip;</td><td style = \"text-align: right;\">&vellip;</td><td style = \"text-align: right;\">&vellip;</td><td style = \"text-align: right;\">&vellip;</td><td style = \"text-align: right;\">&vellip;</td><td style = \"text-align: right;\">&vellip;</td><td style = \"text-align: right;\">&vellip;</td><td style = \"text-align: right;\">&vellip;</td><td style = \"text-align: right;\">&vellip;</td><td style = \"text-align: right;\">&vellip;</td><td style = \"text-align: right;\">&vellip;</td><td style = \"text-align: right;\">&vellip;</td><td style = \"text-align: right;\">&vellip;</td></tr><tr><td class = \"rowNumber\" style = \"font-weight: bold; text-align: right;\">8749</td><td style = \"text-align: right;\">58.7718</td><td style = \"text-align: right;\">59.1516</td><td style = \"text-align: right;\">58.372</td><td style = \"text-align: right;\">10.9807</td><td style = \"text-align: right;\">11.1794</td><td style = \"text-align: right;\">10.4866</td><td style = \"text-align: right;\">45.6069</td><td style = \"text-align: right;\">45.9017</td><td style = \"text-align: right;\">45.2967</td><td style = \"text-align: right;\">1607.96</td><td style = \"text-align: right;\">970.605</td><td style = \"text-align: right;\">36.8782</td><td style = \"text-align: right;\">-2558.04</td><td style = \"text-align: right;\">1066.49</td><td style = \"text-align: right;\">-37.5791</td><td style = \"text-align: right;\">425.172</td><td style = \"text-align: right;\">-37.1648</td><td style = \"text-align: right;\">326.232</td><td style = \"text-align: right;\">-23.9733</td><td style = \"text-align: right;\">245.143</td><td style = \"text-align: right;\">8880.72</td><td style = \"text-align: right;\">5360.35</td><td style = \"text-align: right;\">203.021</td><td style = \"text-align: right;\">0.717105</td><td style = \"text-align: right;\">0.811318</td><td style = \"text-align: right;\">2.84887</td><td style = \"text-align: right;\">1.80452</td></tr><tr><td class = \"rowNumber\" style = \"font-weight: bold; text-align: right;\">8750</td><td style = \"text-align: right;\">58.699</td><td style = \"text-align: right;\">59.0675</td><td style = \"text-align: right;\">58.2908</td><td style = \"text-align: right;\">11.0727</td><td style = \"text-align: right;\">11.249</td><td style = \"text-align: right;\">10.5633</td><td style = \"text-align: right;\">45.5504</td><td style = \"text-align: right;\">45.8363</td><td style = \"text-align: right;\">45.2337</td><td style = \"text-align: right;\">1607.37</td><td style = \"text-align: right;\">969.787</td><td style = \"text-align: right;\">36.4999</td><td style = \"text-align: right;\">-2531.76</td><td style = \"text-align: right;\">1095.55</td><td style = \"text-align: right;\">-39.3342</td><td style = \"text-align: right;\">305.746</td><td style = \"text-align: right;\">-39.187</td><td style = \"text-align: right;\">256.473</td><td style = \"text-align: right;\">-24.872</td><td style = \"text-align: right;\">195.207</td><td style = \"text-align: right;\">8877.41</td><td style = \"text-align: right;\">5355.84</td><td style = \"text-align: right;\">200.923</td><td style = \"text-align: right;\">0.734283</td><td style = \"text-align: right;\">0.802825</td><td style = \"text-align: right;\">2.00824</td><td style = \"text-align: right;\">1.82636</td></tr><tr><td class = \"rowNumber\" style = \"font-weight: bold; text-align: right;\">8751</td><td style = \"text-align: right;\">58.6334</td><td style = \"text-align: right;\">58.9929</td><td style = \"text-align: right;\">58.2145</td><td style = \"text-align: right;\">11.1576</td><td style = \"text-align: right;\">11.3636</td><td style = \"text-align: right;\">10.5803</td><td style = \"text-align: right;\">45.4995</td><td style = \"text-align: right;\">45.7785</td><td style = \"text-align: right;\">45.1744</td><td style = \"text-align: right;\">1606.6</td><td style = \"text-align: right;\">968.605</td><td style = \"text-align: right;\">36.2979</td><td style = \"text-align: right;\">-2514.5</td><td style = \"text-align: right;\">1113.1</td><td style = \"text-align: right;\">-42.7762</td><td style = \"text-align: right;\">236.431</td><td style = \"text-align: right;\">-42.2278</td><td style = \"text-align: right;\">217.952</td><td style = \"text-align: right;\">-26.1469</td><td style = \"text-align: right;\">164.179</td><td style = \"text-align: right;\">8873.2</td><td style = \"text-align: right;\">5349.31</td><td style = \"text-align: right;\">199.803</td><td style = \"text-align: right;\">0.683926</td><td style = \"text-align: right;\">0.70493</td><td style = \"text-align: right;\">1.16817</td><td style = \"text-align: right;\">1.72558</td></tr><tr><td class = \"rowNumber\" style = \"font-weight: bold; text-align: right;\">8752</td><td style = \"text-align: right;\">58.6499</td><td style = \"text-align: right;\">59.012</td><td style = \"text-align: right;\">58.2309</td><td style = \"text-align: right;\">11.1446</td><td style = \"text-align: right;\">11.351</td><td style = \"text-align: right;\">10.5539</td><td style = \"text-align: right;\">45.5123</td><td style = \"text-align: right;\">45.7933</td><td style = \"text-align: right;\">45.1872</td><td style = \"text-align: right;\">1606.96</td><td style = \"text-align: right;\">968.736</td><td style = \"text-align: right;\">36.1113</td><td style = \"text-align: right;\">-2524.87</td><td style = \"text-align: right;\">1103.53</td><td style = \"text-align: right;\">-42.3237</td><td style = \"text-align: right;\">245.22</td><td style = \"text-align: right;\">-40.7248</td><td style = \"text-align: right;\">235.522</td><td style = \"text-align: right;\">-25.4182</td><td style = \"text-align: right;\">178.291</td><td style = \"text-align: right;\">8875.15</td><td style = \"text-align: right;\">5350.02</td><td style = \"text-align: right;\">198.781</td><td style = \"text-align: right;\">0.510433</td><td style = \"text-align: right;\">0.46083</td><td style = \"text-align: right;\">0.980541</td><td style = \"text-align: right;\">1.42745</td></tr><tr><td class = \"rowNumber\" style = \"font-weight: bold; text-align: right;\">8753</td><td style = \"text-align: right;\">58.9298</td><td style = \"text-align: right;\">59.3395</td><td style = \"text-align: right;\">58.5571</td><td style = \"text-align: right;\">10.8147</td><td style = \"text-align: right;\">11.0466</td><td style = \"text-align: right;\">10.2545</td><td style = \"text-align: right;\">45.7295</td><td style = \"text-align: right;\">46.0474</td><td style = \"text-align: right;\">45.4403</td><td style = \"text-align: right;\">1607.84</td><td style = \"text-align: right;\">969.934</td><td style = \"text-align: right;\">36.7694</td><td style = \"text-align: right;\">-2572.78</td><td style = \"text-align: right;\">969.734</td><td style = \"text-align: right;\">-42.3549</td><td style = \"text-align: right;\">817.452</td><td style = \"text-align: right;\">-41.0993</td><td style = \"text-align: right;\">492.503</td><td style = \"text-align: right;\">-24.8965</td><td style = \"text-align: right;\">411.307</td><td style = \"text-align: right;\">8879.99</td><td style = \"text-align: right;\">5356.59</td><td style = \"text-align: right;\">202.404</td><td style = \"text-align: right;\">0.119586</td><td style = \"text-align: right;\">0.125993</td><td style = \"text-align: right;\">1.44127</td><td style = \"text-align: right;\">1.47566</td></tr><tr><td class = \"rowNumber\" style = \"font-weight: bold; text-align: right;\">8754</td><td style = \"text-align: right;\">59.0047</td><td style = \"text-align: right;\">59.4234</td><td style = \"text-align: right;\">58.6481</td><td style = \"text-align: right;\">10.7364</td><td style = \"text-align: right;\">10.9759</td><td style = \"text-align: right;\">10.1538</td><td style = \"text-align: right;\">45.7876</td><td style = \"text-align: right;\">46.1125</td><td style = \"text-align: right;\">45.511</td><td style = \"text-align: right;\">1607.51</td><td style = \"text-align: right;\">969.994</td><td style = \"text-align: right;\">36.7088</td><td style = \"text-align: right;\">-2575.61</td><td style = \"text-align: right;\">898.447</td><td style = \"text-align: right;\">-44.1802</td><td style = \"text-align: right;\">1426.93</td><td style = \"text-align: right;\">-44.1999</td><td style = \"text-align: right;\">691.835</td><td style = \"text-align: right;\">-27.9598</td><td style = \"text-align: right;\">578.743</td><td style = \"text-align: right;\">8878.19</td><td style = \"text-align: right;\">5356.91</td><td style = \"text-align: right;\">202.076</td><td style = \"text-align: right;\">0.0</td><td style = \"text-align: right;\">0.0</td><td style = \"text-align: right;\">2.70686</td><td style = \"text-align: right;\">1.51649</td></tr><tr><td class = \"rowNumber\" style = \"font-weight: bold; text-align: right;\">8755</td><td style = \"text-align: right;\">58.9538</td><td style = \"text-align: right;\">59.3866</td><td style = \"text-align: right;\">58.6054</td><td style = \"text-align: right;\">10.737</td><td style = \"text-align: right;\">11.0021</td><td style = \"text-align: right;\">10.2572</td><td style = \"text-align: right;\">45.7482</td><td style = \"text-align: right;\">46.084</td><td style = \"text-align: right;\">45.4778</td><td style = \"text-align: right;\">1607.63</td><td style = \"text-align: right;\">969.887</td><td style = \"text-align: right;\">36.456</td><td style = \"text-align: right;\">-2573.56</td><td style = \"text-align: right;\">910.732</td><td style = \"text-align: right;\">-42.2396</td><td style = \"text-align: right;\">1092.69</td><td style = \"text-align: right;\">-40.9091</td><td style = \"text-align: right;\">587.885</td><td style = \"text-align: right;\">-27.0914</td><td style = \"text-align: right;\">519.336</td><td style = \"text-align: right;\">8878.8</td><td style = \"text-align: right;\">5356.3</td><td style = \"text-align: right;\">200.697</td><td style = \"text-align: right;\">0.0</td><td style = \"text-align: right;\">0.0</td><td style = \"text-align: right;\">2.98422</td><td style = \"text-align: right;\">1.36158</td></tr><tr><td class = \"rowNumber\" style = \"font-weight: bold; text-align: right;\">8756</td><td style = \"text-align: right;\">58.7423</td><td style = \"text-align: right;\">59.0064</td><td style = \"text-align: right;\">58.371</td><td style = \"text-align: right;\">11.1002</td><td style = \"text-align: right;\">11.139</td><td style = \"text-align: right;\">10.5833</td><td style = \"text-align: right;\">45.584</td><td style = \"text-align: right;\">45.789</td><td style = \"text-align: right;\">45.2959</td><td style = \"text-align: right;\">1606.47</td><td style = \"text-align: right;\">968.516</td><td style = \"text-align: right;\">35.7334</td><td style = \"text-align: right;\">-1817.07</td><td style = \"text-align: right;\">995.929</td><td style = \"text-align: right;\">-43.9422</td><td style = \"text-align: right;\">304.196</td><td style = \"text-align: right;\">-41.4702</td><td style = \"text-align: right;\">336.561</td><td style = \"text-align: right;\">-26.069</td><td style = \"text-align: right;\">200.688</td><td style = \"text-align: right;\">8872.43</td><td style = \"text-align: right;\">5348.73</td><td style = \"text-align: right;\">196.714</td><td style = \"text-align: right;\">0.0</td><td style = \"text-align: right;\">0.0</td><td style = \"text-align: right;\">1.18548</td><td style = \"text-align: right;\">1.42835</td></tr><tr><td class = \"rowNumber\" style = \"font-weight: bold; text-align: right;\">8757</td><td style = \"text-align: right;\">58.1475</td><td style = \"text-align: right;\">58.4054</td><td style = \"text-align: right;\">57.7572</td><td style = \"text-align: right;\">11.7018</td><td style = \"text-align: right;\">11.7395</td><td style = \"text-align: right;\">11.1908</td><td style = \"text-align: right;\">45.1225</td><td style = \"text-align: right;\">45.3226</td><td style = \"text-align: right;\">44.8195</td><td style = \"text-align: right;\">1599.23</td><td style = \"text-align: right;\">960.474</td><td style = \"text-align: right;\">33.6016</td><td style = \"text-align: right;\">-1703.53</td><td style = \"text-align: right;\">1087.85</td><td style = \"text-align: right;\">-66.3665</td><td style = \"text-align: right;\">111.287</td><td style = \"text-align: right;\">-61.5392</td><td style = \"text-align: right;\">112.48</td><td style = \"text-align: right;\">-42.5114</td><td style = \"text-align: right;\">76.0871</td><td style = \"text-align: right;\">8832.42</td><td style = \"text-align: right;\">5304.31</td><td style = \"text-align: right;\">184.945</td><td style = \"text-align: right;\">0.0</td><td style = \"text-align: right;\">0.0</td><td style = \"text-align: right;\">1.40263</td><td style = \"text-align: right;\">1.51359</td></tr><tr><td class = \"rowNumber\" style = \"font-weight: bold; text-align: right;\">8758</td><td style = \"text-align: right;\">57.4097</td><td style = \"text-align: right;\">57.6471</td><td style = \"text-align: right;\">56.9895</td><td style = \"text-align: right;\">12.5128</td><td style = \"text-align: right;\">12.5439</td><td style = \"text-align: right;\">11.8392</td><td style = \"text-align: right;\">44.5499</td><td style = \"text-align: right;\">44.7342</td><td style = \"text-align: right;\">44.2238</td><td style = \"text-align: right;\">1576.15</td><td style = \"text-align: right;\">932.652</td><td style = \"text-align: right;\">31.6898</td><td style = \"text-align: right;\">-1587.55</td><td style = \"text-align: right;\">1141.58</td><td style = \"text-align: right;\">-158.812</td><td style = \"text-align: right;\">59.522</td><td style = \"text-align: right;\">-138.183</td><td style = \"text-align: right;\">59.6137</td><td style = \"text-align: right;\">-110.616</td><td style = \"text-align: right;\">42.2853</td><td style = \"text-align: right;\">8704.94</td><td style = \"text-align: right;\">5150.64</td><td style = \"text-align: right;\">174.386</td><td style = \"text-align: right;\">0.0</td><td style = \"text-align: right;\">0.0</td><td style = \"text-align: right;\">1.18902</td><td style = \"text-align: right;\">1.51219</td></tr><tr><td class = \"rowNumber\" style = \"font-weight: bold; text-align: right;\">8759</td><td style = \"text-align: right;\">57.0975</td><td style = \"text-align: right;\">57.3387</td><td style = \"text-align: right;\">56.6703</td><td style = \"text-align: right;\">12.8009</td><td style = \"text-align: right;\">12.8418</td><td style = \"text-align: right;\">12.193</td><td style = \"text-align: right;\">44.3076</td><td style = \"text-align: right;\">44.4948</td><td style = \"text-align: right;\">43.9762</td><td style = \"text-align: right;\">1547.76</td><td style = \"text-align: right;\">895.119</td><td style = \"text-align: right;\">30.7437</td><td style = \"text-align: right;\">-1445.07</td><td style = \"text-align: right;\">1191.86</td><td style = \"text-align: right;\">-269.3</td><td style = \"text-align: right;\">53.1559</td><td style = \"text-align: right;\">-235.996</td><td style = \"text-align: right;\">51.1746</td><td style = \"text-align: right;\">-211.953</td><td style = \"text-align: right;\">36.1367</td><td style = \"text-align: right;\">8548.12</td><td style = \"text-align: right;\">4943.31</td><td style = \"text-align: right;\">169.177</td><td style = \"text-align: right;\">0.0</td><td style = \"text-align: right;\">0.0</td><td style = \"text-align: right;\">1.88475</td><td style = \"text-align: right;\">1.63308</td></tr><tr><td class = \"rowNumber\" style = \"font-weight: bold; text-align: right;\">8760</td><td style = \"text-align: right;\">56.9467</td><td style = \"text-align: right;\">57.1808</td><td style = \"text-align: right;\">56.5003</td><td style = \"text-align: right;\">12.9873</td><td style = \"text-align: right;\">13.0229</td><td style = \"text-align: right;\">12.3042</td><td style = \"text-align: right;\">44.1906</td><td style = \"text-align: right;\">44.3723</td><td style = \"text-align: right;\">43.8442</td><td style = \"text-align: right;\">1516.71</td><td style = \"text-align: right;\">849.087</td><td style = \"text-align: right;\">30.8985</td><td style = \"text-align: right;\">-1285.11</td><td style = \"text-align: right;\">1229.49</td><td style = \"text-align: right;\">-360.432</td><td style = \"text-align: right;\">51.6937</td><td style = \"text-align: right;\">-314.427</td><td style = \"text-align: right;\">49.1344</td><td style = \"text-align: right;\">-314.498</td><td style = \"text-align: right;\">37.5973</td><td style = \"text-align: right;\">8376.67</td><td style = \"text-align: right;\">4689.08</td><td style = \"text-align: right;\">170.035</td><td style = \"text-align: right;\">0.0</td><td style = \"text-align: right;\">0.0</td><td style = \"text-align: right;\">1.98934</td><td style = \"text-align: right;\">2.44463</td></tr></tbody></table></div>"
      ],
      "text/latex": [
       "\\begin{tabular}{r|ccccc}\n",
       "\t& trad\\_cement\\_MA\\_cement & trad\\_cement\\_CT\\_cement & trad\\_cement\\_ME\\_cement & echem\\_cement\\_MA\\_cement & \\\\\n",
       "\t\\hline\n",
       "\t& Float64 & Float64 & Float64 & Float64 & \\\\\n",
       "\t\\hline\n",
       "\t1 & 38.9214 & 39.0204 & 38.636 & 11.9166 & $\\dots$ \\\\\n",
       "\t2 & 38.8682 & 38.9653 & 38.589 & 11.9529 & $\\dots$ \\\\\n",
       "\t3 & 38.8382 & 38.9345 & 38.5602 & 11.9785 & $\\dots$ \\\\\n",
       "\t4 & 38.8288 & 38.9233 & 38.5508 & 11.9881 & $\\dots$ \\\\\n",
       "\t5 & 38.8361 & 38.9256 & 38.5486 & 12.0049 & $\\dots$ \\\\\n",
       "\t6 & 38.8274 & 38.9172 & 38.5318 & 12.0273 & $\\dots$ \\\\\n",
       "\t7 & 38.8597 & 38.9514 & 38.5669 & 11.9851 & $\\dots$ \\\\\n",
       "\t8 & 38.8908 & 38.9853 & 38.5986 & 11.9509 & $\\dots$ \\\\\n",
       "\t9 & 38.9052 & 39.0083 & 38.6032 & 11.9467 & $\\dots$ \\\\\n",
       "\t10 & 38.9543 & 39.0567 & 38.7165 & 11.7559 & $\\dots$ \\\\\n",
       "\t11 & 39.0061 & 39.1137 & 38.7561 & 11.7194 & $\\dots$ \\\\\n",
       "\t12 & 39.0491 & 39.156 & 38.7981 & 11.6836 & $\\dots$ \\\\\n",
       "\t13 & 39.0394 & 39.1484 & 38.781 & 11.7055 & $\\dots$ \\\\\n",
       "\t14 & 39.0279 & 39.1478 & 38.7786 & 11.6728 & $\\dots$ \\\\\n",
       "\t15 & 39.0074 & 39.1238 & 38.7546 & 11.7054 & $\\dots$ \\\\\n",
       "\t16 & 39.0293 & 39.1462 & 38.7806 & 11.6766 & $\\dots$ \\\\\n",
       "\t17 & 39.2397 & 39.3714 & 38.984 & 11.4892 & $\\dots$ \\\\\n",
       "\t18 & 40.1289 & 40.2866 & 39.86 & 10.6266 & $\\dots$ \\\\\n",
       "\t19 & 40.0392 & 40.1985 & 39.7765 & 10.7048 & $\\dots$ \\\\\n",
       "\t20 & 39.6211 & 39.7592 & 39.3496 & 11.1775 & $\\dots$ \\\\\n",
       "\t21 & 39.329 & 39.4575 & 39.059 & 11.4651 & $\\dots$ \\\\\n",
       "\t22 & 39.1673 & 39.2855 & 38.8738 & 11.6645 & $\\dots$ \\\\\n",
       "\t23 & 39.0755 & 39.1889 & 38.7653 & 11.7616 & $\\dots$ \\\\\n",
       "\t24 & 39.0187 & 39.1274 & 38.6923 & 11.8367 & $\\dots$ \\\\\n",
       "\t$\\dots$ & $\\dots$ & $\\dots$ & $\\dots$ & $\\dots$ &  \\\\\n",
       "\\end{tabular}\n"
      ],
      "text/plain": [
       "\u001b[1m8760×27 DataFrame\u001b[0m\n",
       "\u001b[1m  Row \u001b[0m│\u001b[1m trad_cement_MA_cement \u001b[0m\u001b[1m trad_cement_CT_cement \u001b[0m\u001b[1m trad_cement_ME_cement \u001b[0m\u001b[1m e\u001b[0m ⋯\n",
       "      │\u001b[90m Float64               \u001b[0m\u001b[90m Float64               \u001b[0m\u001b[90m Float64               \u001b[0m\u001b[90m F\u001b[0m ⋯\n",
       "──────┼─────────────────────────────────────────────────────────────────────────\n",
       "    1 │               38.9214                39.0204                38.636     ⋯\n",
       "    2 │               38.8682                38.9653                38.589\n",
       "    3 │               38.8382                38.9345                38.5602\n",
       "    4 │               38.8288                38.9233                38.5508\n",
       "    5 │               38.8361                38.9256                38.5486    ⋯\n",
       "    6 │               38.8274                38.9172                38.5318\n",
       "    7 │               38.8597                38.9514                38.5669\n",
       "    8 │               38.8908                38.9853                38.5986\n",
       "  ⋮   │           ⋮                      ⋮                      ⋮              ⋱\n",
       " 8754 │               59.0047                59.4234                58.6481    ⋯\n",
       " 8755 │               58.9538                59.3866                58.6054\n",
       " 8756 │               58.7423                59.0064                58.371\n",
       " 8757 │               58.1475                58.4054                57.7572\n",
       " 8758 │               57.4097                57.6471                56.9895    ⋯\n",
       " 8759 │               57.0975                57.3387                56.6703\n",
       " 8760 │               56.9467                57.1808                56.5003\n",
       "\u001b[36m                                                24 columns and 8745 rows omitted\u001b[0m"
      ]
     },
     "metadata": {},
     "output_type": "display_data"
    }
   ],
   "source": [
    "## 8760 results\n",
    "results_8760_df = DataFrame()\n",
    "    # Get flows of each asset\n",
    "for i in eachindex(system.assets)\n",
    "    get_flows(system.assets[i], results_8760_df)\n",
    "end\n",
    "\n",
    "    # Function to get sorting key: returns the index of the first matching suffix or a large number\n",
    "suffixes = [\"cement\", \"co2\"] # Define suffixes to reorder dataframe by\n",
    "function suffix_sort_key(name)\n",
    "    idx = findfirst(s -> endswith(name, s), suffixes)\n",
    "    return isnothing(idx) ? length(suffixes) + 1 : idx  # Default to placing non-matching names at the end\n",
    "end\n",
    "\n",
    "    # Resort column order based on suffix\n",
    "sorted_cols = sort(names(results_8760_df), by=suffix_sort_key) # Sort column names based on suffix priority\n",
    "results_8760_df = results_8760_df[:, sorted_cols] # Reorder column names\n",
    "\n",
    "#MacroEnergy.write_csv(joinpath(results_dir, \"trad_cement_with_retrofit_8760_results.csv\"), results_8760_df)"
   ]
  },
  {
   "cell_type": "code",
   "execution_count": 9,
   "metadata": {},
   "outputs": [
    {
     "data": {
      "text/plain": [
       "\"/home/al3792/Macro/ExampleSystems/three_zones_macro_genx_cement_retrofit/results\""
      ]
     },
     "metadata": {},
     "output_type": "display_data"
    }
   ],
   "source": [
    "## System results\n",
    "co2_node = MacroEnergy.get_nodes_sametype(system.locations, CO2)[1] # There is only 1 CO2 node\n",
    "co2_captured_node = MacroEnergy.get_nodes_sametype(system.locations, CO2Captured)[1]\n",
    "system_results_df = DataFrame(\n",
    "    objective_value = MacroEnergy.objective_value(model),\n",
    "    co2_emissions = MacroEnergy.value(sum(co2_captured_node.operation_expr[:exogenous])),\n",
    "    #co2_captured = MacroEnergy.value(sum(co2_node.operation_expr[:emissions])),\n",
    ")\n",
    "mkpath(results_dir)\n",
    "#MacroEnergy.write_csv(joinpath(results_dir,\"trad_cement_with_retrofit_system_results.csv\"), system_results_df)"
   ]
  },
  {
   "cell_type": "code",
   "execution_count": 11,
   "metadata": {},
   "outputs": [
    {
     "data": {
      "text/html": [
       "<div><div style = \"float: left;\"><span>1×2 DataFrame</span></div><div style = \"clear: both;\"></div></div><div class = \"data-frame\" style = \"overflow-x: scroll;\"><table class = \"data-frame\" style = \"margin-bottom: 6px;\"><thead><tr class = \"header\"><th class = \"rowNumber\" style = \"font-weight: bold; text-align: right;\">Row</th><th style = \"text-align: left;\">objective_value</th><th style = \"text-align: left;\">co2_emissions</th></tr><tr class = \"subheader headerLastRow\"><th class = \"rowNumber\" style = \"font-weight: bold; text-align: right;\"></th><th title = \"Float64\" style = \"text-align: left;\">Float64</th><th title = \"Float64\" style = \"text-align: left;\">Float64</th></tr></thead><tbody><tr><td class = \"rowNumber\" style = \"font-weight: bold; text-align: right;\">1</td><td style = \"text-align: right;\">1.78832e9</td><td style = \"text-align: right;\">0.0</td></tr></tbody></table></div>"
      ],
      "text/latex": [
       "\\begin{tabular}{r|cc}\n",
       "\t& objective\\_value & co2\\_emissions\\\\\n",
       "\t\\hline\n",
       "\t& Float64 & Float64\\\\\n",
       "\t\\hline\n",
       "\t1 & 1.78832e9 & 0.0 \\\\\n",
       "\\end{tabular}\n"
      ],
      "text/plain": [
       "\u001b[1m1×2 DataFrame\u001b[0m\n",
       "\u001b[1m Row \u001b[0m│\u001b[1m objective_value \u001b[0m\u001b[1m co2_emissions \u001b[0m\n",
       "     │\u001b[90m Float64         \u001b[0m\u001b[90m Float64       \u001b[0m\n",
       "─────┼────────────────────────────────\n",
       "   1 │       1.78832e9            0.0"
      ]
     },
     "metadata": {},
     "output_type": "display_data"
    }
   ],
   "source": [
    "system_results_df"
   ]
  },
  {
   "cell_type": "code",
   "execution_count": null,
   "metadata": {},
   "outputs": [],
   "source": []
  }
 ],
 "metadata": {
  "kernelspec": {
   "display_name": "Julia 1.11.1",
   "language": "julia",
   "name": "julia-1.11"
  },
  "language_info": {
   "file_extension": ".jl",
   "mimetype": "application/julia",
   "name": "julia",
   "version": "1.11.1"
  }
 },
 "nbformat": 4,
 "nbformat_minor": 2
}
