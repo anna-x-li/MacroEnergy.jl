{
 "cells": [
  {
   "cell_type": "code",
   "execution_count": 1,
   "metadata": {},
   "outputs": [
    {
     "name": "stderr",
     "output_type": "stream",
     "text": [
      "\u001b[32m\u001b[1m  Activating\u001b[22m\u001b[39m project at `~/Macro`\n"
     ]
    }
   ],
   "source": [
    "using Pkg\n",
    "using Revise\n",
    "Pkg.activate(dirname(dirname(@__DIR__)))\n",
    "using MacroEnergy\n",
    "using Gurobi\n",
    "using Plots\n",
    "using DataFrames, CSV\n",
    "using BenchmarkTools\n",
    "#using JLD2, FileIO\n",
    "using JuMP"
   ]
  },
  {
   "cell_type": "code",
   "execution_count": 6,
   "metadata": {},
   "outputs": [
    {
     "data": {
      "text/plain": [
       "get_flows (generic function with 7 methods)"
      ]
     },
     "metadata": {},
     "output_type": "display_data"
    }
   ],
   "source": [
    "# Function to get sorting key: returns the index of the first matching suffix or a large number\n",
    "function suffix_sort_key(name)\n",
    "    idx = findfirst(s -> endswith(name, s), suffixes)\n",
    "    return isnothing(idx) ? length(suffixes) + 1 : idx  # Default to placing non-matching names at the end\n",
    "end\n",
    "\n",
    "# Function to get flows for each type of asset\n",
    "function get_flows(asset::MacroEnergy.CementPlant, df::DataFrame)\n",
    "    df[:, \"trad_\" * string(asset.id) * \"_cement\"] = MacroEnergy.value.(MacroEnergy.flow(asset.cement_edge)).data\n",
    "    df[:, \"trad_\" * string(asset.id) * \"_co2\"] = MacroEnergy.value.(MacroEnergy.flow(asset.co2_edge)).data\n",
    "end\n",
    "\n",
    "function get_flows(asset::MacroEnergy.ElectrochemCementPlant, df::DataFrame)\n",
    "    df[:, \"echem_\" * string(asset.id) * \"_cement\"] = MacroEnergy.value.(MacroEnergy.flow(asset.cement_edge)).data\n",
    "end\n",
    "\n",
    "function get_flows(asset::ElectricDAC, df::DataFrame)\n",
    "    df[:, string(asset.id) * \"_co2\"] = MacroEnergy.value.(MacroEnergy.flow(asset.co2_edge)).data\n",
    "end\n",
    "\n",
    "function get_flows(asset::PowerLine, df::DataFrame)\n",
    "    df[:, asset.id] = MacroEnergy.value.(MacroEnergy.flow(asset.elec_edge)).data\n",
    "end\n",
    "\n",
    "function get_flows(asset::Battery, df::DataFrame)\n",
    "    df[:, string(asset.id) * \"_charge\"] = -1 * MacroEnergy.value.(MacroEnergy.flow(asset.charge_edge)).data\n",
    "    df[:, string(asset.id) * \"_discharge\"] = MacroEnergy.value.(MacroEnergy.flow(asset.discharge_edge)).data\n",
    "end\n",
    "\n",
    "function get_flows(asset::ThermalPower, df::DataFrame)\n",
    "    df[:, asset.id] = MacroEnergy.value.(MacroEnergy.flow(asset.elec_edge)).data\n",
    "    df[:, string(asset.id) * \"_co2\"] = MacroEnergy.value.(MacroEnergy.flow(asset.co2_edge)).data\n",
    "end\n",
    "\n",
    "function get_flows(asset::VRE, df::DataFrame)\n",
    "    df[:, asset.id] = MacroEnergy.value.(MacroEnergy.flow(asset.edge)).data\n",
    "end"
   ]
  },
  {
   "cell_type": "code",
   "execution_count": 4,
   "metadata": {},
   "outputs": [
    {
     "data": {
      "text/plain": [
       "false"
      ]
     },
     "metadata": {},
     "output_type": "display_data"
    }
   ],
   "source": [
    "case_path = @__DIR__\n",
    "lazy_load = false"
   ]
  },
  {
   "cell_type": "code",
   "execution_count": 5,
   "metadata": {},
   "outputs": [
    {
     "name": "stdout",
     "output_type": "stream",
     "text": [
      "###### ###### ######\n",
      "Running case at /home/al3792/Macro/ExampleSystems/three_zones_macro_genx_cement_no_retrofit\n"
     ]
    },
    {
     "name": "stderr",
     "output_type": "stream",
     "text": [
      "┌ Info: Loading system from /home/al3792/Macro/ExampleSystems/three_zones_macro_genx_cement_no_retrofit/system_data.json\n",
      "└ @ MacroEnergy /home/al3792/Macro/src/load_inputs/load_system.jl:18\n",
      "┌ Info: Loading system data\n",
      "└ @ MacroEnergy /home/al3792/Macro/src/load_inputs/load_system_data.jl:18\n",
      "┌ Info: Done loading system data. It took 0.0 seconds\n",
      "└ @ MacroEnergy /home/al3792/Macro/src/load_inputs/load_system_data.jl:26\n",
      "┌ Info: Generating system\n",
      "└ @ MacroEnergy /home/al3792/Macro/src/load_inputs/generate_system.jl:18\n",
      "┌ Warning: WeightTotal not found in time_data.json\n",
      "└ @ MacroEnergy /home/al3792/Macro/src/load_inputs/load_time_data.jl:81\n",
      "┌ Info: Using PeriodLength as default value for WeightTotal\n",
      "└ @ MacroEnergy /home/al3792/Macro/src/load_inputs/load_time_data.jl:82\n",
      "┌ Info: Done generating system. It took 0.64 seconds\n",
      "└ @ MacroEnergy /home/al3792/Macro/src/load_inputs/generate_system.jl:35\n",
      "┌ Info: Done loading system. It took 0.64 seconds\n",
      "└ @ MacroEnergy /home/al3792/Macro/src/load_inputs/load_system.jl:25\n",
      "┌ Info: Generating model\n",
      "└ @ MacroEnergy /home/al3792/Macro/src/generate_model.jl:3\n",
      "┌ Info:  -- Adding linking variables\n",
      "└ @ MacroEnergy /home/al3792/Macro/src/generate_model.jl:15\n",
      "┌ Info:  -- Defining available capacity\n",
      "└ @ MacroEnergy /home/al3792/Macro/src/generate_model.jl:18\n",
      "┌ Info:  -- Generating planning model\n",
      "└ @ MacroEnergy /home/al3792/Macro/src/generate_model.jl:21\n",
      "┌ Info:  -- Generating operational model\n",
      "└ @ MacroEnergy /home/al3792/Macro/src/generate_model.jl:24\n",
      "┌ Info:  -- Model generation complete. It took 35.54 seconds\n",
      "└ @ MacroEnergy /home/al3792/Macro/src/generate_model.jl:29\n"
     ]
    },
    {
     "name": "stdout",
     "output_type": "stream",
     "text": [
      "Set parameter LicenseID to value 197246\n",
      "Set parameter GURO_PAR_SPECIAL\n",
      "Set parameter TokenServer to value \"license.rc.princeton.edu\"\n",
      "Set parameter BarConvTol to value 0.001\n",
      "Set parameter Crossover to value 0\n",
      "Set parameter Method to value 2\n",
      "Set parameter Method to value 2\n",
      "Set parameter Crossover to value 0\n",
      "Set parameter BarConvTol to value 0.001\n",
      "Gurobi Optimizer version 12.0.0 build v12.0.0rc1 (linux64 - \"Red Hat Enterprise Linux 8.10 (Ootpa)\")\n",
      "\n",
      "CPU model: Intel(R) Xeon(R) Gold 6246R CPU @ 3.40GHz, instruction set [SSE2|AVX|AVX2|AVX512]\n",
      "Thread count: 32 physical cores, 32 logical processors, using up to 32 threads\n",
      "\n",
      "Non-default parameters:\n",
      "Method  2\n",
      "BarConvTol  0.001\n",
      "Crossover  0\n",
      "\n",
      "Optimize a model with 788420 rows, 525637 columns and 2635710 nonzeros\n",
      "Model fingerprint: 0x06697648\n",
      "Coefficient statistics:\n",
      "  Matrix range     [1e-03, 2e+04]\n",
      "  Objective range  [1e-01, 2e+07]\n",
      "  Bounds range     [1e+00, 1e+00]\n",
      "  RHS range        [2e+00, 2e+04]\n",
      "Presolve removed 368476 rows and 166998 columns\n",
      "Presolve time: 2.27s\n",
      "Presolved: 419944 rows, 358639 columns, 1916832 nonzeros\n",
      "Ordering time: 0.49s\n",
      "\n",
      "Barrier statistics:\n",
      " Dense cols : 15\n",
      " AA' NZ     : 3.100e+06\n",
      " Factor NZ  : 1.460e+07 (roughly 400 MB of memory)\n",
      " Factor Ops : 1.142e+09 (less than 1 second per iteration)\n",
      " Threads    : 32\n",
      "\n",
      "                  Objective                Residual\n",
      "Iter       Primal          Dual         Primal    Dual     Compl     Time\n",
      "   0   5.59071419e+13  1.62050000e+12  1.15e+04 1.02e+05  3.80e+09     4s\n",
      "   1   2.34925547e+13 -2.50153262e+13  5.65e+03 2.80e+05  1.12e+09     5s\n",
      "   2   2.07112860e+13 -4.27246737e+13  5.03e+03 1.43e+05  9.68e+08     6s\n",
      "   3   2.27203337e+12 -4.14951214e+13  4.78e+02 3.28e+04  1.57e+08     6s\n",
      "   4   9.69829625e+11 -1.31307409e+13  4.33e+01 5.31e+03  2.79e+07     7s\n",
      "   5   4.74618894e+11 -1.85781934e+12  2.86e-01 6.00e+02  3.68e+06     7s\n",
      "   6   1.27181446e+11 -3.28575292e+11  2.91e-04 1.19e+02  6.95e+05     8s\n",
      "   7   3.64695410e+10 -1.13559497e+11  9.41e-06 3.88e+01  2.25e+05     8s\n",
      "   8   2.23814899e+10 -4.05653397e+10  4.25e-06 1.39e+01  9.19e+04     9s\n",
      "   9   1.28470151e+10 -1.74143355e+10  1.67e-06 6.00e+00  4.29e+04    10s\n",
      "  10   7.01164384e+09 -4.31777905e+09  5.97e-07 2.61e+00  1.55e+04    10s\n",
      "  11   4.95175941e+09 -1.74846580e+09  3.55e-07 1.47e+00  9.02e+03    11s\n",
      "  12   4.05303136e+09 -3.64260748e+08  2.53e-07 8.80e-01  5.88e+03    12s\n",
      "  13   3.60857029e+09 -1.24348218e+08  2.02e-07 7.72e-01  4.97e+03    12s\n",
      "  14   3.34914283e+09  7.11136989e+07  1.72e-07 6.93e-01  4.37e+03    13s\n",
      "  15   3.18439010e+09  3.02650463e+08  1.53e-07 5.98e-01  3.83e+03    13s\n",
      "  16   2.97037629e+09  5.57233876e+08  1.28e-07 4.96e-01  3.21e+03    14s\n",
      "  17   2.86783961e+09  7.15937390e+08  1.18e-07 4.36e-01  2.86e+03    15s\n",
      "  18   2.79747216e+09  7.63032297e+08  1.10e-07 4.19e-01  2.71e+03    16s\n",
      "  19   2.67857027e+09  9.81941068e+08  9.62e-08 3.45e-01  2.26e+03    16s\n",
      "  20   2.54438781e+09  1.18912335e+09  7.91e-08 2.80e-01  1.82e+03    18s\n",
      "  21   2.36795434e+09  1.28850707e+09  1.65e-07 2.45e-01  1.46e+03    19s\n",
      "  22   2.24219982e+09  1.38927295e+09  2.57e-07 2.09e-01  1.17e+03    20s\n",
      "  23   2.16512273e+09  1.44641017e+09  2.11e-07 1.85e-01  9.95e+02    21s\n",
      "  24   2.09462494e+09  1.51092741e+09  2.20e-07 1.55e-01  8.16e+02    22s\n",
      "  25   2.04997988e+09  1.54999304e+09  2.92e-07 1.37e-01  7.04e+02    23s\n",
      "  26   2.04157621e+09  1.58153699e+09  3.11e-07 1.21e-01  6.47e+02    23s\n",
      "  27   2.03630413e+09  1.59299534e+09  3.28e-07 1.16e-01  6.24e+02    24s\n",
      "  28   2.02460455e+09  1.60103642e+09  3.77e-07 1.12e-01  5.98e+02    24s\n",
      "  29   1.98710166e+09  1.61806710e+09  6.19e-07 1.04e-01  5.30e+02    25s\n",
      "  30   1.96952979e+09  1.64124018e+09  5.42e-07 9.35e-02  4.74e+02    26s\n",
      "  31   1.90108900e+09  1.69222947e+09  1.55e-06 6.99e-02  3.10e+02    27s\n",
      "  32   1.86823305e+09  1.72235208e+09  2.49e-04 5.54e-02  2.23e+02    27s\n",
      "  33   1.86107635e+09  1.72991119e+09  2.40e-04 5.17e-02  2.04e+02    28s\n",
      "  34   1.85494765e+09  1.74644259e+09  3.01e-04 4.39e-02  1.72e+02    29s\n",
      "  35   1.85104027e+09  1.75127466e+09  3.27e-04 4.14e-02  1.62e+02    30s\n",
      "  36   1.84794555e+09  1.75463053e+09  3.39e-04 3.97e-02  1.55e+02    31s\n",
      "  37   1.84417094e+09  1.75764812e+09  3.48e-04 3.81e-02  1.48e+02    32s\n",
      "  38   1.84156887e+09  1.75991384e+09  3.49e-04 3.68e-02  1.43e+02    32s\n",
      "  39   1.83899641e+09  1.76195887e+09  3.48e-04 3.56e-02  1.38e+02    33s\n",
      "  40   1.83591011e+09  1.76346922e+09  3.44e-04 3.47e-02  1.33e+02    34s\n",
      "  41   1.83391229e+09  1.76434162e+09  3.41e-04 3.42e-02  1.31e+02    35s\n",
      "  42   1.83145186e+09  1.76621114e+09  3.36e-04 3.29e-02  1.26e+02    36s\n",
      "  43   1.82889395e+09  1.76752626e+09  3.30e-04 3.20e-02  1.22e+02    37s\n",
      "  44   1.82670073e+09  1.76830084e+09  3.24e-04 3.14e-02  1.20e+02    38s\n",
      "  45   1.82507921e+09  1.76905329e+09  3.20e-04 3.09e-02  1.17e+02    39s\n",
      "  46   1.82331863e+09  1.76970776e+09  3.15e-04 3.04e-02  1.15e+02    40s\n",
      "  47   1.82138516e+09  1.77043459e+09  3.09e-04 2.98e-02  1.13e+02    41s\n",
      "  48   1.81957647e+09  1.77105878e+09  3.04e-04 2.93e-02  1.11e+02    41s\n",
      "  49   1.81773810e+09  1.77149583e+09  2.99e-04 2.89e-02  1.09e+02    42s\n",
      "  50   1.81635075e+09  1.77203110e+09  2.95e-04 2.84e-02  1.07e+02    43s\n",
      "  51   1.81474602e+09  1.77241073e+09  2.90e-04 2.80e-02  1.05e+02    43s\n",
      "  52   1.81382095e+09  1.77323575e+09  2.85e-04 2.72e-02  1.02e+02    44s\n",
      "  53   1.81147624e+09  1.77396311e+09  2.75e-04 2.66e-02  9.93e+01    45s\n",
      "  54   1.80851979e+09  1.77490045e+09  2.60e-04 2.56e-02  9.49e+01    45s\n",
      "  55   1.80676180e+09  1.77576316e+09  2.54e-04 2.46e-02  9.12e+01    46s\n",
      "  56   1.80503871e+09  1.77633031e+09  2.48e-04 2.38e-02  8.84e+01    47s\n",
      "  57   1.80371058e+09  1.77655047e+09  2.43e-04 2.35e-02  8.69e+01    48s\n",
      "  58   1.80235198e+09  1.77710448e+09  2.38e-04 2.26e-02  8.39e+01    48s\n",
      "  59   1.80029124e+09  1.77750733e+09  2.30e-04 2.19e-02  8.11e+01    49s\n",
      "  60   1.79885019e+09  1.77773543e+09  2.25e-04 2.15e-02  7.94e+01    50s\n",
      "  61   1.79719394e+09  1.77795151e+09  2.20e-04 2.10e-02  7.75e+01    50s\n",
      "  62   1.79580975e+09  1.77808510e+09  2.16e-04 2.06e-02  7.59e+01    51s\n",
      "\n",
      "Barrier solved model in 62 iterations and 51.14 seconds (23.83 work units)\n",
      "Optimal objective 1.79580975e+09\n",
      "\n",
      "\n",
      "User-callback calls 2087, time in user-callback 0.01 sec\n"
     ]
    },
    {
     "name": "stderr",
     "output_type": "stream",
     "text": [
      "┌ Info: Scaling constraints and RHS\n",
      "└ @ MacroEnergy /home/al3792/Macro/src/utilities/run_tools.jl:26\n",
      "┌ Info: Writing capacity results to /home/al3792/Macro/ExampleSystems/three_zones_macro_genx_cement_no_retrofit/results/capacity.csv\n",
      "└ @ MacroEnergy /home/al3792/Macro/src/write_outputs/capacity.jl:118\n",
      "┌ Info: Writing costs to /home/al3792/Macro/ExampleSystems/three_zones_macro_genx_cement_no_retrofit/results/costs.csv\n",
      "└ @ MacroEnergy /home/al3792/Macro/src/write_outputs/costs.jl:45\n"
     ]
    }
   ],
   "source": [
    "# Run single case\n",
    "(system, model) = run_case(@__DIR__; optimizer=Gurobi.Optimizer);"
   ]
  },
  {
   "cell_type": "code",
   "execution_count": 7,
   "metadata": {},
   "outputs": [
    {
     "data": {
      "text/html": [
       "<div><div style = \"float: left;\"><span>15×8 DataFrame</span></div><div style = \"clear: both;\"></div></div><div class = \"data-frame\" style = \"overflow-x: scroll;\"><table class = \"data-frame\" style = \"margin-bottom: 6px;\"><thead><tr class = \"header\"><th class = \"rowNumber\" style = \"font-weight: bold; text-align: right;\">Row</th><th style = \"text-align: left;\">commodity</th><th style = \"text-align: left;\">commodity_subtype</th><th style = \"text-align: left;\">zone</th><th style = \"text-align: left;\">resource_id</th><th style = \"text-align: left;\">component_id</th><th style = \"text-align: left;\">type</th><th style = \"text-align: left;\">variable</th><th style = \"text-align: left;\">value</th></tr><tr class = \"subheader headerLastRow\"><th class = \"rowNumber\" style = \"font-weight: bold; text-align: right;\"></th><th title = \"Symbol\" style = \"text-align: left;\">Symbol</th><th title = \"Symbol\" style = \"text-align: left;\">Symbol</th><th title = \"Symbol\" style = \"text-align: left;\">Symbol</th><th title = \"Symbol\" style = \"text-align: left;\">Symbol</th><th title = \"Symbol\" style = \"text-align: left;\">Symbol</th><th title = \"Symbol\" style = \"text-align: left;\">Symbol</th><th title = \"Symbol\" style = \"text-align: left;\">Symbol</th><th title = \"Float64\" style = \"text-align: left;\">Float64</th></tr></thead><tbody><tr><td class = \"rowNumber\" style = \"font-weight: bold; text-align: right;\">1</td><td style = \"text-align: left;\">Cement</td><td style = \"text-align: left;\">capacity</td><td style = \"text-align: left;\">cement_produced</td><td style = \"text-align: left;\">cement_MA</td><td style = \"text-align: left;\">cement_MA_cement_edge</td><td style = \"text-align: left;\">MacroEnergy.CementPlant{NaturalGas}</td><td style = \"text-align: left;\">capacity</td><td style = \"text-align: right;\">89.489</td></tr><tr><td class = \"rowNumber\" style = \"font-weight: bold; text-align: right;\">2</td><td style = \"text-align: left;\">Cement</td><td style = \"text-align: left;\">capacity</td><td style = \"text-align: left;\">cement_produced</td><td style = \"text-align: left;\">cement_CT</td><td style = \"text-align: left;\">cement_CT_cement_edge</td><td style = \"text-align: left;\">MacroEnergy.CementPlant{NaturalGas}</td><td style = \"text-align: left;\">capacity</td><td style = \"text-align: right;\">90.0064</td></tr><tr><td class = \"rowNumber\" style = \"font-weight: bold; text-align: right;\">3</td><td style = \"text-align: left;\">Cement</td><td style = \"text-align: left;\">capacity</td><td style = \"text-align: left;\">cement_produced</td><td style = \"text-align: left;\">cement_ME</td><td style = \"text-align: left;\">cement_ME_cement_edge</td><td style = \"text-align: left;\">MacroEnergy.CementPlant{NaturalGas}</td><td style = \"text-align: left;\">capacity</td><td style = \"text-align: right;\">88.7699</td></tr><tr><td class = \"rowNumber\" style = \"font-weight: bold; text-align: right;\">4</td><td style = \"text-align: left;\">Electricity</td><td style = \"text-align: left;\">capacity</td><td style = \"text-align: left;\">elec_MA_elec_CT</td><td style = \"text-align: left;\">MA_to_CT</td><td style = \"text-align: left;\">MA_to_CT_elec_edge</td><td style = \"text-align: left;\">PowerLine</td><td style = \"text-align: left;\">capacity</td><td style = \"text-align: right;\">2955.64</td></tr><tr><td class = \"rowNumber\" style = \"font-weight: bold; text-align: right;\">5</td><td style = \"text-align: left;\">Electricity</td><td style = \"text-align: left;\">capacity</td><td style = \"text-align: left;\">elec_MA_elec_ME</td><td style = \"text-align: left;\">MA_to_ME</td><td style = \"text-align: left;\">MA_to_ME_elec_edge</td><td style = \"text-align: left;\">PowerLine</td><td style = \"text-align: left;\">capacity</td><td style = \"text-align: right;\">2004.41</td></tr><tr><td class = \"rowNumber\" style = \"font-weight: bold; text-align: right;\">6</td><td style = \"text-align: left;\">Electricity</td><td style = \"text-align: left;\">capacity</td><td style = \"text-align: left;\">elec_MA</td><td style = \"text-align: left;\">storage_MA</td><td style = \"text-align: left;\">storage_MA_discharge_edge</td><td style = \"text-align: left;\">Battery</td><td style = \"text-align: left;\">capacity</td><td style = \"text-align: right;\">3830.85</td></tr><tr><td class = \"rowNumber\" style = \"font-weight: bold; text-align: right;\">7</td><td style = \"text-align: left;\">Electricity</td><td style = \"text-align: left;\">capacity</td><td style = \"text-align: left;\">elec_CT</td><td style = \"text-align: left;\">storage_CT</td><td style = \"text-align: left;\">storage_CT_discharge_edge</td><td style = \"text-align: left;\">Battery</td><td style = \"text-align: left;\">capacity</td><td style = \"text-align: right;\">2005.09</td></tr><tr><td class = \"rowNumber\" style = \"font-weight: bold; text-align: right;\">8</td><td style = \"text-align: left;\">Electricity</td><td style = \"text-align: left;\">capacity</td><td style = \"text-align: left;\">elec_ME</td><td style = \"text-align: left;\">storage_ME</td><td style = \"text-align: left;\">storage_ME_discharge_edge</td><td style = \"text-align: left;\">Battery</td><td style = \"text-align: left;\">capacity</td><td style = \"text-align: right;\">2647.51</td></tr><tr><td class = \"rowNumber\" style = \"font-weight: bold; text-align: right;\">9</td><td style = \"text-align: left;\">Electricity</td><td style = \"text-align: left;\">capacity</td><td style = \"text-align: left;\">elec_MA</td><td style = \"text-align: left;\">ng_MA</td><td style = \"text-align: left;\">ng_MA_elec_edge</td><td style = \"text-align: left;\">ThermalPower{NaturalGas}</td><td style = \"text-align: left;\">capacity</td><td style = \"text-align: right;\">9241.82</td></tr><tr><td class = \"rowNumber\" style = \"font-weight: bold; text-align: right;\">10</td><td style = \"text-align: left;\">Electricity</td><td style = \"text-align: left;\">capacity</td><td style = \"text-align: left;\">elec_CT</td><td style = \"text-align: left;\">ng_CT</td><td style = \"text-align: left;\">ng_CT_elec_edge</td><td style = \"text-align: left;\">ThermalPower{NaturalGas}</td><td style = \"text-align: left;\">capacity</td><td style = \"text-align: right;\">5717.02</td></tr><tr><td class = \"rowNumber\" style = \"font-weight: bold; text-align: right;\">11</td><td style = \"text-align: left;\">Electricity</td><td style = \"text-align: left;\">capacity</td><td style = \"text-align: left;\">elec_ME</td><td style = \"text-align: left;\">ng_ME</td><td style = \"text-align: left;\">ng_ME_elec_edge</td><td style = \"text-align: left;\">ThermalPower{NaturalGas}</td><td style = \"text-align: left;\">capacity</td><td style = \"text-align: right;\">279.356</td></tr><tr><td class = \"rowNumber\" style = \"font-weight: bold; text-align: right;\">12</td><td style = \"text-align: left;\">Electricity</td><td style = \"text-align: left;\">capacity</td><td style = \"text-align: left;\">elec_MA</td><td style = \"text-align: left;\">solar_pv_MA</td><td style = \"text-align: left;\">solar_pv_MA_edge</td><td style = \"text-align: left;\">VRE</td><td style = \"text-align: left;\">capacity</td><td style = \"text-align: right;\">2.17897</td></tr><tr><td class = \"rowNumber\" style = \"font-weight: bold; text-align: right;\">13</td><td style = \"text-align: left;\">Electricity</td><td style = \"text-align: left;\">capacity</td><td style = \"text-align: left;\">elec_CT</td><td style = \"text-align: left;\">solar_pv_CT</td><td style = \"text-align: left;\">solar_pv_CT_edge</td><td style = \"text-align: left;\">VRE</td><td style = \"text-align: left;\">capacity</td><td style = \"text-align: right;\">2.27567</td></tr><tr><td class = \"rowNumber\" style = \"font-weight: bold; text-align: right;\">14</td><td style = \"text-align: left;\">Electricity</td><td style = \"text-align: left;\">capacity</td><td style = \"text-align: left;\">elec_CT</td><td style = \"text-align: left;\">onshore_wind_CT</td><td style = \"text-align: left;\">onshore_wind_CT_edge</td><td style = \"text-align: left;\">VRE</td><td style = \"text-align: left;\">capacity</td><td style = \"text-align: right;\">4.37963</td></tr><tr><td class = \"rowNumber\" style = \"font-weight: bold; text-align: right;\">15</td><td style = \"text-align: left;\">Electricity</td><td style = \"text-align: left;\">capacity</td><td style = \"text-align: left;\">elec_ME</td><td style = \"text-align: left;\">onshore_wind_ME</td><td style = \"text-align: left;\">onshore_wind_ME_edge</td><td style = \"text-align: left;\">VRE</td><td style = \"text-align: left;\">capacity</td><td style = \"text-align: right;\">3.61434</td></tr></tbody></table></div>"
      ],
      "text/latex": [
       "\\begin{tabular}{r|cccccc}\n",
       "\t& commodity & commodity\\_subtype & zone & resource\\_id & component\\_id & \\\\\n",
       "\t\\hline\n",
       "\t& Symbol & Symbol & Symbol & Symbol & Symbol & \\\\\n",
       "\t\\hline\n",
       "\t1 & Cement & capacity & cement\\_produced & cement\\_MA & cement\\_MA\\_cement\\_edge & $\\dots$ \\\\\n",
       "\t2 & Cement & capacity & cement\\_produced & cement\\_CT & cement\\_CT\\_cement\\_edge & $\\dots$ \\\\\n",
       "\t3 & Cement & capacity & cement\\_produced & cement\\_ME & cement\\_ME\\_cement\\_edge & $\\dots$ \\\\\n",
       "\t4 & Electricity & capacity & elec\\_MA\\_elec\\_CT & MA\\_to\\_CT & MA\\_to\\_CT\\_elec\\_edge & $\\dots$ \\\\\n",
       "\t5 & Electricity & capacity & elec\\_MA\\_elec\\_ME & MA\\_to\\_ME & MA\\_to\\_ME\\_elec\\_edge & $\\dots$ \\\\\n",
       "\t6 & Electricity & capacity & elec\\_MA & storage\\_MA & storage\\_MA\\_discharge\\_edge & $\\dots$ \\\\\n",
       "\t7 & Electricity & capacity & elec\\_CT & storage\\_CT & storage\\_CT\\_discharge\\_edge & $\\dots$ \\\\\n",
       "\t8 & Electricity & capacity & elec\\_ME & storage\\_ME & storage\\_ME\\_discharge\\_edge & $\\dots$ \\\\\n",
       "\t9 & Electricity & capacity & elec\\_MA & ng\\_MA & ng\\_MA\\_elec\\_edge & $\\dots$ \\\\\n",
       "\t10 & Electricity & capacity & elec\\_CT & ng\\_CT & ng\\_CT\\_elec\\_edge & $\\dots$ \\\\\n",
       "\t11 & Electricity & capacity & elec\\_ME & ng\\_ME & ng\\_ME\\_elec\\_edge & $\\dots$ \\\\\n",
       "\t12 & Electricity & capacity & elec\\_MA & solar\\_pv\\_MA & solar\\_pv\\_MA\\_edge & $\\dots$ \\\\\n",
       "\t13 & Electricity & capacity & elec\\_CT & solar\\_pv\\_CT & solar\\_pv\\_CT\\_edge & $\\dots$ \\\\\n",
       "\t14 & Electricity & capacity & elec\\_CT & onshore\\_wind\\_CT & onshore\\_wind\\_CT\\_edge & $\\dots$ \\\\\n",
       "\t15 & Electricity & capacity & elec\\_ME & onshore\\_wind\\_ME & onshore\\_wind\\_ME\\_edge & $\\dots$ \\\\\n",
       "\\end{tabular}\n"
      ],
      "text/plain": [
       "\u001b[1m15×8 DataFrame\u001b[0m\n",
       "\u001b[1m Row \u001b[0m│\u001b[1m commodity   \u001b[0m\u001b[1m commodity_subtype \u001b[0m\u001b[1m zone            \u001b[0m\u001b[1m resource_id     \u001b[0m\u001b[1m compo\u001b[0m ⋯\n",
       "     │\u001b[90m Symbol      \u001b[0m\u001b[90m Symbol            \u001b[0m\u001b[90m Symbol          \u001b[0m\u001b[90m Symbol          \u001b[0m\u001b[90m Symbo\u001b[0m ⋯\n",
       "─────┼──────────────────────────────────────────────────────────────────────────\n",
       "   1 │ Cement       capacity           cement_produced  cement_MA        cemen ⋯\n",
       "   2 │ Cement       capacity           cement_produced  cement_CT        cemen\n",
       "   3 │ Cement       capacity           cement_produced  cement_ME        cemen\n",
       "   4 │ Electricity  capacity           elec_MA_elec_CT  MA_to_CT         MA_to\n",
       "   5 │ Electricity  capacity           elec_MA_elec_ME  MA_to_ME         MA_to ⋯\n",
       "   6 │ Electricity  capacity           elec_MA          storage_MA       stora\n",
       "   7 │ Electricity  capacity           elec_CT          storage_CT       stora\n",
       "   8 │ Electricity  capacity           elec_ME          storage_ME       stora\n",
       "   9 │ Electricity  capacity           elec_MA          ng_MA            ng_MA ⋯\n",
       "  10 │ Electricity  capacity           elec_CT          ng_CT            ng_CT\n",
       "  11 │ Electricity  capacity           elec_ME          ng_ME            ng_ME\n",
       "  12 │ Electricity  capacity           elec_MA          solar_pv_MA      solar\n",
       "  13 │ Electricity  capacity           elec_CT          solar_pv_CT      solar ⋯\n",
       "  14 │ Electricity  capacity           elec_CT          onshore_wind_CT  onsho\n",
       "  15 │ Electricity  capacity           elec_ME          onshore_wind_ME  onsho\n",
       "\u001b[36m                                                               4 columns omitted\u001b[0m"
      ]
     },
     "metadata": {},
     "output_type": "display_data"
    }
   ],
   "source": [
    "capacity_results_df = MacroEnergy.get_optimal_capacity(system)"
   ]
  },
  {
   "cell_type": "code",
   "execution_count": 9,
   "metadata": {},
   "outputs": [
    {
     "data": {
      "text/plain": [
       "\"/home/al3792/Macro/ExampleSystems/three_zones_macro_genx_cement_no_retrofit/results/trad_cement_no_retrofit_capacity.csv\""
      ]
     },
     "metadata": {},
     "output_type": "display_data"
    }
   ],
   "source": [
    "results_dir = joinpath(case_path, \"results\")\n",
    "MacroEnergy.write_csv(joinpath(results_dir, \"trad_cement_no_retrofit_capacity.csv\"), capacity_results_df)"
   ]
  },
  {
   "cell_type": "code",
   "execution_count": 11,
   "metadata": {},
   "outputs": [
    {
     "data": {
      "text/plain": [
       "\"/home/al3792/Macro/ExampleSystems/three_zones_macro_genx_cement_no_retrofit/results/trad_cement_no_retrofit_8760_results.csv\""
      ]
     },
     "metadata": {},
     "output_type": "display_data"
    }
   ],
   "source": [
    "## 8760 results\n",
    "results_8760_df = DataFrame()\n",
    "    # Get flows of each asset\n",
    "for i in eachindex(system.assets)\n",
    "    get_flows(system.assets[i], results_8760_df)\n",
    "end\n",
    "\n",
    "    # Function to get sorting key: returns the index of the first matching suffix or a large number\n",
    "suffixes = [\"cement\", \"co2\"] # Define suffixes to reorder dataframe by\n",
    "function suffix_sort_key(name)\n",
    "    idx = findfirst(s -> endswith(name, s), suffixes)\n",
    "    return isnothing(idx) ? length(suffixes) + 1 : idx  # Default to placing non-matching names at the end\n",
    "end\n",
    "\n",
    "    # Resort column order based on suffix\n",
    "sorted_cols = sort(names(results_8760_df), by=suffix_sort_key) # Sort column names based on suffix priority\n",
    "results_8760_df = results_8760_df[:, sorted_cols] # Reorder column names\n",
    "\n",
    "MacroEnergy.write_csv(joinpath(results_dir, \"trad_cement_no_retrofit_8760_results.csv\"), results_8760_df)"
   ]
  },
  {
   "cell_type": "code",
   "execution_count": null,
   "metadata": {},
   "outputs": [
    {
     "data": {
      "text/plain": [
       "\"trad_cement_no_retrofit_results/trad_cement_no_retrofit_system_results.csv\""
      ]
     },
     "metadata": {},
     "output_type": "display_data"
    }
   ],
   "source": [
    "## System results\n",
    "co2_node = MacroEnergy.get_nodes_sametype(system.locations, CO2)[1] # There is only 1 CO2 node\n",
    "co2_captured_node = MacroEnergy.get_nodes_sametype(system.locations, CO2Captured)[1]\n",
    "system_results_df = DataFrame(\n",
    "    objective_value = MacroEnergy.objective_value(model),\n",
    "    co2_emissions = MacroEnergy.value(sum(co2_captured_node.operation_expr[:exogenous])),\n",
    "    #co2_captured = MacroEnergy.value(sum(co2_node.operation_expr[:emissions])),\n",
    ")\n",
    "mkpath(results_dir)\n",
    "MacroEnergy.write_csv(joinpath(results_dir,\"trad_cement_no_retrofit_system_results.csv\"), system_results_df)"
   ]
  },
  {
   "cell_type": "code",
   "execution_count": null,
   "metadata": {},
   "outputs": [],
   "source": []
  }
 ],
 "metadata": {
  "kernelspec": {
   "display_name": "Julia 1.11.1",
   "language": "julia",
   "name": "julia-1.11"
  },
  "language_info": {
   "file_extension": ".jl",
   "mimetype": "application/julia",
   "name": "julia",
   "version": "1.11.1"
  }
 },
 "nbformat": 4,
 "nbformat_minor": 2
}
