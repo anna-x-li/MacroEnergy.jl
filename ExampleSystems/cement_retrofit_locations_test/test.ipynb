{
 "cells": [
  {
   "cell_type": "code",
   "execution_count": null,
   "metadata": {},
   "outputs": [],
   "source": [
    "using MacroEnergy\n",
    "using MacroEnergy: get_edges, can_retrofit, is_retrofit, new_capacity, retired_capacity\n",
    "using Gurobi\n",
    "using JuMP\n",
    "\n",
    "system = MacroEnergy.load_system(@__DIR__)"
   ]
  },
  {
   "cell_type": "code",
   "execution_count": null,
   "metadata": {},
   "outputs": [],
   "source": [
    "model = MacroEnergy.generate_model(system)\n",
    "MacroEnergy.set_optimizer(model, Gurobi.Optimizer)\n",
    "MacroEnergy.set_optimizer_attributes(model, \"BarConvTol\"=>1e-3,\"Crossover\" => 0, \"Method\" => 2)\n",
    "MacroEnergy.optimize!(model)"
   ]
  },
  {
   "cell_type": "code",
   "execution_count": null,
   "metadata": {},
   "outputs": [],
   "source": [
    "MacroEnergy.compute_conflict!(model)\n",
    "list_of_conflicting_constraints = MacroEnergy.ConstraintRef[];\n",
    "for (F, S) in Macro.list_of_constraint_types(model)\n",
    "    for con in Macro.JuMP.all_constraints(model, F, S)\n",
    "        if Macro.JuMP.get_attribute(con, Macro.MOI.ConstraintConflictStatus()) == Macro.MOI.IN_CONFLICT\n",
    "            push!(list_of_conflicting_constraints, con)\n",
    "        end\n",
    "    end\n",
    "end\n",
    "display(list_of_conflicting_constraints)"
   ]
  },
  {
   "cell_type": "code",
   "execution_count": null,
   "metadata": {},
   "outputs": [],
   "source": [
    "include(\"../helper_functions.jl\")\n",
    "using DataFrames"
   ]
  },
  {
   "cell_type": "code",
   "execution_count": null,
   "metadata": {},
   "outputs": [],
   "source": [
    "nodes = Node[x for x in system.locations if x isa MacroEnergy.Node]"
   ]
  },
  {
   "cell_type": "code",
   "execution_count": null,
   "metadata": {},
   "outputs": [],
   "source": [
    "co2_nodes = MacroEnergy.get_nodes_sametype(nodes, CO2)"
   ]
  },
  {
   "cell_type": "code",
   "execution_count": null,
   "metadata": {},
   "outputs": [],
   "source": [
    "case = \"0pct_co2_reduction\"\n",
    "results_dir = joinpath(@__DIR__,  \"results\")\n",
    "mkpath(results_dir)\n",
    "save_results(results_dir, case, system)"
   ]
  },
  {
   "cell_type": "code",
   "execution_count": null,
   "metadata": {},
   "outputs": [],
   "source": [
    "model[:cRetrofitCapacity]"
   ]
  },
  {
   "cell_type": "code",
   "execution_count": null,
   "metadata": {},
   "outputs": [],
   "source": [
    "function get_unique_retrofit_tuples(system::MacroEnergy.System)\n",
    "    # Returns a list of retrofit clusters in the system, described as tuples: (retrofit_id, location)\n",
    "    can_retrofit_ids = []\n",
    "    is_retrofit_ids = []\n",
    "    for e in get_edges(system)\n",
    "        if can_retrofit(e)\n",
    "            push!(can_retrofit_ids, (e.retrofit_id, e.location))\n",
    "        end\n",
    "        if is_retrofit(e)\n",
    "            push!(is_retrofit_ids, (e.retrofit_id, e.location))\n",
    "        end\n",
    "    end\n",
    "    @assert unique(can_retrofit_ids) == unique(is_retrofit_ids)\n",
    "    retrofit_ids = unique(can_retrofit_ids)\n",
    "    return retrofit_ids\n",
    "end\n",
    "\n",
    "function get_can_retrofit_edges(edges, retrofit_id, location)\n",
    "    # Returns the edges that can be retrofitted with a given retrofit_id and location\n",
    "    can_retrofit_edges = []\n",
    "    for edge in edges\n",
    "        if (can_retrofit(edge) == true) && (edge.retrofit_id == retrofit_id) && (edge.location == location)\n",
    "            push!(can_retrofit_edges, edge)\n",
    "        end\n",
    "    end\n",
    "    return can_retrofit_edges\n",
    "end\n",
    "\n",
    "function get_is_retrofit_edges(edges, retrofit_id, location)\n",
    "    # Returns the edges that can retrofit other edges with a given retrofit_id and location\n",
    "    is_retrofit_edges = []\n",
    "    for edge in edges\n",
    "        if (is_retrofit(edge) == true) && (edge.retrofit_id == retrofit_id) && (edge.location == location)\n",
    "            push!(is_retrofit_edges, edge)\n",
    "        end\n",
    "    end\n",
    "    return is_retrofit_edges\n",
    "end"
   ]
  },
  {
   "cell_type": "code",
   "execution_count": null,
   "metadata": {},
   "outputs": [],
   "source": [
    "edges = get_edges(system)\n",
    "retrofit_tuples = get_unique_retrofit_tuples(system)\n",
    "\n",
    "@constraint(model, cRetrofitCapacity[(retrofit_id, retrofit_location) in retrofit_tuples],\n",
    "    sum(new_capacity(e) for e in get_can_retrofit_edges(edges, retrofit_id, retrofit_location)) <=\n",
    "    sum(retired_capacity(e) for e in get_is_retrofit_edges(edges, retrofit_id, retrofit_location))\n",
    ")"
   ]
  },
  {
   "cell_type": "code",
   "execution_count": null,
   "metadata": {},
   "outputs": [],
   "source": [
    "edges = get_edges(system)"
   ]
  },
  {
   "cell_type": "code",
   "execution_count": null,
   "metadata": {},
   "outputs": [],
   "source": [
    "nodes = Node[x for x in system.locations if x isa MacroEnergy.Node]\n",
    "co2_node = MacroEnergy.get_nodes_sametype(nodes, CO2)[1]"
   ]
  },
  {
   "cell_type": "code",
   "execution_count": null,
   "metadata": {},
   "outputs": [],
   "source": [
    "system.assets[1].cement_edge.end_vertex"
   ]
  },
  {
   "cell_type": "code",
   "execution_count": null,
   "metadata": {},
   "outputs": [],
   "source": []
  }
 ],
 "metadata": {
  "kernelspec": {
   "display_name": "Julia 1.11.4",
   "language": "julia",
   "name": "julia-1.11"
  },
  "language_info": {
   "file_extension": ".jl",
   "mimetype": "application/julia",
   "name": "julia",
   "version": "1.11.4"
  }
 },
 "nbformat": 4,
 "nbformat_minor": 2
}
