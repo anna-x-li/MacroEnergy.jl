{
 "cells": [
  {
   "cell_type": "code",
   "execution_count": 1,
   "metadata": {},
   "outputs": [
    {
     "name": "stderr",
     "output_type": "stream",
     "text": [
      "┌ Info: Loading system from /Users/al3792/Documents/MacroEnergy.jl/ExampleSystems/cement_retrofit_locations_test/system_data.json\n",
      "└ @ MacroEnergy /Users/al3792/Documents/MacroEnergy.jl/src/load_inputs/load_system.jl:18\n",
      "┌ Info: Loading system data\n",
      "└ @ MacroEnergy /Users/al3792/Documents/MacroEnergy.jl/src/load_inputs/load_system_data.jl:18\n",
      "┌ Info: Done loading system data. It took 0.42 seconds\n",
      "└ @ MacroEnergy /Users/al3792/Documents/MacroEnergy.jl/src/load_inputs/load_system_data.jl:26\n",
      "┌ Info: Generating system\n",
      "└ @ MacroEnergy /Users/al3792/Documents/MacroEnergy.jl/src/load_inputs/generate_system.jl:18\n",
      "┌ Warning: TotalHoursModeled not found in time_data.json - Using 8760 as default value for TotalHoursModeled\n",
      "└ @ MacroEnergy /Users/al3792/Documents/MacroEnergy.jl/src/load_inputs/load_time_data.jl:79\n",
      "┌ Warning: Using default weights = 1 as no period map provided and each period maps to itself\n",
      "└ @ MacroEnergy /Users/al3792/Documents/MacroEnergy.jl/src/load_inputs/load_time_data.jl:194\n",
      "┌ Warning: Using default weights = 1 as no period map provided and each period maps to itself\n",
      "└ @ MacroEnergy /Users/al3792/Documents/MacroEnergy.jl/src/load_inputs/load_time_data.jl:194\n",
      "┌ Warning: Using default weights = 1 as no period map provided and each period maps to itself\n",
      "└ @ MacroEnergy /Users/al3792/Documents/MacroEnergy.jl/src/load_inputs/load_time_data.jl:194\n",
      "┌ Warning: Using default weights = 1 as no period map provided and each period maps to itself\n",
      "└ @ MacroEnergy /Users/al3792/Documents/MacroEnergy.jl/src/load_inputs/load_time_data.jl:194\n",
      "┌ Warning: Using default weights = 1 as no period map provided and each period maps to itself\n",
      "└ @ MacroEnergy /Users/al3792/Documents/MacroEnergy.jl/src/load_inputs/load_time_data.jl:194\n",
      "┌ Info: Done generating system. It took 5.89 seconds\n",
      "└ @ MacroEnergy /Users/al3792/Documents/MacroEnergy.jl/src/load_inputs/generate_system.jl:38\n",
      "┌ Info: Done loading system. It took 6.35 seconds\n",
      "└ @ MacroEnergy /Users/al3792/Documents/MacroEnergy.jl/src/load_inputs/load_system.jl:25\n",
      "┌ Info: Generating model\n",
      "└ @ MacroEnergy /Users/al3792/Documents/MacroEnergy.jl/src/generate_model.jl:3\n",
      "┌ Info:  -- Adding linking variables\n",
      "└ @ MacroEnergy /Users/al3792/Documents/MacroEnergy.jl/src/generate_model.jl:15\n",
      "┌ Info:  -- Defining available capacity\n",
      "└ @ MacroEnergy /Users/al3792/Documents/MacroEnergy.jl/src/generate_model.jl:18\n",
      "┌ Info:  -- Generating planning model\n",
      "└ @ MacroEnergy /Users/al3792/Documents/MacroEnergy.jl/src/generate_model.jl:21\n",
      "┌ Info:  -- Generating operational model\n",
      "└ @ MacroEnergy /Users/al3792/Documents/MacroEnergy.jl/src/generate_model.jl:24\n",
      "┌ Info:  -- Model generation complete. It took 11.89 seconds\n",
      "└ @ MacroEnergy /Users/al3792/Documents/MacroEnergy.jl/src/generate_model.jl:29\n"
     ]
    },
    {
     "data": {
      "text/plain": [
       "A JuMP Model\n",
       "├ solver: none\n",
       "├ objective_sense: MIN_SENSE\n",
       "│ └ objective_function_type: AffExpr\n",
       "├ num_variables: 551927\n",
       "├ num_constraints: 1401674\n",
       "│ ├ AffExpr in MOI.EqualTo{Float64}: 271561\n",
       "│ ├ AffExpr in MOI.GreaterThan{Float64}: 78840\n",
       "│ ├ AffExpr in MOI.LessThan{Float64}: 516867\n",
       "│ ├ VariableRef in MOI.EqualTo{Float64}: 13\n",
       "│ └ VariableRef in MOI.GreaterThan{Float64}: 534393\n",
       "└ Names registered in the model\n",
       "  └ :eFixedCost, :eRetrofitCapByRetroId, :eRetrofittedCapByRetroId, :eVariableCost, :vREF"
      ]
     },
     "metadata": {},
     "output_type": "display_data"
    }
   ],
   "source": [
    "using MacroEnergy\n",
    "using MacroEnergy: get_edges, can_retrofit, is_retrofit, new_capacity, retired_capacity\n",
    "using Gurobi\n",
    "using JuMP\n",
    "\n",
    "system = MacroEnergy.load_system(@__DIR__)\n",
    "model = MacroEnergy.generate_model(system)"
   ]
  },
  {
   "cell_type": "code",
   "execution_count": 2,
   "metadata": {},
   "outputs": [
    {
     "data": {
      "text/plain": [
       "get_is_retrofit_edges (generic function with 1 method)"
      ]
     },
     "metadata": {},
     "output_type": "display_data"
    }
   ],
   "source": [
    "function get_unique_retrofit_tuples(system::MacroEnergy.System)\n",
    "    # Returns a list of retrofit clusters in the system, described as tuples: (retrofit_id, location)\n",
    "    can_retrofit_ids = []\n",
    "    is_retrofit_ids = []\n",
    "    for e in get_edges(system)\n",
    "        if can_retrofit(e)\n",
    "            push!(can_retrofit_ids, (e.retrofit_id, e.location))\n",
    "        end\n",
    "        if is_retrofit(e)\n",
    "            push!(is_retrofit_ids, (e.retrofit_id, e.location))\n",
    "        end\n",
    "    end\n",
    "    @assert unique(can_retrofit_ids) == unique(is_retrofit_ids)\n",
    "    retrofit_ids = unique(can_retrofit_ids)\n",
    "    return retrofit_ids\n",
    "end\n",
    "\n",
    "function get_can_retrofit_edges(edges, retrofit_id, location)\n",
    "    # Returns the edges that can be retrofitted with a given retrofit_id and location\n",
    "    can_retrofit_edges = []\n",
    "    for edge in edges\n",
    "        if (can_retrofit(edge) == true) && (edge.retrofit_id == retrofit_id) && (edge.location == location)\n",
    "            push!(can_retrofit_edges, edge)\n",
    "        end\n",
    "    end\n",
    "    return can_retrofit_edges\n",
    "end\n",
    "\n",
    "function get_is_retrofit_edges(edges, retrofit_id, location)\n",
    "    # Returns the edges that can retrofit other edges with a given retrofit_id and location\n",
    "    is_retrofit_edges = []\n",
    "    for edge in edges\n",
    "        if (is_retrofit(edge) == true) && (edge.retrofit_id == retrofit_id) && (edge.location == location)\n",
    "            push!(is_retrofit_edges, edge)\n",
    "        end\n",
    "    end\n",
    "    return is_retrofit_edges\n",
    "end"
   ]
  },
  {
   "cell_type": "code",
   "execution_count": 9,
   "metadata": {},
   "outputs": [
    {
     "data": {
      "text/plain": [
       "3-element Vector{Any}:\n",
       " (1, \"MA\")\n",
       " (1, \"CT\")\n",
       " (1, \"ME\")"
      ]
     },
     "metadata": {},
     "output_type": "display_data"
    }
   ],
   "source": [
    "edges = get_edges(system)\n",
    "retrofit_tuples = get_unique_retrofit_tuples(system)"
   ]
  },
  {
   "cell_type": "code",
   "execution_count": 8,
   "metadata": {},
   "outputs": [
    {
     "data": {
      "text/plain": [
       "1-dimensional DenseAxisArray{ConstraintRef{Model, MathOptInterface.ConstraintIndex{MathOptInterface.ScalarAffineFunction{Float64}, MathOptInterface.LessThan{Float64}}, ScalarShape},1,...} with index sets:\n",
       "    Dimension 1, Any[(1, \"MA\"), (1, \"CT\"), (1, \"ME\")]\n",
       "And data, a 3-element Vector{ConstraintRef{Model, MathOptInterface.ConstraintIndex{MathOptInterface.ScalarAffineFunction{Float64}, MathOptInterface.LessThan{Float64}}, ScalarShape}}:\n",
       " cRetrofitCapacity[(1, \"MA\")] : 114.15 vNEWUNIT_MA_cement_cement_edge - 114.15 vRETUNIT_MA_cement_cement_edge ≤ 0\n",
       " cRetrofitCapacity[(1, \"CT\")] : 114.15 vNEWUNIT_CT_cement_cement_edge - 114.15 vRETUNIT_CT_cement_cement_edge ≤ 0\n",
       " cRetrofitCapacity[(1, \"ME\")] : 114.15 vNEWUNIT_ME_cement_cement_edge - 114.15 vRETUNIT_ME_cement_cement_edge ≤ 0"
      ]
     },
     "metadata": {},
     "output_type": "display_data"
    }
   ],
   "source": [
    "@constraint(model, cRetrofitCapacity[(retrofit_id, retrofit_location) in retrofit_tuples],\n",
    "    sum(new_capacity(e) for e in get_can_retrofit_edges(edges, retrofit_id, retrofit_location)) <=\n",
    "    sum(retired_capacity(e) for e in get_is_retrofit_edges(edges, retrofit_id, retrofit_location))\n",
    ")"
   ]
  }
 ],
 "metadata": {
  "kernelspec": {
   "display_name": "Julia 1.11.4",
   "language": "julia",
   "name": "julia-1.11"
  },
  "language_info": {
   "file_extension": ".jl",
   "mimetype": "application/julia",
   "name": "julia",
   "version": "1.11.4"
  }
 },
 "nbformat": 4,
 "nbformat_minor": 2
}
