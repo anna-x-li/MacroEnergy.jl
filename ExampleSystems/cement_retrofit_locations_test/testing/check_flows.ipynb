{
 "cells": [
  {
   "cell_type": "code",
   "execution_count": 1,
   "id": "cef25350",
   "metadata": {},
   "outputs": [],
   "source": [
    "using Plots\n",
    "using StatsPlots\n",
    "using CSV\n",
    "using DataFrames\n",
    "using DataStructures"
   ]
  },
  {
   "cell_type": "code",
   "execution_count": 29,
   "id": "047da760",
   "metadata": {},
   "outputs": [
    {
     "name": "stderr",
     "output_type": "stream",
     "text": [
      "\u001b[32m\u001b[1m    Updating\u001b[22m\u001b[39m registry at `~/.julia/registries/General.toml`\n",
      "\u001b[32m\u001b[1m   Resolving\u001b[22m\u001b[39m package versions...\n",
      "\u001b[32m\u001b[1m   Installed\u001b[22m\u001b[39m Pidfile ─────────────── v1.3.0\n",
      "\u001b[32m\u001b[1m   Installed\u001b[22m\u001b[39m Hiccup ──────────────── v0.2.2\n",
      "\u001b[32m\u001b[1m   Installed\u001b[22m\u001b[39m PlotlyBase ──────────── v0.8.21\n",
      "\u001b[32m\u001b[1m   Installed\u001b[22m\u001b[39m PlotlyKaleido ───────── v2.3.0\n",
      "\u001b[32m\u001b[1m   Installed\u001b[22m\u001b[39m Lazy ────────────────── v0.15.1\n",
      "\u001b[32m\u001b[1m   Installed\u001b[22m\u001b[39m AssetRegistry ───────── v0.1.0\n",
      "\u001b[32m\u001b[1m   Installed\u001b[22m\u001b[39m Blink ───────────────── v0.12.9\n",
      "\u001b[32m\u001b[1m   Installed\u001b[22m\u001b[39m WebIO ───────────────── v0.8.21\n",
      "\u001b[32m\u001b[1m   Installed\u001b[22m\u001b[39m WebSockets ──────────── v1.6.0\n",
      "\u001b[32m\u001b[1m   Installed\u001b[22m\u001b[39m UnPack ──────────────── v1.0.2\n",
      "\u001b[32m\u001b[1m   Installed\u001b[22m\u001b[39m Mustache ────────────── v1.0.20\n",
      "\u001b[32m\u001b[1m   Installed\u001b[22m\u001b[39m Parameters ──────────── v0.12.3\n",
      "\u001b[32m\u001b[1m   Installed\u001b[22m\u001b[39m Mux ─────────────────── v1.0.2\n",
      "\u001b[32m\u001b[1m   Installed\u001b[22m\u001b[39m Kaleido_jll ─────────── v0.2.1+0\n",
      "\u001b[32m\u001b[1m   Installed\u001b[22m\u001b[39m FunctionalCollections ─ v0.5.0\n",
      "\u001b[32m\u001b[1m   Installed\u001b[22m\u001b[39m JSExpr ──────────────── v0.5.4\n",
      "\u001b[32m\u001b[1m   Installed\u001b[22m\u001b[39m PlotlyJS ────────────── v0.18.16\n",
      "\u001b[32m\u001b[1m      Compat\u001b[22m\u001b[39m entries added for PlotlyJS\n",
      "\u001b[32m\u001b[1m    Updating\u001b[22m\u001b[39m `~/Documents/MacroEnergy.jl/Project.toml`\n",
      "  \u001b[90m[f0f68f2c] \u001b[39m\u001b[92m+ PlotlyJS v0.18.16\u001b[39m\n",
      "\u001b[32m\u001b[1m    Updating\u001b[22m\u001b[39m `~/Documents/MacroEnergy.jl/Manifest.toml`\n",
      "  \u001b[90m[bf4720bc] \u001b[39m\u001b[92m+ AssetRegistry v0.1.0\u001b[39m\n",
      "  \u001b[90m[ad839575] \u001b[39m\u001b[92m+ Blink v0.12.9\u001b[39m\n",
      "  \u001b[90m[de31a74c] \u001b[39m\u001b[92m+ FunctionalCollections v0.5.0\u001b[39m\n",
      "  \u001b[90m[9fb69e20] \u001b[39m\u001b[92m+ Hiccup v0.2.2\u001b[39m\n",
      "  \u001b[90m[97c1335a] \u001b[39m\u001b[92m+ JSExpr v0.5.4\u001b[39m\n",
      "  \u001b[90m[50d2b5c4] \u001b[39m\u001b[92m+ Lazy v0.15.1\u001b[39m\n",
      "  \u001b[90m[ffc61752] \u001b[39m\u001b[92m+ Mustache v1.0.20\u001b[39m\n",
      "  \u001b[90m[a975b10e] \u001b[39m\u001b[92m+ Mux v1.0.2\u001b[39m\n",
      "  \u001b[90m[d96e819e] \u001b[39m\u001b[92m+ Parameters v0.12.3\u001b[39m\n",
      "  \u001b[90m[fa939f87] \u001b[39m\u001b[92m+ Pidfile v1.3.0\u001b[39m\n",
      "  \u001b[90m[a03496cd] \u001b[39m\u001b[92m+ PlotlyBase v0.8.21\u001b[39m\n",
      "  \u001b[90m[f0f68f2c] \u001b[39m\u001b[92m+ PlotlyJS v0.18.16\u001b[39m\n",
      "  \u001b[90m[f2990250] \u001b[39m\u001b[92m+ PlotlyKaleido v2.3.0\u001b[39m\n",
      "  \u001b[90m[3a884ed6] \u001b[39m\u001b[92m+ UnPack v1.0.2\u001b[39m\n",
      "  \u001b[90m[0f1e0344] \u001b[39m\u001b[92m+ WebIO v0.8.21\u001b[39m\n",
      "  \u001b[90m[104b5d7c] \u001b[39m\u001b[92m+ WebSockets v1.6.0\u001b[39m\n",
      "  \u001b[90m[f7e6163d] \u001b[39m\u001b[92m+ Kaleido_jll v0.2.1+0\u001b[39m\n",
      "\u001b[32m\u001b[1m    Building\u001b[22m\u001b[39m WebIO ───→ `~/.julia/scratchspaces/44cfe95a-1eb2-52ea-b672-e2afdf69b78f/0eef0765186f7452e52236fa42ca8c9b3c11c6e3/build.log`\n",
      "\u001b[32m\u001b[1m    Building\u001b[22m\u001b[39m PlotlyJS → `~/.julia/scratchspaces/44cfe95a-1eb2-52ea-b672-e2afdf69b78f/b816b0f301b074e002476159a9ada5691eebaf61/build.log`\n",
      "\u001b[92m\u001b[1mPrecompiling\u001b[22m\u001b[39m project...\n",
      "    639.5 ms\u001b[32m  ✓ \u001b[39m\u001b[90mUnPack\u001b[39m\n",
      "    422.1 ms\u001b[32m  ✓ \u001b[39m\u001b[90mKaleido_jll\u001b[39m\n",
      "    355.8 ms\u001b[32m  ✓ \u001b[39m\u001b[90mPidfile\u001b[39m\n",
      "    364.1 ms\u001b[32m  ✓ \u001b[39m\u001b[90mFunctionalCollections\u001b[39m\n",
      "    369.0 ms\u001b[32m  ✓ \u001b[39m\u001b[90mMustache\u001b[39m\n",
      "    391.4 ms\u001b[32m  ✓ \u001b[39m\u001b[90mHiccup\u001b[39m\n",
      "    320.0 ms\u001b[32m  ✓ \u001b[39m\u001b[90mParameters\u001b[39m\n",
      "    393.9 ms\u001b[32m  ✓ \u001b[39m\u001b[90mAssetRegistry\u001b[39m\n",
      "    883.2 ms\u001b[32m  ✓ \u001b[39m\u001b[90mLazy\u001b[39m\n",
      "    741.0 ms\u001b[32m  ✓ \u001b[39m\u001b[90mWebSockets\u001b[39m\n",
      "    575.5 ms\u001b[32m  ✓ \u001b[39m\u001b[90mPlotlyKaleido\u001b[39m\n",
      "    990.7 ms\u001b[32m  ✓ \u001b[39m\u001b[90mMux\u001b[39m\n",
      "   1260.5 ms\u001b[32m  ✓ \u001b[39m\u001b[90mWebIO\u001b[39m\n",
      "   2053.7 ms\u001b[32m  ✓ \u001b[39m\u001b[90mPlotlyBase\u001b[39m\n",
      "    888.2 ms\u001b[32m  ✓ \u001b[39m\u001b[90mJSExpr\u001b[39m\n",
      "   1207.4 ms\u001b[32m  ✓ \u001b[39m\u001b[90mPlotlyBase → JSON3Ext\u001b[39m\n",
      "   1157.8 ms\u001b[32m  ✓ \u001b[39m\u001b[90mPlotlyBase → DistributionsExt\u001b[39m\n",
      "   1760.8 ms\u001b[32m  ✓ \u001b[39m\u001b[90mPlotlyBase → DataFramesExt\u001b[39m\n",
      "   1901.0 ms\u001b[32m  ✓ \u001b[39m\u001b[90mBlink\u001b[39m\n",
      "   2016.5 ms\u001b[32m  ✓ \u001b[39mPlotlyJS\n",
      "   1256.5 ms\u001b[32m  ✓ \u001b[39mPlotlyJS → JSON3Ext\n",
      "   1347.3 ms\u001b[32m  ✓ \u001b[39mPlotlyJS → CSVExt\n",
      "   1609.2 ms\u001b[32m  ✓ \u001b[39mPlotlyJS → DataFramesExt\n",
      "  23 dependencies successfully precompiled in 11 seconds. 357 already precompiled.\n",
      "  \u001b[33m1\u001b[39m dependency had output during precompilation:\u001b[33m\n",
      "┌ \u001b[39mWebSockets\u001b[33m\n",
      "│  \u001b[39mWARNING: could not import Logging.termlength into WebSockets\u001b[33m\n",
      "│  \u001b[39mWARNING: could not import Logging.showvalue into WebSockets\u001b[33m\n",
      "└  \u001b[39m\n"
     ]
    }
   ],
   "source": [
    "import Pkg; Pkg.add(\"PlotlyJS\")"
   ]
  },
  {
   "cell_type": "code",
   "execution_count": 56,
   "id": "3f66b9f6",
   "metadata": {},
   "outputs": [],
   "source": [
    "flows_df = CSV.read(\"results/test_new_cementplant_config/test_new_cementplant_config_flows.csv\", DataFrame)\n",
    "flows_df.region = [resource_id[end-1:end] for resource_id in flows_df.resource_id];"
   ]
  },
  {
   "cell_type": "code",
   "execution_count": 32,
   "id": "29be37fa",
   "metadata": {},
   "outputs": [
    {
     "data": {
      "text/html": [
       "<div><div style = \"float: left;\"><span>8760×4 DataFrame</span></div><div style = \"float: right;\"><span style = \"font-style: italic;\">8735 rows omitted</span></div><div style = \"clear: both;\"></div></div><div class = \"data-frame\" style = \"overflow-x: scroll;\"><table class = \"data-frame\" style = \"margin-bottom: 6px;\"><thead><tr class = \"header\"><th class = \"rowNumber\" style = \"font-weight: bold; text-align: right;\">Row</th><th style = \"text-align: left;\">time</th><th style = \"text-align: left;\">MA</th><th style = \"text-align: left;\">CT</th><th style = \"text-align: left;\">ME</th></tr><tr class = \"subheader headerLastRow\"><th class = \"rowNumber\" style = \"font-weight: bold; text-align: right;\"></th><th title = \"Int64\" style = \"text-align: left;\">Int64</th><th title = \"Union{Missing, Float64}\" style = \"text-align: left;\">Float64?</th><th title = \"Union{Missing, Float64}\" style = \"text-align: left;\">Float64?</th><th title = \"Union{Missing, Float64}\" style = \"text-align: left;\">Float64?</th></tr></thead><tbody><tr><td class = \"rowNumber\" style = \"font-weight: bold; text-align: right;\">1</td><td style = \"text-align: right;\">1</td><td style = \"text-align: right;\">33.3694</td><td style = \"text-align: right;\">77.7035</td><td style = \"text-align: right;\">40.5709</td></tr><tr><td class = \"rowNumber\" style = \"font-weight: bold; text-align: right;\">2</td><td style = \"text-align: right;\">2</td><td style = \"text-align: right;\">33.2926</td><td style = \"text-align: right;\">77.6489</td><td style = \"text-align: right;\">40.7023</td></tr><tr><td class = \"rowNumber\" style = \"font-weight: bold; text-align: right;\">3</td><td style = \"text-align: right;\">3</td><td style = \"text-align: right;\">33.2583</td><td style = \"text-align: right;\">77.5974</td><td style = \"text-align: right;\">40.7882</td></tr><tr><td class = \"rowNumber\" style = \"font-weight: bold; text-align: right;\">4</td><td style = \"text-align: right;\">4</td><td style = \"text-align: right;\">33.2297</td><td style = \"text-align: right;\">77.5345</td><td style = \"text-align: right;\">40.8796</td></tr><tr><td class = \"rowNumber\" style = \"font-weight: bold; text-align: right;\">5</td><td style = \"text-align: right;\">5</td><td style = \"text-align: right;\">33.2524</td><td style = \"text-align: right;\">77.4736</td><td style = \"text-align: right;\">40.9178</td></tr><tr><td class = \"rowNumber\" style = \"font-weight: bold; text-align: right;\">6</td><td style = \"text-align: right;\">6</td><td style = \"text-align: right;\">33.2889</td><td style = \"text-align: right;\">77.4414</td><td style = \"text-align: right;\">40.9135</td></tr><tr><td class = \"rowNumber\" style = \"font-weight: bold; text-align: right;\">7</td><td style = \"text-align: right;\">7</td><td style = \"text-align: right;\">33.3134</td><td style = \"text-align: right;\">77.3523</td><td style = \"text-align: right;\">40.9781</td></tr><tr><td class = \"rowNumber\" style = \"font-weight: bold; text-align: right;\">8</td><td style = \"text-align: right;\">8</td><td style = \"text-align: right;\">33.9369</td><td style = \"text-align: right;\">77.3752</td><td style = \"text-align: right;\">40.3318</td></tr><tr><td class = \"rowNumber\" style = \"font-weight: bold; text-align: right;\">9</td><td style = \"text-align: right;\">9</td><td style = \"text-align: right;\">35.0805</td><td style = \"text-align: right;\">78.2084</td><td style = \"text-align: right;\">38.355</td></tr><tr><td class = \"rowNumber\" style = \"font-weight: bold; text-align: right;\">10</td><td style = \"text-align: right;\">10</td><td style = \"text-align: right;\">35.9499</td><td style = \"text-align: right;\">78.4137</td><td style = \"text-align: right;\">37.2802</td></tr><tr><td class = \"rowNumber\" style = \"font-weight: bold; text-align: right;\">11</td><td style = \"text-align: right;\">11</td><td style = \"text-align: right;\">35.9262</td><td style = \"text-align: right;\">78.1086</td><td style = \"text-align: right;\">37.6091</td></tr><tr><td class = \"rowNumber\" style = \"font-weight: bold; text-align: right;\">12</td><td style = \"text-align: right;\">12</td><td style = \"text-align: right;\">36.2992</td><td style = \"text-align: right;\">77.9565</td><td style = \"text-align: right;\">37.3882</td></tr><tr><td class = \"rowNumber\" style = \"font-weight: bold; text-align: right;\">13</td><td style = \"text-align: right;\">13</td><td style = \"text-align: right;\">36.5415</td><td style = \"text-align: right;\">77.822</td><td style = \"text-align: right;\">37.2804</td></tr><tr><td style = \"text-align: right;\">&vellip;</td><td style = \"text-align: right;\">&vellip;</td><td style = \"text-align: right;\">&vellip;</td><td style = \"text-align: right;\">&vellip;</td><td style = \"text-align: right;\">&vellip;</td></tr><tr><td class = \"rowNumber\" style = \"font-weight: bold; text-align: right;\">8749</td><td style = \"text-align: right;\">8749</td><td style = \"text-align: right;\">57.6187</td><td style = \"text-align: right;\">85.9373</td><td style = \"text-align: right;\">65.3861</td></tr><tr><td class = \"rowNumber\" style = \"font-weight: bold; text-align: right;\">8750</td><td style = \"text-align: right;\">8750</td><td style = \"text-align: right;\">57.1575</td><td style = \"text-align: right;\">85.897</td><td style = \"text-align: right;\">65.8877</td></tr><tr><td class = \"rowNumber\" style = \"font-weight: bold; text-align: right;\">8751</td><td style = \"text-align: right;\">8751</td><td style = \"text-align: right;\">56.5801</td><td style = \"text-align: right;\">85.8047</td><td style = \"text-align: right;\">66.5574</td></tr><tr><td class = \"rowNumber\" style = \"font-weight: bold; text-align: right;\">8752</td><td style = \"text-align: right;\">8752</td><td style = \"text-align: right;\">56.9619</td><td style = \"text-align: right;\">85.9345</td><td style = \"text-align: right;\">66.0458</td></tr><tr><td class = \"rowNumber\" style = \"font-weight: bold; text-align: right;\">8753</td><td style = \"text-align: right;\">8753</td><td style = \"text-align: right;\">57.4433</td><td style = \"text-align: right;\">86.0041</td><td style = \"text-align: right;\">65.4948</td></tr><tr><td class = \"rowNumber\" style = \"font-weight: bold; text-align: right;\">8754</td><td style = \"text-align: right;\">8754</td><td style = \"text-align: right;\">57.6447</td><td style = \"text-align: right;\">85.9907</td><td style = \"text-align: right;\">65.3068</td></tr><tr><td class = \"rowNumber\" style = \"font-weight: bold; text-align: right;\">8755</td><td style = \"text-align: right;\">8755</td><td style = \"text-align: right;\">57.4019</td><td style = \"text-align: right;\">85.9571</td><td style = \"text-align: right;\">65.5833</td></tr><tr><td class = \"rowNumber\" style = \"font-weight: bold; text-align: right;\">8756</td><td style = \"text-align: right;\">8756</td><td style = \"text-align: right;\">58.1112</td><td style = \"text-align: right;\">86.3257</td><td style = \"text-align: right;\">64.5053</td></tr><tr><td class = \"rowNumber\" style = \"font-weight: bold; text-align: right;\">8757</td><td style = \"text-align: right;\">8757</td><td style = \"text-align: right;\">66.0911</td><td style = \"text-align: right;\">71.0288</td><td style = \"text-align: right;\">71.8224</td></tr><tr><td class = \"rowNumber\" style = \"font-weight: bold; text-align: right;\">8758</td><td style = \"text-align: right;\">8758</td><td style = \"text-align: right;\">66.7624</td><td style = \"text-align: right;\">69.7446</td><td style = \"text-align: right;\">72.4352</td></tr><tr><td class = \"rowNumber\" style = \"font-weight: bold; text-align: right;\">8759</td><td style = \"text-align: right;\">8759</td><td style = \"text-align: right;\">66.7933</td><td style = \"text-align: right;\">69.7304</td><td style = \"text-align: right;\">72.4185</td></tr><tr><td class = \"rowNumber\" style = \"font-weight: bold; text-align: right;\">8760</td><td style = \"text-align: right;\">8760</td><td style = \"text-align: right;\">66.9869</td><td style = \"text-align: right;\">69.9934</td><td style = \"text-align: right;\">71.9619</td></tr></tbody></table></div>"
      ],
      "text/latex": [
       "\\begin{tabular}{r|cccc}\n",
       "\t& time & MA & CT & ME\\\\\n",
       "\t\\hline\n",
       "\t& Int64 & Float64? & Float64? & Float64?\\\\\n",
       "\t\\hline\n",
       "\t1 & 1 & 33.3694 & 77.7035 & 40.5709 \\\\\n",
       "\t2 & 2 & 33.2926 & 77.6489 & 40.7023 \\\\\n",
       "\t3 & 3 & 33.2583 & 77.5974 & 40.7882 \\\\\n",
       "\t4 & 4 & 33.2297 & 77.5345 & 40.8796 \\\\\n",
       "\t5 & 5 & 33.2524 & 77.4736 & 40.9178 \\\\\n",
       "\t6 & 6 & 33.2889 & 77.4414 & 40.9135 \\\\\n",
       "\t7 & 7 & 33.3134 & 77.3523 & 40.9781 \\\\\n",
       "\t8 & 8 & 33.9369 & 77.3752 & 40.3318 \\\\\n",
       "\t9 & 9 & 35.0805 & 78.2084 & 38.355 \\\\\n",
       "\t10 & 10 & 35.9499 & 78.4137 & 37.2802 \\\\\n",
       "\t11 & 11 & 35.9262 & 78.1086 & 37.6091 \\\\\n",
       "\t12 & 12 & 36.2992 & 77.9565 & 37.3882 \\\\\n",
       "\t13 & 13 & 36.5415 & 77.822 & 37.2804 \\\\\n",
       "\t14 & 14 & 35.1544 & 78.4586 & 38.0308 \\\\\n",
       "\t15 & 15 & 35.1746 & 78.2446 & 38.2246 \\\\\n",
       "\t16 & 16 & 35.2417 & 78.6217 & 37.7804 \\\\\n",
       "\t17 & 17 & 35.5574 & 77.4986 & 38.5878 \\\\\n",
       "\t18 & 18 & 32.9437 & 81.7442 & 36.956 \\\\\n",
       "\t19 & 19 & 31.3334 & 80.9671 & 39.3433 \\\\\n",
       "\t20 & 20 & 31.1682 & 81.1795 & 39.2961 \\\\\n",
       "\t21 & 21 & 34.0887 & 75.484 & 42.0711 \\\\\n",
       "\t22 & 22 & 33.011 & 77.5138 & 41.119 \\\\\n",
       "\t23 & 23 & 32.7867 & 77.5338 & 41.3234 \\\\\n",
       "\t24 & 24 & 32.9165 & 77.6534 & 41.074 \\\\\n",
       "\t$\\dots$ & $\\dots$ & $\\dots$ & $\\dots$ & $\\dots$ \\\\\n",
       "\\end{tabular}\n"
      ],
      "text/plain": [
       "\u001b[1m8760×4 DataFrame\u001b[0m\n",
       "\u001b[1m  Row \u001b[0m│\u001b[1m time  \u001b[0m\u001b[1m MA       \u001b[0m\u001b[1m CT       \u001b[0m\u001b[1m ME       \u001b[0m\n",
       "      │\u001b[90m Int64 \u001b[0m\u001b[90m Float64? \u001b[0m\u001b[90m Float64? \u001b[0m\u001b[90m Float64? \u001b[0m\n",
       "──────┼─────────────────────────────────────\n",
       "    1 │     1   33.3694   77.7035   40.5709\n",
       "    2 │     2   33.2926   77.6489   40.7023\n",
       "    3 │     3   33.2583   77.5974   40.7882\n",
       "    4 │     4   33.2297   77.5345   40.8796\n",
       "    5 │     5   33.2524   77.4736   40.9178\n",
       "    6 │     6   33.2889   77.4414   40.9135\n",
       "    7 │     7   33.3134   77.3523   40.9781\n",
       "    8 │     8   33.9369   77.3752   40.3318\n",
       "  ⋮   │   ⋮       ⋮         ⋮         ⋮\n",
       " 8754 │  8754   57.6447   85.9907   65.3068\n",
       " 8755 │  8755   57.4019   85.9571   65.5833\n",
       " 8756 │  8756   58.1112   86.3257   64.5053\n",
       " 8757 │  8757   66.0911   71.0288   71.8224\n",
       " 8758 │  8758   66.7624   69.7446   72.4352\n",
       " 8759 │  8759   66.7933   69.7304   72.4185\n",
       " 8760 │  8760   66.9869   69.9934   71.9619\n",
       "\u001b[36m                           8745 rows omitted\u001b[0m"
      ]
     },
     "metadata": {},
     "output_type": "display_data"
    }
   ],
   "source": [
    "# Filter out the commodity you want\n",
    "df_cement = filter(row -> row.commodity == \"Cement\", flows_df)\n",
    "\n",
    "# Pivot table by time\n",
    "df_cement_pivot = unstack(df_cement, :time, :region, :value)"
   ]
  },
  {
   "cell_type": "code",
   "execution_count": 33,
   "id": "a1607979",
   "metadata": {},
   "outputs": [
    {
     "data": {
      "text/html": [
       "<div><div style = \"float: left;\"><span>8760×4 DataFrame</span></div><div style = \"float: right;\"><span style = \"font-style: italic;\">8735 rows omitted</span></div><div style = \"clear: both;\"></div></div><div class = \"data-frame\" style = \"overflow-x: scroll;\"><table class = \"data-frame\" style = \"margin-bottom: 6px;\"><thead><tr class = \"header\"><th class = \"rowNumber\" style = \"font-weight: bold; text-align: right;\">Row</th><th style = \"text-align: left;\">time</th><th style = \"text-align: left;\">MA</th><th style = \"text-align: left;\">CT</th><th style = \"text-align: left;\">ME</th></tr><tr class = \"subheader headerLastRow\"><th class = \"rowNumber\" style = \"font-weight: bold; text-align: right;\"></th><th title = \"Int64\" style = \"text-align: left;\">Int64</th><th title = \"Union{Missing, Float64}\" style = \"text-align: left;\">Float64?</th><th title = \"Union{Missing, Float64}\" style = \"text-align: left;\">Float64?</th><th title = \"Union{Missing, Float64}\" style = \"text-align: left;\">Float64?</th></tr></thead><tbody><tr><td class = \"rowNumber\" style = \"font-weight: bold; text-align: right;\">1</td><td style = \"text-align: right;\">1</td><td style = \"text-align: right;\">31.0703</td><td style = \"text-align: right;\">72.3497</td><td style = \"text-align: right;\">37.7756</td></tr><tr><td class = \"rowNumber\" style = \"font-weight: bold; text-align: right;\">2</td><td style = \"text-align: right;\">2</td><td style = \"text-align: right;\">30.9988</td><td style = \"text-align: right;\">72.2989</td><td style = \"text-align: right;\">37.8979</td></tr><tr><td class = \"rowNumber\" style = \"font-weight: bold; text-align: right;\">3</td><td style = \"text-align: right;\">3</td><td style = \"text-align: right;\">30.9668</td><td style = \"text-align: right;\">72.2509</td><td style = \"text-align: right;\">37.9778</td></tr><tr><td class = \"rowNumber\" style = \"font-weight: bold; text-align: right;\">4</td><td style = \"text-align: right;\">4</td><td style = \"text-align: right;\">30.9402</td><td style = \"text-align: right;\">72.1924</td><td style = \"text-align: right;\">38.063</td></tr><tr><td class = \"rowNumber\" style = \"font-weight: bold; text-align: right;\">5</td><td style = \"text-align: right;\">5</td><td style = \"text-align: right;\">30.9613</td><td style = \"text-align: right;\">72.1357</td><td style = \"text-align: right;\">38.0986</td></tr><tr><td class = \"rowNumber\" style = \"font-weight: bold; text-align: right;\">6</td><td style = \"text-align: right;\">6</td><td style = \"text-align: right;\">30.9953</td><td style = \"text-align: right;\">72.1057</td><td style = \"text-align: right;\">38.0946</td></tr><tr><td class = \"rowNumber\" style = \"font-weight: bold; text-align: right;\">7</td><td style = \"text-align: right;\">7</td><td style = \"text-align: right;\">31.0181</td><td style = \"text-align: right;\">72.0228</td><td style = \"text-align: right;\">38.1547</td></tr><tr><td class = \"rowNumber\" style = \"font-weight: bold; text-align: right;\">8</td><td style = \"text-align: right;\">8</td><td style = \"text-align: right;\">31.5986</td><td style = \"text-align: right;\">72.044</td><td style = \"text-align: right;\">37.5529</td></tr><tr><td class = \"rowNumber\" style = \"font-weight: bold; text-align: right;\">9</td><td style = \"text-align: right;\">9</td><td style = \"text-align: right;\">32.6634</td><td style = \"text-align: right;\">72.8198</td><td style = \"text-align: right;\">35.7123</td></tr><tr><td class = \"rowNumber\" style = \"font-weight: bold; text-align: right;\">10</td><td style = \"text-align: right;\">10</td><td style = \"text-align: right;\">33.4729</td><td style = \"text-align: right;\">73.011</td><td style = \"text-align: right;\">34.7116</td></tr><tr><td class = \"rowNumber\" style = \"font-weight: bold; text-align: right;\">11</td><td style = \"text-align: right;\">11</td><td style = \"text-align: right;\">33.4509</td><td style = \"text-align: right;\">72.7269</td><td style = \"text-align: right;\">35.0178</td></tr><tr><td class = \"rowNumber\" style = \"font-weight: bold; text-align: right;\">12</td><td style = \"text-align: right;\">12</td><td style = \"text-align: right;\">33.7982</td><td style = \"text-align: right;\">72.5853</td><td style = \"text-align: right;\">34.8121</td></tr><tr><td class = \"rowNumber\" style = \"font-weight: bold; text-align: right;\">13</td><td style = \"text-align: right;\">13</td><td style = \"text-align: right;\">34.0238</td><td style = \"text-align: right;\">72.46</td><td style = \"text-align: right;\">34.7117</td></tr><tr><td style = \"text-align: right;\">&vellip;</td><td style = \"text-align: right;\">&vellip;</td><td style = \"text-align: right;\">&vellip;</td><td style = \"text-align: right;\">&vellip;</td><td style = \"text-align: right;\">&vellip;</td></tr><tr><td class = \"rowNumber\" style = \"font-weight: bold; text-align: right;\">8749</td><td style = \"text-align: right;\">8749</td><td style = \"text-align: right;\">53.6488</td><td style = \"text-align: right;\">80.0163</td><td style = \"text-align: right;\">60.881</td></tr><tr><td class = \"rowNumber\" style = \"font-weight: bold; text-align: right;\">8750</td><td style = \"text-align: right;\">8750</td><td style = \"text-align: right;\">53.2194</td><td style = \"text-align: right;\">79.9787</td><td style = \"text-align: right;\">61.348</td></tr><tr><td class = \"rowNumber\" style = \"font-weight: bold; text-align: right;\">8751</td><td style = \"text-align: right;\">8751</td><td style = \"text-align: right;\">52.6817</td><td style = \"text-align: right;\">79.8927</td><td style = \"text-align: right;\">61.9716</td></tr><tr><td class = \"rowNumber\" style = \"font-weight: bold; text-align: right;\">8752</td><td style = \"text-align: right;\">8752</td><td style = \"text-align: right;\">53.0372</td><td style = \"text-align: right;\">80.0137</td><td style = \"text-align: right;\">61.4952</td></tr><tr><td class = \"rowNumber\" style = \"font-weight: bold; text-align: right;\">8753</td><td style = \"text-align: right;\">8753</td><td style = \"text-align: right;\">53.4855</td><td style = \"text-align: right;\">80.0784</td><td style = \"text-align: right;\">60.9822</td></tr><tr><td class = \"rowNumber\" style = \"font-weight: bold; text-align: right;\">8754</td><td style = \"text-align: right;\">8754</td><td style = \"text-align: right;\">53.673</td><td style = \"text-align: right;\">80.0659</td><td style = \"text-align: right;\">60.8072</td></tr><tr><td class = \"rowNumber\" style = \"font-weight: bold; text-align: right;\">8755</td><td style = \"text-align: right;\">8755</td><td style = \"text-align: right;\">53.4469</td><td style = \"text-align: right;\">80.0347</td><td style = \"text-align: right;\">61.0646</td></tr><tr><td class = \"rowNumber\" style = \"font-weight: bold; text-align: right;\">8756</td><td style = \"text-align: right;\">8756</td><td style = \"text-align: right;\">54.1073</td><td style = \"text-align: right;\">80.3779</td><td style = \"text-align: right;\">60.0609</td></tr><tr><td class = \"rowNumber\" style = \"font-weight: bold; text-align: right;\">8757</td><td style = \"text-align: right;\">8757</td><td style = \"text-align: right;\">61.5374</td><td style = \"text-align: right;\">66.1349</td><td style = \"text-align: right;\">66.8738</td></tr><tr><td class = \"rowNumber\" style = \"font-weight: bold; text-align: right;\">8758</td><td style = \"text-align: right;\">8758</td><td style = \"text-align: right;\">62.1625</td><td style = \"text-align: right;\">64.9392</td><td style = \"text-align: right;\">67.4444</td></tr><tr><td class = \"rowNumber\" style = \"font-weight: bold; text-align: right;\">8759</td><td style = \"text-align: right;\">8759</td><td style = \"text-align: right;\">62.1912</td><td style = \"text-align: right;\">64.926</td><td style = \"text-align: right;\">67.4289</td></tr><tr><td class = \"rowNumber\" style = \"font-weight: bold; text-align: right;\">8760</td><td style = \"text-align: right;\">8760</td><td style = \"text-align: right;\">62.3715</td><td style = \"text-align: right;\">65.1708</td><td style = \"text-align: right;\">67.0037</td></tr></tbody></table></div>"
      ],
      "text/latex": [
       "\\begin{tabular}{r|cccc}\n",
       "\t& time & MA & CT & ME\\\\\n",
       "\t\\hline\n",
       "\t& Int64 & Float64? & Float64? & Float64?\\\\\n",
       "\t\\hline\n",
       "\t1 & 1 & 31.0703 & 72.3497 & 37.7756 \\\\\n",
       "\t2 & 2 & 30.9988 & 72.2989 & 37.8979 \\\\\n",
       "\t3 & 3 & 30.9668 & 72.2509 & 37.9778 \\\\\n",
       "\t4 & 4 & 30.9402 & 72.1924 & 38.063 \\\\\n",
       "\t5 & 5 & 30.9613 & 72.1357 & 38.0986 \\\\\n",
       "\t6 & 6 & 30.9953 & 72.1057 & 38.0946 \\\\\n",
       "\t7 & 7 & 31.0181 & 72.0228 & 38.1547 \\\\\n",
       "\t8 & 8 & 31.5986 & 72.044 & 37.5529 \\\\\n",
       "\t9 & 9 & 32.6634 & 72.8198 & 35.7123 \\\\\n",
       "\t10 & 10 & 33.4729 & 73.011 & 34.7116 \\\\\n",
       "\t11 & 11 & 33.4509 & 72.7269 & 35.0178 \\\\\n",
       "\t12 & 12 & 33.7982 & 72.5853 & 34.8121 \\\\\n",
       "\t13 & 13 & 34.0238 & 72.46 & 34.7117 \\\\\n",
       "\t14 & 14 & 32.7323 & 73.0528 & 35.4105 \\\\\n",
       "\t15 & 15 & 32.7511 & 72.8536 & 35.5909 \\\\\n",
       "\t16 & 16 & 32.8135 & 73.2047 & 35.1773 \\\\\n",
       "\t17 & 17 & 33.1075 & 72.159 & 35.9291 \\\\\n",
       "\t18 & 18 & 30.6739 & 76.112 & 34.4097 \\\\\n",
       "\t19 & 19 & 29.1745 & 75.3885 & 36.6326 \\\\\n",
       "\t20 & 20 & 29.0207 & 75.5862 & 36.5886 \\\\\n",
       "\t21 & 21 & 31.74 & 70.2831 & 39.1724 \\\\\n",
       "\t22 & 22 & 30.7365 & 72.1731 & 38.2859 \\\\\n",
       "\t23 & 23 & 30.5277 & 72.1917 & 38.4762 \\\\\n",
       "\t24 & 24 & 30.6485 & 72.3031 & 38.244 \\\\\n",
       "\t$\\dots$ & $\\dots$ & $\\dots$ & $\\dots$ & $\\dots$ \\\\\n",
       "\\end{tabular}\n"
      ],
      "text/plain": [
       "\u001b[1m8760×4 DataFrame\u001b[0m\n",
       "\u001b[1m  Row \u001b[0m│\u001b[1m time  \u001b[0m\u001b[1m MA       \u001b[0m\u001b[1m CT       \u001b[0m\u001b[1m ME       \u001b[0m\n",
       "      │\u001b[90m Int64 \u001b[0m\u001b[90m Float64? \u001b[0m\u001b[90m Float64? \u001b[0m\u001b[90m Float64? \u001b[0m\n",
       "──────┼─────────────────────────────────────\n",
       "    1 │     1   31.0703   72.3497   37.7756\n",
       "    2 │     2   30.9988   72.2989   37.8979\n",
       "    3 │     3   30.9668   72.2509   37.9778\n",
       "    4 │     4   30.9402   72.1924   38.063\n",
       "    5 │     5   30.9613   72.1357   38.0986\n",
       "    6 │     6   30.9953   72.1057   38.0946\n",
       "    7 │     7   31.0181   72.0228   38.1547\n",
       "    8 │     8   31.5986   72.044    37.5529\n",
       "  ⋮   │   ⋮       ⋮         ⋮         ⋮\n",
       " 8754 │  8754   53.673    80.0659   60.8072\n",
       " 8755 │  8755   53.4469   80.0347   61.0646\n",
       " 8756 │  8756   54.1073   80.3779   60.0609\n",
       " 8757 │  8757   61.5374   66.1349   66.8738\n",
       " 8758 │  8758   62.1625   64.9392   67.4444\n",
       " 8759 │  8759   62.1912   64.926    67.4289\n",
       " 8760 │  8760   62.3715   65.1708   67.0037\n",
       "\u001b[36m                           8745 rows omitted\u001b[0m"
      ]
     },
     "metadata": {},
     "output_type": "display_data"
    }
   ],
   "source": [
    "df_fuel = filter(row -> row.commodity == \"CementFuel\", flows_df)\n",
    "df_fuel_pivot = unstack(df_fuel, :time, :region, :value)"
   ]
  },
  {
   "cell_type": "code",
   "execution_count": 40,
   "id": "5eddfed0",
   "metadata": {},
   "outputs": [
    {
     "data": {
      "text/html": [
       "<div><div style = \"float: left;\"><span>8760×4 DataFrame</span></div><div style = \"float: right;\"><span style = \"font-style: italic;\">8735 rows omitted</span></div><div style = \"clear: both;\"></div></div><div class = \"data-frame\" style = \"overflow-x: scroll;\"><table class = \"data-frame\" style = \"margin-bottom: 6px;\"><thead><tr class = \"header\"><th class = \"rowNumber\" style = \"font-weight: bold; text-align: right;\">Row</th><th style = \"text-align: left;\">time</th><th style = \"text-align: left;\">MA</th><th style = \"text-align: left;\">CT</th><th style = \"text-align: left;\">ME</th></tr><tr class = \"subheader headerLastRow\"><th class = \"rowNumber\" style = \"font-weight: bold; text-align: right;\"></th><th title = \"Int64\" style = \"text-align: left;\">Int64</th><th title = \"Union{Missing, Float64}\" style = \"text-align: left;\">Float64?</th><th title = \"Union{Missing, Float64}\" style = \"text-align: left;\">Float64?</th><th title = \"Union{Missing, Float64}\" style = \"text-align: left;\">Float64?</th></tr></thead><tbody><tr><td class = \"rowNumber\" style = \"font-weight: bold; text-align: right;\">1</td><td style = \"text-align: right;\">1</td><td style = \"text-align: right;\">2.33586</td><td style = \"text-align: right;\">5.43924</td><td style = \"text-align: right;\">2.83996</td></tr><tr><td class = \"rowNumber\" style = \"font-weight: bold; text-align: right;\">2</td><td style = \"text-align: right;\">2</td><td style = \"text-align: right;\">2.33048</td><td style = \"text-align: right;\">5.43542</td><td style = \"text-align: right;\">2.84916</td></tr><tr><td class = \"rowNumber\" style = \"font-weight: bold; text-align: right;\">3</td><td style = \"text-align: right;\">3</td><td style = \"text-align: right;\">2.32808</td><td style = \"text-align: right;\">5.43182</td><td style = \"text-align: right;\">2.85517</td></tr><tr><td class = \"rowNumber\" style = \"font-weight: bold; text-align: right;\">4</td><td style = \"text-align: right;\">4</td><td style = \"text-align: right;\">2.32608</td><td style = \"text-align: right;\">5.42742</td><td style = \"text-align: right;\">2.86157</td></tr><tr><td class = \"rowNumber\" style = \"font-weight: bold; text-align: right;\">5</td><td style = \"text-align: right;\">5</td><td style = \"text-align: right;\">2.32767</td><td style = \"text-align: right;\">5.42315</td><td style = \"text-align: right;\">2.86425</td></tr><tr><td class = \"rowNumber\" style = \"font-weight: bold; text-align: right;\">6</td><td style = \"text-align: right;\">6</td><td style = \"text-align: right;\">2.33022</td><td style = \"text-align: right;\">5.4209</td><td style = \"text-align: right;\">2.86394</td></tr><tr><td class = \"rowNumber\" style = \"font-weight: bold; text-align: right;\">7</td><td style = \"text-align: right;\">7</td><td style = \"text-align: right;\">2.33194</td><td style = \"text-align: right;\">5.41466</td><td style = \"text-align: right;\">2.86846</td></tr><tr><td class = \"rowNumber\" style = \"font-weight: bold; text-align: right;\">8</td><td style = \"text-align: right;\">8</td><td style = \"text-align: right;\">2.37558</td><td style = \"text-align: right;\">5.41626</td><td style = \"text-align: right;\">2.82322</td></tr><tr><td class = \"rowNumber\" style = \"font-weight: bold; text-align: right;\">9</td><td style = \"text-align: right;\">9</td><td style = \"text-align: right;\">2.45563</td><td style = \"text-align: right;\">5.47459</td><td style = \"text-align: right;\">2.68485</td></tr><tr><td class = \"rowNumber\" style = \"font-weight: bold; text-align: right;\">10</td><td style = \"text-align: right;\">10</td><td style = \"text-align: right;\">2.51649</td><td style = \"text-align: right;\">5.48896</td><td style = \"text-align: right;\">2.60962</td></tr><tr><td class = \"rowNumber\" style = \"font-weight: bold; text-align: right;\">11</td><td style = \"text-align: right;\">11</td><td style = \"text-align: right;\">2.51483</td><td style = \"text-align: right;\">5.4676</td><td style = \"text-align: right;\">2.63263</td></tr><tr><td class = \"rowNumber\" style = \"font-weight: bold; text-align: right;\">12</td><td style = \"text-align: right;\">12</td><td style = \"text-align: right;\">2.54094</td><td style = \"text-align: right;\">5.45695</td><td style = \"text-align: right;\">2.61717</td></tr><tr><td class = \"rowNumber\" style = \"font-weight: bold; text-align: right;\">13</td><td style = \"text-align: right;\">13</td><td style = \"text-align: right;\">2.5579</td><td style = \"text-align: right;\">5.44754</td><td style = \"text-align: right;\">2.60963</td></tr><tr><td style = \"text-align: right;\">&vellip;</td><td style = \"text-align: right;\">&vellip;</td><td style = \"text-align: right;\">&vellip;</td><td style = \"text-align: right;\">&vellip;</td><td style = \"text-align: right;\">&vellip;</td></tr><tr><td class = \"rowNumber\" style = \"font-weight: bold; text-align: right;\">8749</td><td style = \"text-align: right;\">8749</td><td style = \"text-align: right;\">4.03331</td><td style = \"text-align: right;\">6.01561</td><td style = \"text-align: right;\">4.57703</td></tr><tr><td class = \"rowNumber\" style = \"font-weight: bold; text-align: right;\">8750</td><td style = \"text-align: right;\">8750</td><td style = \"text-align: right;\">4.00103</td><td style = \"text-align: right;\">6.01279</td><td style = \"text-align: right;\">4.61214</td></tr><tr><td class = \"rowNumber\" style = \"font-weight: bold; text-align: right;\">8751</td><td style = \"text-align: right;\">8751</td><td style = \"text-align: right;\">3.96061</td><td style = \"text-align: right;\">6.00633</td><td style = \"text-align: right;\">4.65902</td></tr><tr><td class = \"rowNumber\" style = \"font-weight: bold; text-align: right;\">8752</td><td style = \"text-align: right;\">8752</td><td style = \"text-align: right;\">3.98733</td><td style = \"text-align: right;\">6.01542</td><td style = \"text-align: right;\">4.6232</td></tr><tr><td class = \"rowNumber\" style = \"font-weight: bold; text-align: right;\">8753</td><td style = \"text-align: right;\">8753</td><td style = \"text-align: right;\">4.02103</td><td style = \"text-align: right;\">6.02029</td><td style = \"text-align: right;\">4.58463</td></tr><tr><td class = \"rowNumber\" style = \"font-weight: bold; text-align: right;\">8754</td><td style = \"text-align: right;\">8754</td><td style = \"text-align: right;\">4.03513</td><td style = \"text-align: right;\">6.01935</td><td style = \"text-align: right;\">4.57148</td></tr><tr><td class = \"rowNumber\" style = \"font-weight: bold; text-align: right;\">8755</td><td style = \"text-align: right;\">8755</td><td style = \"text-align: right;\">4.01813</td><td style = \"text-align: right;\">6.017</td><td style = \"text-align: right;\">4.59083</td></tr><tr><td class = \"rowNumber\" style = \"font-weight: bold; text-align: right;\">8756</td><td style = \"text-align: right;\">8756</td><td style = \"text-align: right;\">4.06778</td><td style = \"text-align: right;\">6.0428</td><td style = \"text-align: right;\">4.51537</td></tr><tr><td class = \"rowNumber\" style = \"font-weight: bold; text-align: right;\">8757</td><td style = \"text-align: right;\">8757</td><td style = \"text-align: right;\">4.62638</td><td style = \"text-align: right;\">4.97201</td><td style = \"text-align: right;\">5.02757</td></tr><tr><td class = \"rowNumber\" style = \"font-weight: bold; text-align: right;\">8758</td><td style = \"text-align: right;\">8758</td><td style = \"text-align: right;\">4.67337</td><td style = \"text-align: right;\">4.88212</td><td style = \"text-align: right;\">5.07046</td></tr><tr><td class = \"rowNumber\" style = \"font-weight: bold; text-align: right;\">8759</td><td style = \"text-align: right;\">8759</td><td style = \"text-align: right;\">4.67553</td><td style = \"text-align: right;\">4.88113</td><td style = \"text-align: right;\">5.06929</td></tr><tr><td class = \"rowNumber\" style = \"font-weight: bold; text-align: right;\">8760</td><td style = \"text-align: right;\">8760</td><td style = \"text-align: right;\">4.68909</td><td style = \"text-align: right;\">4.89954</td><td style = \"text-align: right;\">5.03733</td></tr></tbody></table></div>"
      ],
      "text/latex": [
       "\\begin{tabular}{r|cccc}\n",
       "\t& time & MA & CT & ME\\\\\n",
       "\t\\hline\n",
       "\t& Int64 & Float64? & Float64? & Float64?\\\\\n",
       "\t\\hline\n",
       "\t1 & 1 & 2.33586 & 5.43924 & 2.83996 \\\\\n",
       "\t2 & 2 & 2.33048 & 5.43542 & 2.84916 \\\\\n",
       "\t3 & 3 & 2.32808 & 5.43182 & 2.85517 \\\\\n",
       "\t4 & 4 & 2.32608 & 5.42742 & 2.86157 \\\\\n",
       "\t5 & 5 & 2.32767 & 5.42315 & 2.86425 \\\\\n",
       "\t6 & 6 & 2.33022 & 5.4209 & 2.86394 \\\\\n",
       "\t7 & 7 & 2.33194 & 5.41466 & 2.86846 \\\\\n",
       "\t8 & 8 & 2.37558 & 5.41626 & 2.82322 \\\\\n",
       "\t9 & 9 & 2.45563 & 5.47459 & 2.68485 \\\\\n",
       "\t10 & 10 & 2.51649 & 5.48896 & 2.60962 \\\\\n",
       "\t11 & 11 & 2.51483 & 5.4676 & 2.63263 \\\\\n",
       "\t12 & 12 & 2.54094 & 5.45695 & 2.61717 \\\\\n",
       "\t13 & 13 & 2.5579 & 5.44754 & 2.60963 \\\\\n",
       "\t14 & 14 & 2.46081 & 5.4921 & 2.66216 \\\\\n",
       "\t15 & 15 & 2.46222 & 5.47712 & 2.67572 \\\\\n",
       "\t16 & 16 & 2.46692 & 5.50352 & 2.64463 \\\\\n",
       "\t17 & 17 & 2.48902 & 5.4249 & 2.70114 \\\\\n",
       "\t18 & 18 & 2.30606 & 5.72209 & 2.58692 \\\\\n",
       "\t19 & 19 & 2.19334 & 5.6677 & 2.75403 \\\\\n",
       "\t20 & 20 & 2.18178 & 5.68256 & 2.75073 \\\\\n",
       "\t21 & 21 & 2.38621 & 5.28388 & 2.94498 \\\\\n",
       "\t22 & 22 & 2.31077 & 5.42597 & 2.87833 \\\\\n",
       "\t23 & 23 & 2.29507 & 5.42736 & 2.89264 \\\\\n",
       "\t24 & 24 & 2.30415 & 5.43574 & 2.87518 \\\\\n",
       "\t$\\dots$ & $\\dots$ & $\\dots$ & $\\dots$ & $\\dots$ \\\\\n",
       "\\end{tabular}\n"
      ],
      "text/plain": [
       "\u001b[1m8760×4 DataFrame\u001b[0m\n",
       "\u001b[1m  Row \u001b[0m│\u001b[1m time  \u001b[0m\u001b[1m MA       \u001b[0m\u001b[1m CT       \u001b[0m\u001b[1m ME       \u001b[0m\n",
       "      │\u001b[90m Int64 \u001b[0m\u001b[90m Float64? \u001b[0m\u001b[90m Float64? \u001b[0m\u001b[90m Float64? \u001b[0m\n",
       "──────┼─────────────────────────────────────\n",
       "    1 │     1   2.33586   5.43924   2.83996\n",
       "    2 │     2   2.33048   5.43542   2.84916\n",
       "    3 │     3   2.32808   5.43182   2.85517\n",
       "    4 │     4   2.32608   5.42742   2.86157\n",
       "    5 │     5   2.32767   5.42315   2.86425\n",
       "    6 │     6   2.33022   5.4209    2.86394\n",
       "    7 │     7   2.33194   5.41466   2.86846\n",
       "    8 │     8   2.37558   5.41626   2.82322\n",
       "  ⋮   │   ⋮       ⋮         ⋮         ⋮\n",
       " 8754 │  8754   4.03513   6.01935   4.57148\n",
       " 8755 │  8755   4.01813   6.017     4.59083\n",
       " 8756 │  8756   4.06778   6.0428    4.51537\n",
       " 8757 │  8757   4.62638   4.97201   5.02757\n",
       " 8758 │  8758   4.67337   4.88212   5.07046\n",
       " 8759 │  8759   4.67553   4.88113   5.06929\n",
       " 8760 │  8760   4.68909   4.89954   5.03733\n",
       "\u001b[36m                           8745 rows omitted\u001b[0m"
      ]
     },
     "metadata": {},
     "output_type": "display_data"
    }
   ],
   "source": [
    "df_cement_elec = filter(row -> (row.commodity == \"Electricity\") && (row.type == \"CementPlant{CementFuel}\"), flows_df)\n",
    "df_cement_elec_pivot = unstack(df_cement_elec, :time, :region, :value)"
   ]
  },
  {
   "cell_type": "code",
   "execution_count": 57,
   "id": "3753f5a1",
   "metadata": {},
   "outputs": [
    {
     "data": {
      "text/html": [
       "<div><div style = \"float: left;\"><span>8760×4 DataFrame</span></div><div style = \"float: right;\"><span style = \"font-style: italic;\">8735 rows omitted</span></div><div style = \"clear: both;\"></div></div><div class = \"data-frame\" style = \"overflow-x: scroll;\"><table class = \"data-frame\" style = \"margin-bottom: 6px;\"><thead><tr class = \"header\"><th class = \"rowNumber\" style = \"font-weight: bold; text-align: right;\">Row</th><th style = \"text-align: left;\">time</th><th style = \"text-align: left;\">MA</th><th style = \"text-align: left;\">CT</th><th style = \"text-align: left;\">ME</th></tr><tr class = \"subheader headerLastRow\"><th class = \"rowNumber\" style = \"font-weight: bold; text-align: right;\"></th><th title = \"Int64\" style = \"text-align: left;\">Int64</th><th title = \"Union{Missing, Float64}\" style = \"text-align: left;\">Float64?</th><th title = \"Union{Missing, Float64}\" style = \"text-align: left;\">Float64?</th><th title = \"Union{Missing, Float64}\" style = \"text-align: left;\">Float64?</th></tr></thead><tbody><tr><td class = \"rowNumber\" style = \"font-weight: bold; text-align: right;\">1</td><td style = \"text-align: right;\">1</td><td style = \"text-align: right;\">22.2107</td><td style = \"text-align: right;\">51.7194</td><td style = \"text-align: right;\">27.004</td></tr><tr><td class = \"rowNumber\" style = \"font-weight: bold; text-align: right;\">2</td><td style = \"text-align: right;\">2</td><td style = \"text-align: right;\">22.1596</td><td style = \"text-align: right;\">51.6831</td><td style = \"text-align: right;\">27.0915</td></tr><tr><td class = \"rowNumber\" style = \"font-weight: bold; text-align: right;\">3</td><td style = \"text-align: right;\">3</td><td style = \"text-align: right;\">22.1367</td><td style = \"text-align: right;\">51.6488</td><td style = \"text-align: right;\">27.1486</td></tr><tr><td class = \"rowNumber\" style = \"font-weight: bold; text-align: right;\">4</td><td style = \"text-align: right;\">4</td><td style = \"text-align: right;\">22.1177</td><td style = \"text-align: right;\">51.607</td><td style = \"text-align: right;\">27.2095</td></tr><tr><td class = \"rowNumber\" style = \"font-weight: bold; text-align: right;\">5</td><td style = \"text-align: right;\">5</td><td style = \"text-align: right;\">22.1328</td><td style = \"text-align: right;\">51.5664</td><td style = \"text-align: right;\">27.2349</td></tr><tr><td class = \"rowNumber\" style = \"font-weight: bold; text-align: right;\">6</td><td style = \"text-align: right;\">6</td><td style = \"text-align: right;\">22.1571</td><td style = \"text-align: right;\">51.545</td><td style = \"text-align: right;\">27.232</td></tr><tr><td class = \"rowNumber\" style = \"font-weight: bold; text-align: right;\">7</td><td style = \"text-align: right;\">7</td><td style = \"text-align: right;\">22.1734</td><td style = \"text-align: right;\">51.4857</td><td style = \"text-align: right;\">27.275</td></tr><tr><td class = \"rowNumber\" style = \"font-weight: bold; text-align: right;\">8</td><td style = \"text-align: right;\">8</td><td style = \"text-align: right;\">22.5884</td><td style = \"text-align: right;\">51.5009</td><td style = \"text-align: right;\">26.8448</td></tr><tr><td class = \"rowNumber\" style = \"font-weight: bold; text-align: right;\">9</td><td style = \"text-align: right;\">9</td><td style = \"text-align: right;\">23.3496</td><td style = \"text-align: right;\">52.0555</td><td style = \"text-align: right;\">25.5291</td></tr><tr><td class = \"rowNumber\" style = \"font-weight: bold; text-align: right;\">10</td><td style = \"text-align: right;\">10</td><td style = \"text-align: right;\">23.9282</td><td style = \"text-align: right;\">52.1922</td><td style = \"text-align: right;\">24.8137</td></tr><tr><td class = \"rowNumber\" style = \"font-weight: bold; text-align: right;\">11</td><td style = \"text-align: right;\">11</td><td style = \"text-align: right;\">23.9125</td><td style = \"text-align: right;\">51.9891</td><td style = \"text-align: right;\">25.0326</td></tr><tr><td class = \"rowNumber\" style = \"font-weight: bold; text-align: right;\">12</td><td style = \"text-align: right;\">12</td><td style = \"text-align: right;\">24.1607</td><td style = \"text-align: right;\">51.8878</td><td style = \"text-align: right;\">24.8856</td></tr><tr><td class = \"rowNumber\" style = \"font-weight: bold; text-align: right;\">13</td><td style = \"text-align: right;\">13</td><td style = \"text-align: right;\">24.322</td><td style = \"text-align: right;\">51.7983</td><td style = \"text-align: right;\">24.8138</td></tr><tr><td style = \"text-align: right;\">&vellip;</td><td style = \"text-align: right;\">&vellip;</td><td style = \"text-align: right;\">&vellip;</td><td style = \"text-align: right;\">&vellip;</td><td style = \"text-align: right;\">&vellip;</td></tr><tr><td class = \"rowNumber\" style = \"font-weight: bold; text-align: right;\">8749</td><td style = \"text-align: right;\">8749</td><td style = \"text-align: right;\">38.351</td><td style = \"text-align: right;\">57.1999</td><td style = \"text-align: right;\">43.521</td></tr><tr><td class = \"rowNumber\" style = \"font-weight: bold; text-align: right;\">8750</td><td style = \"text-align: right;\">8750</td><td style = \"text-align: right;\">38.044</td><td style = \"text-align: right;\">57.1731</td><td style = \"text-align: right;\">43.8548</td></tr><tr><td class = \"rowNumber\" style = \"font-weight: bold; text-align: right;\">8751</td><td style = \"text-align: right;\">8751</td><td style = \"text-align: right;\">37.6597</td><td style = \"text-align: right;\">57.1116</td><td style = \"text-align: right;\">44.3006</td></tr><tr><td class = \"rowNumber\" style = \"font-weight: bold; text-align: right;\">8752</td><td style = \"text-align: right;\">8752</td><td style = \"text-align: right;\">37.9138</td><td style = \"text-align: right;\">57.198</td><td style = \"text-align: right;\">43.9601</td></tr><tr><td class = \"rowNumber\" style = \"font-weight: bold; text-align: right;\">8753</td><td style = \"text-align: right;\">8753</td><td style = \"text-align: right;\">38.2343</td><td style = \"text-align: right;\">57.2443</td><td style = \"text-align: right;\">43.5933</td></tr><tr><td class = \"rowNumber\" style = \"font-weight: bold; text-align: right;\">8754</td><td style = \"text-align: right;\">8754</td><td style = \"text-align: right;\">38.3683</td><td style = \"text-align: right;\">57.2354</td><td style = \"text-align: right;\">43.4682</td></tr><tr><td class = \"rowNumber\" style = \"font-weight: bold; text-align: right;\">8755</td><td style = \"text-align: right;\">8755</td><td style = \"text-align: right;\">38.2067</td><td style = \"text-align: right;\">57.213</td><td style = \"text-align: right;\">43.6522</td></tr><tr><td class = \"rowNumber\" style = \"font-weight: bold; text-align: right;\">8756</td><td style = \"text-align: right;\">8756</td><td style = \"text-align: right;\">38.6788</td><td style = \"text-align: right;\">57.4584</td><td style = \"text-align: right;\">42.9348</td></tr><tr><td class = \"rowNumber\" style = \"font-weight: bold; text-align: right;\">8757</td><td style = \"text-align: right;\">8757</td><td style = \"text-align: right;\">43.9902</td><td style = \"text-align: right;\">47.2767</td><td style = \"text-align: right;\">47.805</td></tr><tr><td class = \"rowNumber\" style = \"font-weight: bold; text-align: right;\">8758</td><td style = \"text-align: right;\">8758</td><td style = \"text-align: right;\">44.4371</td><td style = \"text-align: right;\">46.422</td><td style = \"text-align: right;\">48.2129</td></tr><tr><td class = \"rowNumber\" style = \"font-weight: bold; text-align: right;\">8759</td><td style = \"text-align: right;\">8759</td><td style = \"text-align: right;\">44.4576</td><td style = \"text-align: right;\">46.4126</td><td style = \"text-align: right;\">48.2017</td></tr><tr><td class = \"rowNumber\" style = \"font-weight: bold; text-align: right;\">8760</td><td style = \"text-align: right;\">8760</td><td style = \"text-align: right;\">44.5865</td><td style = \"text-align: right;\">46.5876</td><td style = \"text-align: right;\">47.8978</td></tr></tbody></table></div>"
      ],
      "text/latex": [
       "\\begin{tabular}{r|cccc}\n",
       "\t& time & MA & CT & ME\\\\\n",
       "\t\\hline\n",
       "\t& Int64 & Float64? & Float64? & Float64?\\\\\n",
       "\t\\hline\n",
       "\t1 & 1 & 22.2107 & 51.7194 & 27.004 \\\\\n",
       "\t2 & 2 & 22.1596 & 51.6831 & 27.0915 \\\\\n",
       "\t3 & 3 & 22.1367 & 51.6488 & 27.1486 \\\\\n",
       "\t4 & 4 & 22.1177 & 51.607 & 27.2095 \\\\\n",
       "\t5 & 5 & 22.1328 & 51.5664 & 27.2349 \\\\\n",
       "\t6 & 6 & 22.1571 & 51.545 & 27.232 \\\\\n",
       "\t7 & 7 & 22.1734 & 51.4857 & 27.275 \\\\\n",
       "\t8 & 8 & 22.5884 & 51.5009 & 26.8448 \\\\\n",
       "\t9 & 9 & 23.3496 & 52.0555 & 25.5291 \\\\\n",
       "\t10 & 10 & 23.9282 & 52.1922 & 24.8137 \\\\\n",
       "\t11 & 11 & 23.9125 & 51.9891 & 25.0326 \\\\\n",
       "\t12 & 12 & 24.1607 & 51.8878 & 24.8856 \\\\\n",
       "\t13 & 13 & 24.322 & 51.7983 & 24.8138 \\\\\n",
       "\t14 & 14 & 23.3988 & 52.222 & 25.3133 \\\\\n",
       "\t15 & 15 & 23.4122 & 52.0796 & 25.4423 \\\\\n",
       "\t16 & 16 & 23.4569 & 52.3306 & 25.1466 \\\\\n",
       "\t17 & 17 & 23.667 & 51.5831 & 25.684 \\\\\n",
       "\t18 & 18 & 21.9273 & 54.4089 & 24.5979 \\\\\n",
       "\t19 & 19 & 20.8555 & 53.8917 & 26.1869 \\\\\n",
       "\t20 & 20 & 20.7456 & 54.033 & 26.1555 \\\\\n",
       "\t21 & 21 & 22.6894 & 50.2421 & 28.0025 \\\\\n",
       "\t22 & 22 & 21.9721 & 51.5932 & 27.3688 \\\\\n",
       "\t23 & 23 & 21.8228 & 51.6065 & 27.5048 \\\\\n",
       "\t24 & 24 & 21.9092 & 51.6861 & 27.3388 \\\\\n",
       "\t$\\dots$ & $\\dots$ & $\\dots$ & $\\dots$ & $\\dots$ \\\\\n",
       "\\end{tabular}\n"
      ],
      "text/plain": [
       "\u001b[1m8760×4 DataFrame\u001b[0m\n",
       "\u001b[1m  Row \u001b[0m│\u001b[1m time  \u001b[0m\u001b[1m MA       \u001b[0m\u001b[1m CT       \u001b[0m\u001b[1m ME       \u001b[0m\n",
       "      │\u001b[90m Int64 \u001b[0m\u001b[90m Float64? \u001b[0m\u001b[90m Float64? \u001b[0m\u001b[90m Float64? \u001b[0m\n",
       "──────┼─────────────────────────────────────\n",
       "    1 │     1   22.2107   51.7194   27.004\n",
       "    2 │     2   22.1596   51.6831   27.0915\n",
       "    3 │     3   22.1367   51.6488   27.1486\n",
       "    4 │     4   22.1177   51.607    27.2095\n",
       "    5 │     5   22.1328   51.5664   27.2349\n",
       "    6 │     6   22.1571   51.545    27.232\n",
       "    7 │     7   22.1734   51.4857   27.275\n",
       "    8 │     8   22.5884   51.5009   26.8448\n",
       "  ⋮   │   ⋮       ⋮         ⋮         ⋮\n",
       " 8754 │  8754   38.3683   57.2354   43.4682\n",
       " 8755 │  8755   38.2067   57.213    43.6522\n",
       " 8756 │  8756   38.6788   57.4584   42.9348\n",
       " 8757 │  8757   43.9902   47.2767   47.805\n",
       " 8758 │  8758   44.4371   46.422    48.2129\n",
       " 8759 │  8759   44.4576   46.4126   48.2017\n",
       " 8760 │  8760   44.5865   46.5876   47.8978\n",
       "\u001b[36m                           8745 rows omitted\u001b[0m"
      ]
     },
     "metadata": {},
     "output_type": "display_data"
    }
   ],
   "source": [
    "df_cement_co2_emissions = filter(row -> (row.commodity == \"CO2\") && (row.type == \"CementPlant{CementFuel}\"), flows_df)\n",
    "df_cement_co2_pivot = unstack(df_cement_co2_emissions, :time, :region, :value)"
   ]
  },
  {
   "cell_type": "code",
   "execution_count": 58,
   "id": "da05a5bd",
   "metadata": {},
   "outputs": [
    {
     "data": {
      "text/html": [
       "<div><div style = \"float: left;\"><span>8760×4 DataFrame</span></div><div style = \"float: right;\"><span style = \"font-style: italic;\">8735 rows omitted</span></div><div style = \"clear: both;\"></div></div><div class = \"data-frame\" style = \"overflow-x: scroll;\"><table class = \"data-frame\" style = \"margin-bottom: 6px;\"><thead><tr class = \"header\"><th class = \"rowNumber\" style = \"font-weight: bold; text-align: right;\">Row</th><th style = \"text-align: left;\">time</th><th style = \"text-align: left;\">MA</th><th style = \"text-align: left;\">CT</th><th style = \"text-align: left;\">ME</th></tr><tr class = \"subheader headerLastRow\"><th class = \"rowNumber\" style = \"font-weight: bold; text-align: right;\"></th><th title = \"Int64\" style = \"text-align: left;\">Int64</th><th title = \"Union{Missing, Float64}\" style = \"text-align: left;\">Float64?</th><th title = \"Union{Missing, Float64}\" style = \"text-align: left;\">Float64?</th><th title = \"Union{Missing, Float64}\" style = \"text-align: left;\">Float64?</th></tr></thead><tbody><tr><td class = \"rowNumber\" style = \"font-weight: bold; text-align: right;\">1</td><td style = \"text-align: right;\">1</td><td style = \"text-align: right;\">5.55268</td><td style = \"text-align: right;\">12.9299</td><td style = \"text-align: right;\">6.751</td></tr><tr><td class = \"rowNumber\" style = \"font-weight: bold; text-align: right;\">2</td><td style = \"text-align: right;\">2</td><td style = \"text-align: right;\">5.53989</td><td style = \"text-align: right;\">12.9208</td><td style = \"text-align: right;\">6.77286</td></tr><tr><td class = \"rowNumber\" style = \"font-weight: bold; text-align: right;\">3</td><td style = \"text-align: right;\">3</td><td style = \"text-align: right;\">5.53418</td><td style = \"text-align: right;\">12.9122</td><td style = \"text-align: right;\">6.78715</td></tr><tr><td class = \"rowNumber\" style = \"font-weight: bold; text-align: right;\">4</td><td style = \"text-align: right;\">4</td><td style = \"text-align: right;\">5.52942</td><td style = \"text-align: right;\">12.9017</td><td style = \"text-align: right;\">6.80236</td></tr><tr><td class = \"rowNumber\" style = \"font-weight: bold; text-align: right;\">5</td><td style = \"text-align: right;\">5</td><td style = \"text-align: right;\">5.53321</td><td style = \"text-align: right;\">12.8916</td><td style = \"text-align: right;\">6.80872</td></tr><tr><td class = \"rowNumber\" style = \"font-weight: bold; text-align: right;\">6</td><td style = \"text-align: right;\">6</td><td style = \"text-align: right;\">5.53927</td><td style = \"text-align: right;\">12.8863</td><td style = \"text-align: right;\">6.80801</td></tr><tr><td class = \"rowNumber\" style = \"font-weight: bold; text-align: right;\">7</td><td style = \"text-align: right;\">7</td><td style = \"text-align: right;\">5.54335</td><td style = \"text-align: right;\">12.8714</td><td style = \"text-align: right;\">6.81875</td></tr><tr><td class = \"rowNumber\" style = \"font-weight: bold; text-align: right;\">8</td><td style = \"text-align: right;\">8</td><td style = \"text-align: right;\">5.64709</td><td style = \"text-align: right;\">12.8752</td><td style = \"text-align: right;\">6.71121</td></tr><tr><td class = \"rowNumber\" style = \"font-weight: bold; text-align: right;\">9</td><td style = \"text-align: right;\">9</td><td style = \"text-align: right;\">5.83739</td><td style = \"text-align: right;\">13.0139</td><td style = \"text-align: right;\">6.38227</td></tr><tr><td class = \"rowNumber\" style = \"font-weight: bold; text-align: right;\">10</td><td style = \"text-align: right;\">10</td><td style = \"text-align: right;\">5.98206</td><td style = \"text-align: right;\">13.048</td><td style = \"text-align: right;\">6.20343</td></tr><tr><td class = \"rowNumber\" style = \"font-weight: bold; text-align: right;\">11</td><td style = \"text-align: right;\">11</td><td style = \"text-align: right;\">5.97811</td><td style = \"text-align: right;\">12.9973</td><td style = \"text-align: right;\">6.25815</td></tr><tr><td class = \"rowNumber\" style = \"font-weight: bold; text-align: right;\">12</td><td style = \"text-align: right;\">12</td><td style = \"text-align: right;\">6.04018</td><td style = \"text-align: right;\">12.972</td><td style = \"text-align: right;\">6.22139</td></tr><tr><td class = \"rowNumber\" style = \"font-weight: bold; text-align: right;\">13</td><td style = \"text-align: right;\">13</td><td style = \"text-align: right;\">6.0805</td><td style = \"text-align: right;\">12.9496</td><td style = \"text-align: right;\">6.20345</td></tr><tr><td style = \"text-align: right;\">&vellip;</td><td style = \"text-align: right;\">&vellip;</td><td style = \"text-align: right;\">&vellip;</td><td style = \"text-align: right;\">&vellip;</td><td style = \"text-align: right;\">&vellip;</td></tr><tr><td class = \"rowNumber\" style = \"font-weight: bold; text-align: right;\">8749</td><td style = \"text-align: right;\">8749</td><td style = \"text-align: right;\">9.58776</td><td style = \"text-align: right;\">14.3</td><td style = \"text-align: right;\">10.8803</td></tr><tr><td class = \"rowNumber\" style = \"font-weight: bold; text-align: right;\">8750</td><td style = \"text-align: right;\">8750</td><td style = \"text-align: right;\">9.51101</td><td style = \"text-align: right;\">14.2933</td><td style = \"text-align: right;\">10.9637</td></tr><tr><td class = \"rowNumber\" style = \"font-weight: bold; text-align: right;\">8751</td><td style = \"text-align: right;\">8751</td><td style = \"text-align: right;\">9.41493</td><td style = \"text-align: right;\">14.2779</td><td style = \"text-align: right;\">11.0752</td></tr><tr><td class = \"rowNumber\" style = \"font-weight: bold; text-align: right;\">8752</td><td style = \"text-align: right;\">8752</td><td style = \"text-align: right;\">9.47846</td><td style = \"text-align: right;\">14.2995</td><td style = \"text-align: right;\">10.99</td></tr><tr><td class = \"rowNumber\" style = \"font-weight: bold; text-align: right;\">8753</td><td style = \"text-align: right;\">8753</td><td style = \"text-align: right;\">9.55857</td><td style = \"text-align: right;\">14.3111</td><td style = \"text-align: right;\">10.8983</td></tr><tr><td class = \"rowNumber\" style = \"font-weight: bold; text-align: right;\">8754</td><td style = \"text-align: right;\">8754</td><td style = \"text-align: right;\">9.59208</td><td style = \"text-align: right;\">14.3088</td><td style = \"text-align: right;\">10.8671</td></tr><tr><td class = \"rowNumber\" style = \"font-weight: bold; text-align: right;\">8755</td><td style = \"text-align: right;\">8755</td><td style = \"text-align: right;\">9.55167</td><td style = \"text-align: right;\">14.3033</td><td style = \"text-align: right;\">10.9131</td></tr><tr><td class = \"rowNumber\" style = \"font-weight: bold; text-align: right;\">8756</td><td style = \"text-align: right;\">8756</td><td style = \"text-align: right;\">9.6697</td><td style = \"text-align: right;\">14.3646</td><td style = \"text-align: right;\">10.7337</td></tr><tr><td class = \"rowNumber\" style = \"font-weight: bold; text-align: right;\">8757</td><td style = \"text-align: right;\">8757</td><td style = \"text-align: right;\">10.9976</td><td style = \"text-align: right;\">11.8192</td><td style = \"text-align: right;\">11.9512</td></tr><tr><td class = \"rowNumber\" style = \"font-weight: bold; text-align: right;\">8758</td><td style = \"text-align: right;\">8758</td><td style = \"text-align: right;\">11.1093</td><td style = \"text-align: right;\">11.6055</td><td style = \"text-align: right;\">12.0532</td></tr><tr><td class = \"rowNumber\" style = \"font-weight: bold; text-align: right;\">8759</td><td style = \"text-align: right;\">8759</td><td style = \"text-align: right;\">11.1144</td><td style = \"text-align: right;\">11.6031</td><td style = \"text-align: right;\">12.0504</td></tr><tr><td class = \"rowNumber\" style = \"font-weight: bold; text-align: right;\">8760</td><td style = \"text-align: right;\">8760</td><td style = \"text-align: right;\">11.1466</td><td style = \"text-align: right;\">11.6469</td><td style = \"text-align: right;\">11.9745</td></tr></tbody></table></div>"
      ],
      "text/latex": [
       "\\begin{tabular}{r|cccc}\n",
       "\t& time & MA & CT & ME\\\\\n",
       "\t\\hline\n",
       "\t& Int64 & Float64? & Float64? & Float64?\\\\\n",
       "\t\\hline\n",
       "\t1 & 1 & 5.55268 & 12.9299 & 6.751 \\\\\n",
       "\t2 & 2 & 5.53989 & 12.9208 & 6.77286 \\\\\n",
       "\t3 & 3 & 5.53418 & 12.9122 & 6.78715 \\\\\n",
       "\t4 & 4 & 5.52942 & 12.9017 & 6.80236 \\\\\n",
       "\t5 & 5 & 5.53321 & 12.8916 & 6.80872 \\\\\n",
       "\t6 & 6 & 5.53927 & 12.8863 & 6.80801 \\\\\n",
       "\t7 & 7 & 5.54335 & 12.8714 & 6.81875 \\\\\n",
       "\t8 & 8 & 5.64709 & 12.8752 & 6.71121 \\\\\n",
       "\t9 & 9 & 5.83739 & 13.0139 & 6.38227 \\\\\n",
       "\t10 & 10 & 5.98206 & 13.048 & 6.20343 \\\\\n",
       "\t11 & 11 & 5.97811 & 12.9973 & 6.25815 \\\\\n",
       "\t12 & 12 & 6.04018 & 12.972 & 6.22139 \\\\\n",
       "\t13 & 13 & 6.0805 & 12.9496 & 6.20345 \\\\\n",
       "\t14 & 14 & 5.84969 & 13.0555 & 6.32833 \\\\\n",
       "\t15 & 15 & 5.85306 & 13.0199 & 6.36057 \\\\\n",
       "\t16 & 16 & 5.86422 & 13.0827 & 6.28666 \\\\\n",
       "\t17 & 17 & 5.91675 & 12.8958 & 6.42101 \\\\\n",
       "\t18 & 18 & 5.48183 & 13.6022 & 6.14948 \\\\\n",
       "\t19 & 19 & 5.21387 & 13.4729 & 6.54673 \\\\\n",
       "\t20 & 20 & 5.18639 & 13.5083 & 6.53888 \\\\\n",
       "\t21 & 21 & 5.67236 & 12.5605 & 7.00064 \\\\\n",
       "\t22 & 22 & 5.49303 & 12.8983 & 6.84221 \\\\\n",
       "\t23 & 23 & 5.4557 & 12.9016 & 6.87621 \\\\\n",
       "\t24 & 24 & 5.4773 & 12.9215 & 6.83471 \\\\\n",
       "\t$\\dots$ & $\\dots$ & $\\dots$ & $\\dots$ & $\\dots$ \\\\\n",
       "\\end{tabular}\n"
      ],
      "text/plain": [
       "\u001b[1m8760×4 DataFrame\u001b[0m\n",
       "\u001b[1m  Row \u001b[0m│\u001b[1m time  \u001b[0m\u001b[1m MA       \u001b[0m\u001b[1m CT       \u001b[0m\u001b[1m ME       \u001b[0m\n",
       "      │\u001b[90m Int64 \u001b[0m\u001b[90m Float64? \u001b[0m\u001b[90m Float64? \u001b[0m\u001b[90m Float64? \u001b[0m\n",
       "──────┼─────────────────────────────────────\n",
       "    1 │     1   5.55268   12.9299   6.751\n",
       "    2 │     2   5.53989   12.9208   6.77286\n",
       "    3 │     3   5.53418   12.9122   6.78715\n",
       "    4 │     4   5.52942   12.9017   6.80236\n",
       "    5 │     5   5.53321   12.8916   6.80872\n",
       "    6 │     6   5.53927   12.8863   6.80801\n",
       "    7 │     7   5.54335   12.8714   6.81875\n",
       "    8 │     8   5.64709   12.8752   6.71121\n",
       "  ⋮   │   ⋮       ⋮         ⋮         ⋮\n",
       " 8754 │  8754   9.59208   14.3088  10.8671\n",
       " 8755 │  8755   9.55167   14.3033  10.9131\n",
       " 8756 │  8756   9.6697    14.3646  10.7337\n",
       " 8757 │  8757  10.9976    11.8192  11.9512\n",
       " 8758 │  8758  11.1093    11.6055  12.0532\n",
       " 8759 │  8759  11.1144    11.6031  12.0504\n",
       " 8760 │  8760  11.1466    11.6469  11.9745\n",
       "\u001b[36m                           8745 rows omitted\u001b[0m"
      ]
     },
     "metadata": {},
     "output_type": "display_data"
    }
   ],
   "source": [
    "df_cement_co2_captured = filter(row -> (row.commodity == \"CO2Captured\") && (row.type == \"CementPlant{CementFuel}\"), flows_df)\n",
    "df_cement_co2_captured_pivot = unstack(df_cement_co2_captured, :time, :region, :value)"
   ]
  },
  {
   "cell_type": "code",
   "execution_count": null,
   "id": "9c9d2dce",
   "metadata": {},
   "outputs": [],
   "source": []
  }
 ],
 "metadata": {
  "kernelspec": {
   "display_name": "Julia 1.11.4",
   "language": "julia",
   "name": "julia-1.11"
  },
  "language_info": {
   "file_extension": ".jl",
   "mimetype": "application/julia",
   "name": "julia",
   "version": "1.11.4"
  }
 },
 "nbformat": 4,
 "nbformat_minor": 5
}
