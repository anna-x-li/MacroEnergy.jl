{
 "cells": [
  {
   "cell_type": "code",
   "execution_count": 2,
   "metadata": {},
   "outputs": [
    {
     "name": "stderr",
     "output_type": "stream",
     "text": [
      "\u001b[32m\u001b[1m  Activating\u001b[22m\u001b[39m project at `~/Documents/MacroEnergy.jl`\n"
     ]
    }
   ],
   "source": [
    "using Pkg\n",
    "using Revise\n",
    "Pkg.activate(dirname(dirname(@__DIR__)))\n",
    "using MacroEnergy\n",
    "using Gurobi\n",
    "using Plots\n",
    "using DataFrames, CSV\n",
    "using BenchmarkTools\n",
    "using JLD2, FileIO\n",
    "using JuMP"
   ]
  },
  {
   "cell_type": "code",
   "execution_count": 3,
   "metadata": {},
   "outputs": [
    {
     "data": {
      "text/plain": [
       "get_system_results_no_co2_cap (generic function with 1 method)"
      ]
     },
     "metadata": {},
     "output_type": "display_data"
    }
   ],
   "source": [
    "include(\"../helper_functions.jl\")"
   ]
  },
  {
   "cell_type": "code",
   "execution_count": 4,
   "metadata": {},
   "outputs": [
    {
     "name": "stdout",
     "output_type": "stream",
     "text": [
      "###### ###### ######\n",
      "Running case at /Users/al3792/Documents/MacroEnergy.jl/ExampleSystems/cement_retrofit_current\n"
     ]
    },
    {
     "name": "stderr",
     "output_type": "stream",
     "text": [
      "┌ Info: Loading system from /Users/al3792/Documents/MacroEnergy.jl/ExampleSystems/cement_retrofit_current/system_data.json\n",
      "└ @ MacroEnergy /Users/al3792/Documents/MacroEnergy.jl/src/load_inputs/load_system.jl:18\n",
      "┌ Info: Loading system data\n",
      "└ @ MacroEnergy /Users/al3792/Documents/MacroEnergy.jl/src/load_inputs/load_system_data.jl:18\n",
      "┌ Info: Done loading system data. It took 0.38 seconds\n",
      "└ @ MacroEnergy /Users/al3792/Documents/MacroEnergy.jl/src/load_inputs/load_system_data.jl:26\n",
      "┌ Info: Generating system\n",
      "└ @ MacroEnergy /Users/al3792/Documents/MacroEnergy.jl/src/load_inputs/generate_system.jl:18\n",
      "┌ Warning: WeightTotal not found in time_data.json\n",
      "└ @ MacroEnergy /Users/al3792/Documents/MacroEnergy.jl/src/load_inputs/load_time_data.jl:81\n",
      "┌ Info: Using PeriodLength as default value for WeightTotal\n",
      "└ @ MacroEnergy /Users/al3792/Documents/MacroEnergy.jl/src/load_inputs/load_time_data.jl:82\n",
      "┌ Info: Done generating system. It took 3.32 seconds\n",
      "└ @ MacroEnergy /Users/al3792/Documents/MacroEnergy.jl/src/load_inputs/generate_system.jl:35\n",
      "┌ Info: Done loading system. It took 3.7 seconds\n",
      "└ @ MacroEnergy /Users/al3792/Documents/MacroEnergy.jl/src/load_inputs/load_system.jl:25\n",
      "┌ Info: Generating model\n",
      "└ @ MacroEnergy /Users/al3792/Documents/MacroEnergy.jl/src/generate_model.jl:3\n",
      "┌ Info:  -- Adding linking variables\n",
      "└ @ MacroEnergy /Users/al3792/Documents/MacroEnergy.jl/src/generate_model.jl:15\n",
      "┌ Info:  -- Defining available capacity\n",
      "└ @ MacroEnergy /Users/al3792/Documents/MacroEnergy.jl/src/generate_model.jl:18\n",
      "┌ Info:  -- Generating planning model\n",
      "└ @ MacroEnergy /Users/al3792/Documents/MacroEnergy.jl/src/generate_model.jl:21\n",
      "┌ Info: Retrofit_ids: Any[1]\n",
      "└ @ MacroEnergy /Users/al3792/Documents/MacroEnergy.jl/src/model/constraints/constraints_utils.jl:23\n",
      "┌ Info:  -- Generating operational model\n",
      "└ @ MacroEnergy /Users/al3792/Documents/MacroEnergy.jl/src/generate_model.jl:24\n",
      "┌ Info:  -- Model generation complete. It took 10.64 seconds\n",
      "└ @ MacroEnergy /Users/al3792/Documents/MacroEnergy.jl/src/generate_model.jl:29\n",
      "┌ Info: Scaling constraints and RHS\n",
      "└ @ MacroEnergy /Users/al3792/Documents/MacroEnergy.jl/src/utilities/run_tools.jl:27\n"
     ]
    },
    {
     "name": "stdout",
     "output_type": "stream",
     "text": [
      "Set parameter Username\n",
      "Set parameter LicenseID to value 2637694\n",
      "Academic license - for non-commercial use only - expires 2026-03-17\n",
      "Set parameter BarConvTol to value 0.001\n",
      "Set parameter Crossover to value 0\n",
      "Set parameter Method to value 2\n",
      "Set parameter Method to value 2\n",
      "Set parameter Crossover to value 0\n",
      "Set parameter BarConvTol to value 0.001\n",
      "Gurobi Optimizer version 12.0.1 build v12.0.1rc0 (mac64[arm] - Darwin 24.2.0 24C101)\n",
      "\n",
      "CPU model: Apple M4 Pro\n",
      "Thread count: 14 physical cores, 14 logical processors, using up to 14 threads\n",
      "\n",
      "Non-default parameters:\n",
      "Method  2\n",
      "BarConvTol  0.001\n",
      "Crossover  0\n",
      "\n",
      "Optimize a model with 867267 rows, 604486 columns and 2898522 nonzeros\n",
      "Model fingerprint: 0x4a56369b\n",
      "Coefficient statistics:\n",
      "  Matrix range     [1e-03, 2e+04]\n",
      "  Objective range  [1e-01, 2e+07]\n",
      "  Bounds range     [1e+00, 1e+00]\n",
      "  RHS range        [2e+00, 2e+04]\n",
      "Presolve removed 447323 rows and 245847 columns\n",
      "Presolve time: 0.93s\n",
      "Presolved: 419944 rows, 358639 columns, 1916832 nonzeros\n",
      "Ordering time: 0.18s\n",
      "\n",
      "Barrier statistics:\n",
      " Dense cols : 15\n",
      " AA' NZ     : 3.100e+06\n",
      " Factor NZ  : 1.460e+07 (roughly 400 MB of memory)\n",
      " Factor Ops : 1.142e+09 (less than 1 second per iteration)\n",
      " Threads    : 14\n",
      "\n",
      "                  Objective                Residual\n",
      "Iter       Primal          Dual         Primal    Dual     Compl     Time\n",
      "   0   5.59071419e+13  1.62050000e+12  1.15e+04 1.02e+05  3.80e+09     1s\n",
      "   1   2.34925547e+13 -2.50153262e+13  5.65e+03 2.80e+05  1.12e+09     1s\n",
      "   2   2.07112860e+13 -4.27246737e+13  5.03e+03 1.43e+05  9.68e+08     2s\n",
      "   3   2.27203337e+12 -4.14951214e+13  4.78e+02 3.28e+04  1.57e+08     2s\n",
      "   4   9.69829625e+11 -1.31307409e+13  4.33e+01 5.31e+03  2.79e+07     2s\n",
      "   5   4.74618894e+11 -1.85781934e+12  2.86e-01 6.00e+02  3.68e+06     2s\n",
      "   6   1.27181446e+11 -3.28575292e+11  2.91e-04 1.19e+02  6.95e+05     2s\n",
      "   7   3.37710920e+10 -9.69582575e+10  7.61e-06 3.27e+01  1.96e+05     2s\n",
      "   8   2.46532461e+10 -5.53156429e+10  4.62e-06 1.86e+01  1.18e+05     2s\n",
      "   9   1.28570862e+10 -1.77426248e+10  1.39e-06 5.39e+00  4.32e+04     2s\n",
      "  10   6.10614137e+09 -4.32869555e+09  3.24e-07 2.33e+00  1.42e+04     2s\n",
      "  11   4.50420074e+09 -1.80537992e+09  1.96e-07 1.27e+00  8.46e+03     2s\n",
      "  12   3.78479211e+09 -8.17373547e+08  1.44e-07 9.56e-01  6.13e+03     2s\n",
      "  13   3.44230980e+09 -4.58224878e+08  1.18e-07 8.15e-01  5.19e+03     2s\n",
      "  14   3.22527716e+09 -2.57674557e+08  1.02e-07 7.44e-01  4.64e+03     3s\n",
      "  15   3.05100218e+09  2.54534481e+08  8.85e-08 5.60e-01  3.71e+03     3s\n",
      "  16   2.88718714e+09  3.93773200e+08  2.13e-07 5.13e-01  3.31e+03     3s\n",
      "  17   2.74612923e+09  7.23071530e+08  1.73e-07 3.99e-01  2.69e+03     3s\n",
      "  18   2.58272341e+09  9.10909845e+08  8.50e-08 3.42e-01  2.24e+03     3s\n",
      "  19   2.33251742e+09  1.12545750e+09  9.20e-08 2.72e-01  1.64e+03     3s\n",
      "  20   2.22282100e+09  1.26557990e+09  1.74e-07 2.25e-01  1.31e+03     3s\n",
      "  21   2.12674497e+09  1.34979376e+09  1.38e-07 1.97e-01  1.08e+03     3s\n",
      "  22   2.07670322e+09  1.44565431e+09  2.69e-07 1.65e-01  8.86e+02     3s\n",
      "  23   2.00414975e+09  1.47140131e+09  5.63e-07 1.43e-01  7.54e+02     4s\n",
      "  24   1.98066825e+09  1.51026813e+09  2.13e-07 1.27e-01  6.69e+02     4s\n",
      "  25   1.96506660e+09  1.52728721e+09  2.52e-07 1.21e-01  6.27e+02     4s\n",
      "  26   1.95291559e+09  1.59441237e+09  2.28e-07 9.80e-02  5.15e+02     4s\n",
      "  27   1.93725125e+09  1.66637666e+09  3.07e-07 7.19e-02  3.89e+02     4s\n",
      "  28   1.90533943e+09  1.67440802e+09  8.83e-07 6.88e-02  3.39e+02     4s\n",
      "  29   1.86058084e+09  1.70283939e+09  3.10e-06 5.66e-02  2.39e+02     4s\n",
      "  30   1.85385682e+09  1.71405176e+09  2.43e-04 5.17e-02  2.15e+02     4s\n",
      "  31   1.85091584e+09  1.72584306e+09  3.94e-04 4.68e-02  1.94e+02     4s\n",
      "  32   1.84713917e+09  1.73289938e+09  4.91e-04 4.39e-02  1.81e+02     5s\n",
      "  33   1.84440094e+09  1.73825523e+09  5.35e-04 4.16e-02  1.71e+02     5s\n",
      "  34   1.84134958e+09  1.74201940e+09  5.64e-04 3.99e-02  1.64e+02     5s\n",
      "  35   1.83837822e+09  1.74537723e+09  5.81e-04 3.85e-02  1.57e+02     5s\n",
      "  36   1.83578722e+09  1.74822421e+09  5.88e-04 3.71e-02  1.51e+02     5s\n",
      "  37   1.83311463e+09  1.75091653e+09  5.90e-04 3.58e-02  1.45e+02     5s\n",
      "  38   1.83092323e+09  1.75300077e+09  5.88e-04 3.48e-02  1.41e+02     5s\n",
      "  39   1.82883431e+09  1.75464035e+09  5.84e-04 3.39e-02  1.37e+02     5s\n",
      "  40   1.82668231e+09  1.75496933e+09  5.91e-04 3.37e-02  1.36e+02     6s\n",
      "  41   1.82375465e+09  1.75671813e+09  6.23e-04 3.27e-02  1.31e+02     6s\n",
      "  42   1.82167454e+09  1.75811207e+09  6.67e-04 3.19e-02  1.21e+02     6s\n",
      "  43   1.81952506e+09  1.75938196e+09  7.10e-04 3.11e-02  1.18e+02     6s\n",
      "  44   1.81777848e+09  1.76025398e+09  7.40e-04 3.05e-02  1.16e+02     6s\n",
      "  45   1.81538801e+09  1.76100893e+09  7.69e-04 2.99e-02  1.13e+02     6s\n",
      "  46   1.81345251e+09  1.76189905e+09  7.89e-04 2.93e-02  1.11e+02     6s\n",
      "  47   1.81169950e+09  1.76287510e+09  8.06e-04 2.85e-02  1.08e+02     6s\n",
      "  48   1.81041114e+09  1.76366819e+09  8.15e-04 2.79e-02  1.05e+02     6s\n",
      "  49   1.80909871e+09  1.76467365e+09  8.20e-04 2.71e-02  1.02e+02     7s\n",
      "  50   1.80707367e+09  1.76584760e+09  8.20e-04 2.62e-02  9.83e+01     7s\n",
      "  51   1.80513350e+09  1.76673735e+09  8.15e-04 2.54e-02  9.52e+01     7s\n",
      "  52   1.80371553e+09  1.76736900e+09  8.08e-04 2.48e-02  9.29e+01     7s\n",
      "  53   1.80254237e+09  1.76801357e+09  8.00e-04 2.42e-02  9.06e+01     7s\n",
      "  54   1.80117400e+09  1.76846674e+09  7.91e-04 2.37e-02  8.87e+01     7s\n",
      "  55   1.79990283e+09  1.76895281e+09  7.81e-04 2.32e-02  8.67e+01     7s\n",
      "  56   1.79851329e+09  1.76935887e+09  7.68e-04 2.27e-02  8.48e+01     7s\n",
      "  57   1.79702884e+09  1.76975791e+09  7.54e-04 2.23e-02  8.29e+01     7s\n",
      "  58   1.79557219e+09  1.77007496e+09  7.39e-04 2.19e-02  8.13e+01     8s\n",
      "  59   1.79445818e+09  1.77030643e+09  7.28e-04 2.16e-02  8.00e+01     8s\n",
      "  60   1.79330871e+09  1.77044055e+09  7.18e-04 2.14e-02  7.91e+01     8s\n",
      "  61   1.79213845e+09  1.77070648e+09  7.07e-04 2.10e-02  7.75e+01     8s\n",
      "  62   1.79098982e+09  1.77089329e+09  6.98e-04 2.06e-02  7.62e+01     8s\n",
      "  63   1.78970546e+09  1.77100738e+09  6.87e-04 2.04e-02  7.52e+01     8s\n",
      "  64   1.78889152e+09  1.77112440e+09  6.81e-04 2.01e-02  7.41e+01     8s\n",
      "\n",
      "Barrier solved model in 64 iterations and 8.14 seconds (25.27 work units)\n",
      "Optimal objective 1.78889152e+09\n",
      "\n",
      "\n",
      "User-callback calls 1401, time in user-callback 0.00 sec\n"
     ]
    },
    {
     "name": "stderr",
     "output_type": "stream",
     "text": [
      "┌ Info: Writing capacity results to /Users/al3792/Documents/MacroEnergy.jl/ExampleSystems/cement_retrofit_current/results/capacity.csv\n",
      "└ @ MacroEnergy /Users/al3792/Documents/MacroEnergy.jl/src/write_outputs/capacity.jl:118\n",
      "┌ Info: Writing costs to /Users/al3792/Documents/MacroEnergy.jl/ExampleSystems/cement_retrofit_current/results/costs.csv\n",
      "└ @ MacroEnergy /Users/al3792/Documents/MacroEnergy.jl/src/write_outputs/costs.jl:45\n"
     ]
    },
    {
     "name": "stdout",
     "output_type": "stream",
     "text": [
      "No CO2 cap results\n",
      "\u001b[1m1×2 DataFrame\u001b[0m\n",
      "\u001b[1m Row \u001b[0m│\u001b[1m objective_value \u001b[0m\u001b[1m co2_emissions \u001b[0m\n",
      "     │\u001b[90m Float64         \u001b[0m\u001b[90m Float64       \u001b[0m\n",
      "─────┼────────────────────────────────\n",
      "   1 │       1.78889e9      2.29455e7"
     ]
    },
    {
     "data": {
      "text/plain": [
       "\"/Users/al3792/Documents/MacroEnergy.jl/ExampleSystems/cement_retrofit_current/results/0pct_co2_reduction_flows.csv\""
      ]
     },
     "metadata": {},
     "output_type": "display_data"
    }
   ],
   "source": [
    "# Run model for no CO2 cap\n",
    "(system, model) = run_case(@__DIR__; optimizer=Gurobi.Optimizer)\n",
    "case = \"0pct_co2_reduction\"\n",
    "results_dir = joinpath(@__DIR__,  \"results\")\n",
    "mkpath(results_dir)\n",
    "save_results(results_dir, case, system)"
   ]
  },
  {
   "cell_type": "code",
   "execution_count": null,
   "metadata": {},
   "outputs": [],
   "source": [
    "# Run model for different CO2 caps, if you have a no_cap_co2_level\n",
    "\n",
    "no_cap_co2_level = nothing\n",
    "co2_reductions = [0] # 0 Must be the first value\n",
    "model = nothing\n",
    "\n",
    "for co2_reduction in co2_reductions\n",
    "    # Load system\n",
    "    case_path = @__DIR__\n",
    "    println(\"###### ###### ######\")\n",
    "    println(\"Running case at $(case_path)\")\n",
    "    system = MacroEnergy.load_system(case_path)\n",
    "\n",
    "    # Get the CO1 node\n",
    "    co2_node = MacroEnergy.get_nodes_sametype(system.locations, CO2)[1]\n",
    "\n",
    "    if co2_reduction == 0 # If there is no CO2 cap\n",
    "        case = \"0pct_co2_reduction\"\n",
    "        co2_node.constraints = AbstractTypeConstraint[] # Remove CO2 cap constraint\n",
    "    else # If there is not a CO2 cap\n",
    "        case = string(floor(Int, co2_reduction * 100)) * \"pct_co2_reduction\"\n",
    "        co2_node.rhs_policy[CO2CapConstraint] = no_cap_co2_level * (1 - co2_reduction) # Set CO2 cap\n",
    "        print(no_cap_co2_level * (1 - co2_reduction))\n",
    "    end\n",
    "\n",
    "    # Run model\n",
    "    model = MacroEnergy.generate_model(system)\n",
    "    MacroEnergy.set_optimizer(model, Gurobi.Optimizer);\n",
    "    MacroEnergy.set_optimizer_attributes(model, \"BarConvTol\"=>1e-3,\"Crossover\" => 0, \"Method\" => 2)\n",
    "    MacroEnergy.optimize!(model)\n",
    "\n",
    "    # Save results\n",
    "    results_dir = joinpath(case_path, \"results\")\n",
    "    mkpath(results_dir)\n",
    "    save_results(results_dir, case, system)\n",
    "    # @save case * \"_results.jld2\" system_results_df capacity_results_df results_8760_df\n",
    "    # println(\"wrote results\")\n",
    "\n",
    "    # Record the no_cap_co2_level for next iterations\n",
    "    if co2_reduction == 0\n",
    "        no_cap_co2_level = MacroEnergy.value(sum(co2_node.operation_expr[:emissions]))\n",
    "    end\n",
    "end"
   ]
  },
  {
   "cell_type": "code",
   "execution_count": null,
   "metadata": {},
   "outputs": [],
   "source": []
  }
 ],
 "metadata": {
  "kernelspec": {
   "display_name": "Julia 1.11.4",
   "language": "julia",
   "name": "julia-1.11"
  },
  "language_info": {
   "file_extension": ".jl",
   "mimetype": "application/julia",
   "name": "julia",
   "version": "1.11.4"
  }
 },
 "nbformat": 4,
 "nbformat_minor": 2
}
