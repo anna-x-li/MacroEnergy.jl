{
 "cells": [
  {
   "cell_type": "code",
   "execution_count": 1,
   "metadata": {},
   "outputs": [
    {
     "name": "stderr",
     "output_type": "stream",
     "text": [
      "┌ Info: Loading system from /Users/al3792/Documents/MacroEnergy.jl/ExampleSystems/cement_retrofit_locations/system_data.json\n",
      "└ @ MacroEnergy /Users/al3792/Documents/MacroEnergy.jl/src/load_inputs/load_system.jl:18\n",
      "┌ Info: Loading system data\n",
      "└ @ MacroEnergy /Users/al3792/Documents/MacroEnergy.jl/src/load_inputs/load_system_data.jl:18\n",
      "┌ Info: Done loading system data. It took 0.43 seconds\n",
      "└ @ MacroEnergy /Users/al3792/Documents/MacroEnergy.jl/src/load_inputs/load_system_data.jl:26\n",
      "┌ Info: Generating system\n",
      "└ @ MacroEnergy /Users/al3792/Documents/MacroEnergy.jl/src/load_inputs/generate_system.jl:18\n",
      "┌ Info:  ++ Loading pre-defined user commodities\n",
      "└ @ MacroEnergy /Users/al3792/Documents/MacroEnergy.jl/src/load_inputs/load_commodities.jl:72\n",
      "┌ Info:  ++ Creating new location: NE\n",
      "└ @ MacroEnergy /Users/al3792/Documents/MacroEnergy.jl/src/model/networks/node.jl:237\n"
     ]
    },
    {
     "ename": "KeyError",
     "evalue": "KeyError: key :commodity not found",
     "output_type": "error",
     "traceback": [
      "KeyError: key :commodity not found\n",
      "\n",
      "Stacktrace:\n",
      "  [1] getindex(h::Dict{Symbol, Any}, key::Symbol)\n",
      "    @ Base ./dict.jl:477\n",
      "  [2] make(asset_type::Type{MacroEnergy.CementPlant}, data::Dict{Symbol, Any}, system::MacroEnergy.System)\n",
      "    @ MacroEnergy ~/Documents/MacroEnergy.jl/src/model/assets/cementplant.jl:115\n",
      "  [3] load!(system::MacroEnergy.System, data::Dict{Symbol, Any})\n",
      "    @ MacroEnergy ~/Documents/MacroEnergy.jl/src/load_inputs/load.jl:28\n",
      "  [4] load!(system::MacroEnergy.System, data::Vector{Dict{Symbol, Any}})\n",
      "    @ MacroEnergy ~/Documents/MacroEnergy.jl/src/load_inputs/load.jl:52\n",
      "  [5] load!(system::MacroEnergy.System, data::Dict{Symbol, Any})\n",
      "    @ MacroEnergy ~/Documents/MacroEnergy.jl/src/load_inputs/load.jl:32\n",
      "  [6] load!(system::MacroEnergy.System, data::Vector{Dict{Symbol, Any}})\n",
      "    @ MacroEnergy ~/Documents/MacroEnergy.jl/src/load_inputs/load.jl:52\n",
      "  [7] load!(system::MacroEnergy.System, data::Dict{Symbol, Any})\n",
      "    @ MacroEnergy ~/Documents/MacroEnergy.jl/src/load_inputs/load.jl:41\n",
      "  [8] load!(system::MacroEnergy.System, file_path::String)\n",
      "    @ MacroEnergy ~/Documents/MacroEnergy.jl/src/load_inputs/load.jl:9\n",
      "  [9] load!(system::MacroEnergy.System, file_path::String)\n",
      "    @ MacroEnergy ~/Documents/MacroEnergy.jl/src/load_inputs/load.jl:12\n",
      " [10] load!(system::MacroEnergy.System, data::Dict{Symbol, Any})\n",
      "    @ MacroEnergy ~/Documents/MacroEnergy.jl/src/load_inputs/load.jl:36\n",
      " [11] generate_system!(system::MacroEnergy.System, system_data::Dict{Symbol, Any})\n",
      "    @ MacroEnergy ~/Documents/MacroEnergy.jl/src/load_inputs/generate_system.jl:37\n",
      " [12] load_system(path::String; lazy_load::Bool)\n",
      "    @ MacroEnergy ~/Documents/MacroEnergy.jl/src/load_inputs/load_system.jl:23\n",
      " [13] load_system(path::String)\n",
      "    @ MacroEnergy ~/Documents/MacroEnergy.jl/src/load_inputs/load_system.jl:5\n",
      " [14] top-level scope\n",
      "    @ ~/Documents/MacroEnergy.jl/ExampleSystems/cement_retrofit_locations/jl_notebook_cell_df34fa98e69747e1a8f8a730347b8e2f_W6sZmlsZQ==.jl:4"
     ]
    }
   ],
   "source": [
    "using MacroEnergy\n",
    "using Gurobi\n",
    "\n",
    "system = MacroEnergy.load_system(@__DIR__)"
   ]
  }
 ],
 "metadata": {
  "kernelspec": {
   "display_name": "Julia 1.11.4",
   "language": "julia",
   "name": "julia-1.11"
  },
  "language_info": {
   "file_extension": ".jl",
   "mimetype": "application/julia",
   "name": "julia",
   "version": "1.11.4"
  }
 },
 "nbformat": 4,
 "nbformat_minor": 2
}
