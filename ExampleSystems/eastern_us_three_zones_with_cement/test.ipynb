{
 "cells": [
  {
   "cell_type": "code",
   "execution_count": null,
   "id": "70db4823",
   "metadata": {},
   "outputs": [
    {
     "name": "stderr",
     "output_type": "stream",
     "text": [
      "\u001b[32m\u001b[1m  Activating\u001b[22m\u001b[39m project at `~/Documents/MacroEnergy.jl`\n"
     ]
    },
    {
     "name": "stdout",
     "output_type": "stream",
     "text": [
      "Set parameter Username\n",
      "Set parameter LicenseID to value 2637694\n",
      "Academic license - for non-commercial use only - expires 2026-03-17\n"
     ]
    }
   ],
   "source": [
    "using Pkg\n",
    "Pkg.activate(dirname(dirname(@__DIR__)))\n",
    "using MacroEnergy\n",
    "using Gurobi\n",
    "using DataFrames\n",
    "using Debugger"
   ]
  },
  {
   "cell_type": "code",
   "execution_count": null,
   "id": "c5743b4f",
   "metadata": {},
   "outputs": [],
   "source": [
    "path = @__DIR__\n",
    "system = MacroEnergy.load_system(case_path)\n",
    "\n",
    "model = MacroEnergy.generate_model(system)\n",
    "\n",
    "MacroEnergy.set_optimizer(model, Gurobi.Optimizer);\n",
    "\n",
    "MacroEnergy.set_optimizer_attributes(model, \"BarConvTol\"=>1e-3,\"Crossover\" => 0, \"Method\" => 2)\n",
    "\n",
    "MacroEnergy.optimize!(model)"
   ]
  },
  {
   "cell_type": "code",
   "execution_count": null,
   "id": "b72dd61d",
   "metadata": {},
   "outputs": [
    {
     "name": "stderr",
     "output_type": "stream",
     "text": [
      "┌ Info: Loading system data\n",
      "└ @ MacroEnergy /Users/al3792/Documents/MacroEnergy.jl/src/load_inputs/load_system_data.jl:17\n",
      "┌ Info: Done loading system data. It took 0.0 seconds\n",
      "└ @ MacroEnergy /Users/al3792/Documents/MacroEnergy.jl/src/load_inputs/load_system_data.jl:25\n"
     ]
    },
    {
     "data": {
      "text/plain": [
       "Dict{Symbol, Any} with 1 entry:\n",
       "  :path => \"assets\""
      ]
     },
     "metadata": {},
     "output_type": "display_data"
    }
   ],
   "source": [
    "system = MacroEnergy.empty_system(dirname(path))\n",
    "system_data = MacroEnergy.load_system_data(joinpath(path, \"system_data.json\"))\n",
    "data = system_data[:assets]"
   ]
  },
  {
   "cell_type": "code",
   "execution_count": null,
   "id": "af7785b4",
   "metadata": {},
   "outputs": [
    {
     "data": {
      "text/plain": [
       "Dict{Symbol, Any} with 7 entries:\n",
       "  :location          => \"MA\"\n",
       "  :id                => \"traditional_cement_MA\"\n",
       "  :existing_capacity => 100\n",
       "  :fuel_commodity    => \"NaturalGas\"\n",
       "  :nodes             => Dict{Symbol, Any}()\n",
       "  :edges             => Dict{Symbol, Any}(:elec_edge=>Dict{Symbol, Any}(:type=>…\n",
       "  :transforms        => Dict{Symbol, Any}(:constraints=>Dict{Symbol, Any}(:Bala…"
      ]
     },
     "metadata": {},
     "output_type": "display_data"
    }
   ],
   "source": [
    "data = MacroEnergy.load_inputs(\"assets/tradcementplant.json\")[:TradCementPlant][1]\n",
    "\n",
    "instance_data = MacroEnergy.merge_global_data(data)[1]\n",
    "instance_data[:instance_data]"
   ]
  },
  {
   "cell_type": "code",
   "execution_count": 106,
   "id": "edd30e9d",
   "metadata": {},
   "outputs": [
    {
     "data": {
      "text/plain": [
       "Dict{Symbol, Any} with 4 entries:\n",
       "  :fuel_commodity => \"NaturalGas\"\n",
       "  :nodes          => Dict{Symbol, Any}()\n",
       "  :edges          => Dict{Symbol, Any}(:elec_edge=>Dict{Symbol, Any}(:type=>\"El…\n",
       "  :transforms     => Dict{Symbol, Any}(:constraints=>Dict{Symbol, Any}(:Balance…"
      ]
     },
     "metadata": {},
     "output_type": "display_data"
    }
   ],
   "source": [
    "data[:global_data]"
   ]
  },
  {
   "cell_type": "code",
   "execution_count": 99,
   "id": "d8a6bf9f",
   "metadata": {},
   "outputs": [
    {
     "data": {
      "text/plain": [
       "ThermalPower"
      ]
     },
     "metadata": {},
     "output_type": "display_data"
    }
   ],
   "source": [
    "MacroEnergy.check_and_convert_type(instance_data)"
   ]
  },
  {
   "cell_type": "code",
   "execution_count": null,
   "id": "f2719ec6",
   "metadata": {},
   "outputs": [],
   "source": []
  }
 ],
 "metadata": {
  "kernelspec": {
   "display_name": "Julia 1.11.5",
   "language": "julia",
   "name": "julia-1.11"
  },
  "language_info": {
   "file_extension": ".jl",
   "mimetype": "application/julia",
   "name": "julia",
   "version": "1.11.5"
  }
 },
 "nbformat": 4,
 "nbformat_minor": 5
}
