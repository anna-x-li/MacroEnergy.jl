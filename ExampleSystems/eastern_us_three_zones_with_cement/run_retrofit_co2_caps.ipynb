{
 "cells": [
  {
   "cell_type": "code",
   "execution_count": 1,
   "metadata": {},
   "outputs": [
    {
     "name": "stderr",
     "output_type": "stream",
     "text": [
      "\u001b[32m\u001b[1m  Activating\u001b[22m\u001b[39m project at `~/Documents/MacroEnergy.jl`\n"
     ]
    }
   ],
   "source": [
    "using Pkg\n",
    "using Revise\n",
    "Pkg.activate(dirname(dirname(@__DIR__)))\n",
    "using MacroEnergy\n",
    "using Gurobi\n",
    "using Plots\n",
    "using DataFrames, CSV\n",
    "using BenchmarkTools\n",
    "using JLD2, FileIO\n",
    "using JuMP"
   ]
  },
  {
   "cell_type": "code",
   "execution_count": null,
   "metadata": {},
   "outputs": [],
   "source": [
    "import Pkg; Pkg.add(\"Plots\")"
   ]
  },
  {
   "cell_type": "code",
   "execution_count": null,
   "metadata": {},
   "outputs": [],
   "source": [
    "import Pkg; Pkg.add(\"JLD2\")"
   ]
  },
  {
   "cell_type": "code",
   "execution_count": null,
   "metadata": {},
   "outputs": [],
   "source": [
    "import Pkg; Pkg.add(\"FileIO\")"
   ]
  },
  {
   "cell_type": "code",
   "execution_count": 5,
   "metadata": {},
   "outputs": [],
   "source": [
    "include(\"helper_functions.jl\");"
   ]
  },
  {
   "cell_type": "code",
   "execution_count": 2,
   "metadata": {},
   "outputs": [
    {
     "name": "stderr",
     "output_type": "stream",
     "text": [
      "┌ Info: Loading system from /Users/al3792/Documents/MacroEnergy.jl/ExampleSystems/eastern_us_three_zones_with_cement/system_data.json\n",
      "└ @ MacroEnergy /Users/al3792/Documents/MacroEnergy.jl/src/load_inputs/load_system.jl:39\n",
      "┌ Info: Loading system data\n",
      "└ @ MacroEnergy /Users/al3792/Documents/MacroEnergy.jl/src/load_inputs/load_system_data.jl:17\n",
      "┌ Info: Done loading system data. It took 0.32 seconds\n",
      "└ @ MacroEnergy /Users/al3792/Documents/MacroEnergy.jl/src/load_inputs/load_system_data.jl:25\n",
      "┌ Info: Generating system\n",
      "└ @ MacroEnergy /Users/al3792/Documents/MacroEnergy.jl/src/load_inputs/generate_system.jl:18\n",
      "┌ Warning: TotalHoursModeled not found in time_data.json - Using 8760 as default value for TotalHoursModeled\n",
      "└ @ MacroEnergy /Users/al3792/Documents/MacroEnergy.jl/src/load_inputs/load_time_data.jl:79\n",
      "┌ Warning: Using default weights = 1 as no period map provided and each period maps to itself\n",
      "└ @ MacroEnergy /Users/al3792/Documents/MacroEnergy.jl/src/load_inputs/load_time_data.jl:194\n",
      "┌ Warning: Using default weights = 1 as no period map provided and each period maps to itself\n",
      "└ @ MacroEnergy /Users/al3792/Documents/MacroEnergy.jl/src/load_inputs/load_time_data.jl:194\n",
      "┌ Warning: Using default weights = 1 as no period map provided and each period maps to itself\n",
      "└ @ MacroEnergy /Users/al3792/Documents/MacroEnergy.jl/src/load_inputs/load_time_data.jl:194\n",
      "┌ Warning: Using default weights = 1 as no period map provided and each period maps to itself\n",
      "└ @ MacroEnergy /Users/al3792/Documents/MacroEnergy.jl/src/load_inputs/load_time_data.jl:194\n",
      "┌ Warning: Using default weights = 1 as no period map provided and each period maps to itself\n",
      "└ @ MacroEnergy /Users/al3792/Documents/MacroEnergy.jl/src/load_inputs/load_time_data.jl:194\n",
      "┌ Warning: Using default weights = 1 as no period map provided and each period maps to itself\n",
      "└ @ MacroEnergy /Users/al3792/Documents/MacroEnergy.jl/src/load_inputs/load_time_data.jl:194\n",
      "┌ Info: Done generating system. It took 6.22 seconds\n",
      "└ @ MacroEnergy /Users/al3792/Documents/MacroEnergy.jl/src/load_inputs/generate_system.jl:38\n",
      "┌ Info: Done loading system. It took 6.54 seconds\n",
      "└ @ MacroEnergy /Users/al3792/Documents/MacroEnergy.jl/src/load_inputs/load_system.jl:46\n",
      "┌ Info: Generating model\n",
      "└ @ MacroEnergy /Users/al3792/Documents/MacroEnergy.jl/src/generate_model.jl:3\n",
      "┌ Info:  -- Adding linking variables\n",
      "└ @ MacroEnergy /Users/al3792/Documents/MacroEnergy.jl/src/generate_model.jl:15\n",
      "┌ Info:  -- Defining available capacity\n",
      "└ @ MacroEnergy /Users/al3792/Documents/MacroEnergy.jl/src/generate_model.jl:18\n",
      "┌ Info:  -- Generating planning model\n",
      "└ @ MacroEnergy /Users/al3792/Documents/MacroEnergy.jl/src/generate_model.jl:21\n",
      "┌ Info:  -- Generating operational model\n",
      "└ @ MacroEnergy /Users/al3792/Documents/MacroEnergy.jl/src/generate_model.jl:24\n",
      "┌ Info:  -- Model generation complete. It took 13.15 seconds\n",
      "└ @ MacroEnergy /Users/al3792/Documents/MacroEnergy.jl/src/generate_model.jl:29\n"
     ]
    },
    {
     "data": {
      "text/plain": [
       "A JuMP Model\n",
       "├ solver: none\n",
       "├ objective_sense: MIN_SENSE\n",
       "│ └ objective_function_type: AffExpr\n",
       "├ num_variables: 858532\n",
       "├ num_constraints: 1988599\n",
       "│ ├ AffExpr in MOI.EqualTo{Float64}: 490561\n",
       "│ ├ AffExpr in MOI.GreaterThan{Float64}: 78840\n",
       "│ ├ AffExpr in MOI.LessThan{Float64}: 578186\n",
       "│ ├ VariableRef in MOI.EqualTo{Float64}: 13\n",
       "│ └ VariableRef in MOI.GreaterThan{Float64}: 840999\n",
       "└ Names registered in the model\n",
       "  └ :cRetrofitCapacity, :eFixedCost, :eVariableCost, :vREF"
      ]
     },
     "metadata": {},
     "output_type": "display_data"
    }
   ],
   "source": [
    "system = MacroEnergy.load_system(@__DIR__)\n",
    "model = MacroEnergy.generate_model(system)"
   ]
  },
  {
   "cell_type": "code",
   "execution_count": 3,
   "metadata": {},
   "outputs": [
    {
     "name": "stdout",
     "output_type": "stream",
     "text": [
      "Set parameter Username\n",
      "Set parameter LicenseID to value 2637694\n",
      "Academic license - for non-commercial use only - expires 2026-03-17\n",
      "Set parameter BarConvTol to value 0.001\n",
      "Set parameter Crossover to value 0\n",
      "Set parameter Method to value 2\n",
      "Set parameter Method to value 2\n",
      "Set parameter Crossover to value 0\n",
      "Set parameter BarConvTol to value 0.001\n",
      "Gurobi Optimizer version 12.0.2 build v12.0.2rc0 (mac64[arm] - Darwin 24.5.0 24F74)\n",
      "\n",
      "CPU model: Apple M4 Pro\n",
      "Thread count: 14 physical cores, 14 logical processors, using up to 14 threads\n",
      "\n",
      "Non-default parameters:\n",
      "Method  2\n",
      "BarConvTol  0.001\n",
      "Crossover  0\n",
      "\n",
      "Optimize a model with 1147587 rows, 858532 columns and 3608083 nonzeros\n",
      "Model fingerprint: 0x5ce34670\n",
      "Coefficient statistics:\n",
      "  Matrix range     [4e-07, 2e+04]\n",
      "  Objective range  [1e-01, 4e+07]\n",
      "  Bounds range     [1e+00, 1e+00]\n",
      "  RHS range        [2e+00, 2e+04]\n",
      "Presolve removed 640041 rows and 452795 columns\n",
      "Presolve time: 0.72s\n",
      "Presolved: 507546 rows, 405737 columns, 2406303 nonzeros\n",
      "Ordering time: 0.21s\n",
      "\n",
      "Barrier statistics:\n",
      " Dense cols : 28\n",
      " AA' NZ     : 3.764e+06\n",
      " Factor NZ  : 1.649e+07 (roughly 500 MB of memory)\n",
      " Factor Ops : 1.302e+09 (less than 1 second per iteration)\n",
      " Threads    : 14\n",
      "\n",
      "                  Objective                Residual\n",
      "Iter       Primal          Dual         Primal    Dual     Compl     Time\n",
      "   0   2.15986529e+14 -9.87542256e+12  7.54e+04 2.97e+02  4.72e+10     1s\n",
      "   1   1.82414277e+14 -2.23556008e+13  6.50e+04 1.05e+06  4.09e+10     1s\n",
      "   2   1.63351009e+14 -2.24916154e+14  5.89e+04 9.52e+05  2.88e+10     1s\n",
      "   3   3.33938121e+13 -3.04996368e+14  1.48e+04 3.39e+05  8.77e+09     2s\n",
      "   4   1.23277824e+13 -2.84493686e+14  5.28e+03 1.19e+05  3.27e+09     2s\n",
      "   5   6.61901998e+12 -2.09575350e+14  1.85e+03 5.53e+04  1.34e+09     2s\n",
      "   6   4.75858455e+12 -6.86242570e+13  6.78e+02 1.12e+04  3.52e+08     2s\n",
      "   7   2.27088548e+12 -1.15650942e+13  1.62e+01 3.73e+02  2.16e+07     2s\n",
      "   8   7.19368145e+11 -3.05137782e+12  6.98e-01 8.67e+01  4.97e+06     2s\n",
      "   9   2.55889377e+11 -3.13815193e+11  6.87e-02 9.19e+00  6.89e+05     2s\n",
      "  10   5.84906022e+10 -7.36182384e+10  3.32e-03 2.09e+00  1.50e+05     2s\n",
      "  11   1.09675189e+10 -1.84417450e+10  5.31e-04 5.09e-01  3.18e+04     2s\n",
      "  12   6.14472545e+09 -6.89474628e+09  3.24e-04 2.00e-01  1.40e+04     2s\n",
      "  13   4.36261821e+09 -2.08056799e+09  2.19e-04 7.96e-02  6.87e+03     3s\n",
      "  14   3.32892578e+09 -1.02442611e+09  1.41e-04 5.67e-02  4.64e+03     3s\n",
      "  15   2.73380555e+09  1.93069963e+08  9.70e-05 3.22e-02  2.71e+03     3s\n",
      "  16   2.66791679e+09  4.80018153e+08  9.18e-05 2.65e-02  2.33e+03     3s\n",
      "  17   2.60220119e+09  6.79386169e+08  8.66e-05 2.22e-02  2.05e+03     3s\n",
      "  18   2.47718817e+09  1.03143709e+09  7.47e-05 1.50e-02  1.54e+03     3s\n",
      "  19   2.24162279e+09  1.28381885e+09  5.39e-05 8.75e-03  1.03e+03     3s\n",
      "  20   2.06887474e+09  1.42996181e+09  3.52e-05 5.69e-03  6.89e+02     3s\n",
      "  21   2.06702059e+09  1.45921725e+09  3.51e-05 5.01e-03  6.54e+02     3s\n",
      "  22   1.94928330e+09  1.54996851e+09  2.50e-05 2.78e-03  4.31e+02     4s\n",
      "  23   1.85754491e+09  1.61992584e+09  1.63e-05 1.25e-03  2.56e+02     4s\n",
      "  24   1.82994348e+09  1.63858843e+09  1.30e-05 9.87e-04  2.06e+02     4s\n",
      "  25   1.79373001e+09  1.64259857e+09  1.32e-05 9.21e-04  1.64e+02     4s\n",
      "  26   1.75616857e+09  1.64459336e+09  1.27e-05 8.87e-04  1.22e+02     4s\n",
      "  27   1.74944837e+09  1.68507028e+09  1.39e-05 1.64e-04  6.85e+01     4s\n",
      "  28   1.71715788e+09  1.69383452e+09  1.51e-05 5.75e-05  2.48e+01     4s\n",
      "  29   1.71046749e+09  1.69661511e+09  4.98e-04 2.62e-05  1.47e+01     4s\n",
      "  30   1.70700803e+09  1.69834262e+09  3.69e-04 1.05e-05  9.14e+00     5s\n",
      "  31   1.70595351e+09  1.69893723e+09  3.41e-04 4.51e-06  7.38e+00     5s\n",
      "  32   1.70318607e+09  1.69918186e+09  2.00e-04 1.60e-06  4.21e+00     5s\n",
      "  33   1.70007441e+09  1.69926900e+09  5.17e-05 7.44e-07  8.50e-01     5s\n",
      "  34   1.69952279e+09  1.69929269e+09  1.63e-05 5.07e-07  2.46e-01     5s\n",
      "  35   1.69947188e+09  1.69929736e+09  1.14e-05 4.17e-07  1.87e-01     5s\n",
      "\n",
      "Barrier solved model in 35 iterations and 5.13 seconds (12.53 work units)\n",
      "Optimal objective 1.69947188e+09\n",
      "\n",
      "\n",
      "User-callback calls 1040, time in user-callback 0.00 sec\n"
     ]
    }
   ],
   "source": [
    "MacroEnergy.set_optimizer(model, Gurobi.Optimizer);\n",
    "MacroEnergy.set_optimizer_attributes(model, \"BarConvTol\"=>1e-3,\"Crossover\" => 0, \"Method\" => 2)\n",
    "MacroEnergy.optimize!(model)"
   ]
  },
  {
   "cell_type": "code",
   "execution_count": 6,
   "metadata": {},
   "outputs": [
    {
     "data": {
      "text/plain": [
       "\"/Users/al3792/Documents/MacroEnergy.jl/ExampleSystems/eastern_us_three_zones_with_cement/results/0pct_co2_reduction_flows.csv\""
      ]
     },
     "metadata": {},
     "output_type": "display_data"
    }
   ],
   "source": [
    "case = \"0pct_co2_reduction\"\n",
    "results_dir = joinpath(@__DIR__,  \"results\")\n",
    "mkpath(results_dir)\n",
    "save_results(results_dir, case, system)"
   ]
  },
  {
   "cell_type": "code",
   "execution_count": null,
   "metadata": {},
   "outputs": [],
   "source": [
    "# Run model for different CO2 caps, if you have a no_cap_co2_level\n",
    "\n",
    "no_cap_co2_level = 1.602e6\n",
    "co2_reductions = [0.2, 0.4, 0.6, 0.8] # If there is a 0, it must be the first value\n",
    "system = nothing\n",
    "model = nothing\n",
    "\n",
    "for co2_reduction in co2_reductions\n",
    "    # Load system\n",
    "    case_path = @__DIR__\n",
    "    println(\"###### ###### ######\")\n",
    "    println(\"Running case at $(case_path)\")\n",
    "    system = MacroEnergy.load_system(case_path)\n",
    "\n",
    "    # Get the CO2 node\n",
    "    nodes = Node[x for x in system.locations if x isa MacroEnergy.Node]\n",
    "    co2_node = MacroEnergy.get_nodes_sametype(nodes, CO2)[1] # the cement_co2_sink node is the first CO2 node\n",
    "\n",
    "    if co2_reduction == 0 # If there is no CO2 cap\n",
    "        case = \"0pct_co2_reduction\"\n",
    "        co2_node.constraints = AbstractTypeConstraint[] # Remove CO2 cap constraint\n",
    "    else # If there is not a CO2 cap\n",
    "        case = string(floor(Int, co2_reduction * 100)) * \"pct_co2_reduction\"\n",
    "        co2_node.rhs_policy[CO2CapConstraint] = no_cap_co2_level * (1 - co2_reduction) # Set CO2 cap\n",
    "        print(no_cap_co2_level * (1 - co2_reduction))\n",
    "    end\n",
    "\n",
    "    # Run model\n",
    "    model = MacroEnergy.generate_model(system)\n",
    "    MacroEnergy.set_optimizer(model, Gurobi.Optimizer);\n",
    "    MacroEnergy.set_optimizer_attributes(model, \"BarConvTol\"=>1e-3,\"Crossover\" => 0, \"Method\" => 2)\n",
    "    MacroEnergy.optimize!(model)\n",
    "\n",
    "    # Save results\n",
    "    results_dir = joinpath(case_path, \"results\")\n",
    "    mkpath(results_dir)\n",
    "    save_results(results_dir, case, system)\n",
    "    # @save case * \"_results.jld2\" system_results_df capacity_results_df results_8760_df\n",
    "    # println(\"wrote results\")\n",
    "\n",
    "    # Record the no_cap_co2_level for next iterations\n",
    "    if co2_reduction == 0\n",
    "        no_cap_co2_level = MacroEnergy.value(sum(co2_node.operation_expr[:emissions]))\n",
    "    end\n",
    "end"
   ]
  },
  {
   "cell_type": "code",
   "execution_count": null,
   "metadata": {},
   "outputs": [],
   "source": []
  }
 ],
 "metadata": {
  "kernelspec": {
   "display_name": "Julia 1.11.5",
   "language": "julia",
   "name": "julia-1.11"
  },
  "language_info": {
   "file_extension": ".jl",
   "mimetype": "application/julia",
   "name": "julia",
   "version": "1.11.5"
  }
 },
 "nbformat": 4,
 "nbformat_minor": 2
}
