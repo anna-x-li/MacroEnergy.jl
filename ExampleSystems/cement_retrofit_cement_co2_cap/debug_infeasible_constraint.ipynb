{
 "cells": [
  {
   "cell_type": "code",
   "execution_count": 4,
   "metadata": {},
   "outputs": [
    {
     "name": "stderr",
     "output_type": "stream",
     "text": [
      "\u001b[32m\u001b[1m  Activating\u001b[22m\u001b[39m project at `~/Documents/MacroEnergy.jl`\n"
     ]
    }
   ],
   "source": [
    "using Pkg\n",
    "using Revise\n",
    "Pkg.activate(dirname(dirname(@__DIR__)))\n",
    "using MacroEnergy\n",
    "using Gurobi\n",
    "using Plots\n",
    "using DataFrames, CSV\n",
    "using BenchmarkTools\n",
    "using JLD2, FileIO\n",
    "using JuMP"
   ]
  },
  {
   "cell_type": "code",
   "execution_count": 6,
   "metadata": {},
   "outputs": [
    {
     "data": {
      "text/plain": [
       "get_co2_node_values (generic function with 1 method)"
      ]
     },
     "metadata": {},
     "output_type": "display_data"
    }
   ],
   "source": [
    "include(\"../helper_functions.jl\")"
   ]
  },
  {
   "cell_type": "code",
   "execution_count": 7,
   "metadata": {},
   "outputs": [
    {
     "name": "stderr",
     "output_type": "stream",
     "text": [
      "┌ Info: Loading system from /Users/al3792/Documents/MacroEnergy.jl/ExampleSystems/cement_retrofit_cement_co2_cap/system_data.json\n",
      "└ @ MacroEnergy /Users/al3792/Documents/MacroEnergy.jl/src/load_inputs/load_system.jl:18\n",
      "┌ Info: Loading system data\n",
      "└ @ MacroEnergy /Users/al3792/Documents/MacroEnergy.jl/src/load_inputs/load_system_data.jl:18\n",
      "┌ Info: Done loading system data. It took 0.46 seconds\n",
      "└ @ MacroEnergy /Users/al3792/Documents/MacroEnergy.jl/src/load_inputs/load_system_data.jl:26\n",
      "┌ Info: Generating system\n",
      "└ @ MacroEnergy /Users/al3792/Documents/MacroEnergy.jl/src/load_inputs/generate_system.jl:18\n",
      "┌ Warning: WeightTotal not found in time_data.json\n",
      "└ @ MacroEnergy /Users/al3792/Documents/MacroEnergy.jl/src/load_inputs/load_time_data.jl:81\n",
      "┌ Info: Using PeriodLength as default value for WeightTotal\n",
      "└ @ MacroEnergy /Users/al3792/Documents/MacroEnergy.jl/src/load_inputs/load_time_data.jl:82\n",
      "┌ Info: Done generating system. It took 4.22 seconds\n",
      "└ @ MacroEnergy /Users/al3792/Documents/MacroEnergy.jl/src/load_inputs/generate_system.jl:35\n",
      "┌ Info: Done loading system. It took 4.68 seconds\n",
      "└ @ MacroEnergy /Users/al3792/Documents/MacroEnergy.jl/src/load_inputs/load_system.jl:25\n",
      "┌ Info: Generating model\n",
      "└ @ MacroEnergy /Users/al3792/Documents/MacroEnergy.jl/src/generate_model.jl:3\n",
      "┌ Info:  -- Adding linking variables\n",
      "└ @ MacroEnergy /Users/al3792/Documents/MacroEnergy.jl/src/generate_model.jl:15\n",
      "┌ Info:  -- Defining available capacity\n",
      "└ @ MacroEnergy /Users/al3792/Documents/MacroEnergy.jl/src/generate_model.jl:18\n",
      "┌ Info:  -- Generating planning model\n",
      "└ @ MacroEnergy /Users/al3792/Documents/MacroEnergy.jl/src/generate_model.jl:21\n",
      "┌ Info: Retrofit_ids: Any[1]\n",
      "└ @ MacroEnergy /Users/al3792/Documents/MacroEnergy.jl/src/model/constraints/constraints_utils.jl:23\n",
      "┌ Info:  -- Generating operational model\n",
      "└ @ MacroEnergy /Users/al3792/Documents/MacroEnergy.jl/src/generate_model.jl:24\n",
      "┌ Info:  -- Model generation complete. It took 13.21 seconds\n",
      "└ @ MacroEnergy /Users/al3792/Documents/MacroEnergy.jl/src/generate_model.jl:29\n"
     ]
    },
    {
     "name": "stdout",
     "output_type": "stream",
     "text": [
      "Set parameter Username\n",
      "Set parameter LicenseID to value 2637694\n",
      "Academic license - for non-commercial use only - expires 2026-03-17\n",
      "Set parameter BarConvTol to value 0.001\n",
      "Set parameter Crossover to value 0\n",
      "Set parameter Method to value 2\n",
      "Set parameter Method to value 2\n",
      "Set parameter Crossover to value 0\n",
      "Set parameter BarConvTol to value 0.001\n",
      "Gurobi Optimizer version 12.0.1 build v12.0.1rc0 (mac64[arm] - Darwin 24.2.0 24C101)\n",
      "\n",
      "CPU model: Apple M4 Pro\n",
      "Thread count: 14 physical cores, 14 logical processors, using up to 14 threads\n",
      "\n",
      "Non-default parameters:\n",
      "Method  2\n",
      "BarConvTol  0.001\n",
      "Crossover  0\n",
      "\n",
      "Optimize a model with 867269 rows, 604487 columns and 2924804 nonzeros\n",
      "Model fingerprint: 0x387150d6\n",
      "Coefficient statistics:\n",
      "  Matrix range     [4e-07, 2e+04]\n",
      "  Objective range  [1e-01, 2e+07]\n",
      "  Bounds range     [1e+00, 1e+00]\n",
      "  RHS range        [2e+00, 1e+06]\n",
      "Presolve removed 447324 rows and 245848 columns\n",
      "Presolve time: 1.07s\n",
      "Presolved: 419945 rows, 358639 columns, 1943112 nonzeros\n",
      "Ordering time: 0.22s\n",
      "\n",
      "Barrier statistics:\n",
      " Dense cols : 15\n",
      " AA' NZ     : 3.161e+06\n",
      " Factor NZ  : 1.493e+07 (roughly 400 MB of memory)\n",
      " Factor Ops : 1.234e+09 (less than 1 second per iteration)\n",
      " Threads    : 14\n",
      "\n",
      "                  Objective                Residual\n",
      "Iter       Primal          Dual         Primal    Dual     Compl     Time\n",
      "   0   8.32437628e+14 -7.78643367e+12  1.14e+09 8.08e+04  1.90e+11     2s\n",
      "   1   7.18045617e+14 -4.64325404e+13  1.01e+09 1.29e+06  1.57e+11     2s\n",
      "   2   6.84149832e+14 -7.03652399e+13  9.73e+08 1.11e+06  1.43e+11     2s\n",
      "   3   2.14904323e+14 -2.31168318e+14  3.83e+08 4.17e+05  5.92e+10     2s\n",
      "   4   2.12799249e+14  4.03804399e+16  3.80e+08 1.05e+05  4.09e+10     2s\n",
      "   5   4.37190318e+13  1.07861061e+17  5.99e+07 6.22e+04  1.01e+10     2s\n",
      "   6   2.52653813e+13  7.81035667e+17  1.77e+07 2.25e+04  3.73e+10     2s\n",
      "   7   1.77912510e+13  3.97156594e+18  9.35e+06 1.16e+04  1.43e+12     2s\n",
      "   8   1.30168604e+13  9.76004762e+18  4.97e+06 6.02e+03  2.94e+12     2s\n",
      "   9   9.54022634e+12  1.72653984e+19  2.59e+06 3.06e+03  4.46e+12     3s\n",
      "  10   6.81722321e+12  3.06193473e+19  1.33e+06 1.55e+03  7.36e+12     3s\n",
      "  11   5.01506703e+12  5.53062526e+19  7.44e+05 8.23e+02  8.50e+12     3s\n",
      "  12   3.76394416e+12  8.08510602e+19  4.58e+05 4.94e+02  8.67e+12     3s\n",
      "  13   2.81959533e+12  1.12537351e+20  2.93e+05 3.07e+02  8.32e+12     3s\n",
      "  14   2.04031710e+12  1.47148152e+20  1.90e+05 1.92e+02  8.79e+12     3s\n",
      "  15   1.46825936e+12  3.94430822e+20  1.26e+05 1.01e+02  1.11e+14     3s\n",
      "  16   1.05123511e+12  5.73936500e+20  8.60e+04 5.20e+01  1.42e+14     3s\n",
      "  17   7.57131607e+11  6.96537297e+20  6.32e+04 2.70e+01  9.53e+13     4s\n",
      "  18   1.10972659e+12  6.96537841e+20  6.32e+04 2.55e+01  9.53e+13     4s\n",
      "  19   1.60863791e+12  6.96537856e+20  6.32e+04 2.47e+01  9.53e+13     4s\n",
      "  20   8.32437628e+14 -7.78643367e+12  1.14e+09 8.08e+04  1.90e+11     4s\n",
      "  21   5.11280983e+14 -5.98842161e+13  7.41e+08 2.98e+05  9.33e+10     5s\n",
      "  22   1.82418372e+14 -1.32866088e+13  3.82e+08 2.13e+04  4.41e+09     5s\n",
      "  23*  4.16400304e+16  1.09036212e+15  1.03e+08 8.85e+04  3.10e+07     5s\n",
      "  24*  4.52934604e+15  5.64654455e+14  1.46e+07 1.64e+04  6.89e+06     5s\n",
      "  25*  1.64265006e+15  2.19139170e+15  1.53e+06 9.36e+01  3.65e+05     6s\n",
      "  26*  3.43505884e+17  3.71661091e+17  4.99e+03 3.15e-01  8.30e+02     6s\n",
      "\n",
      "Barrier performed 26 iterations in 5.81 seconds (17.96 work units)\n",
      "Infeasible model\n",
      "\n",
      "\n",
      "User-callback calls 844, time in user-callback 0.00 sec\n"
     ]
    }
   ],
   "source": [
    "system = MacroEnergy.load_system(@__DIR__)\n",
    "model = MacroEnergy.generate_model(system)\n",
    "MacroEnergy.set_optimizer(model, Gurobi.Optimizer);\n",
    "MacroEnergy.set_optimizer_attributes(model, \"BarConvTol\"=>1e-3,\"Crossover\" => 0, \"Method\" => 2)\n",
    "MacroEnergy.optimize!(model)"
   ]
  },
  {
   "cell_type": "code",
   "execution_count": null,
   "metadata": {},
   "outputs": [
    {
     "ename": "UndefVarError",
     "evalue": "UndefVarError: `model` not defined in `Main`\nSuggestion: check for spelling errors or missing imports.",
     "output_type": "error",
     "traceback": [
      "UndefVarError: `model` not defined in `Main`\n",
      "Suggestion: check for spelling errors or missing imports.\n"
     ]
    }
   ],
   "source": []
  },
  {
   "cell_type": "code",
   "execution_count": null,
   "metadata": {},
   "outputs": [],
   "source": []
  }
 ],
 "metadata": {
  "kernelspec": {
   "display_name": "Julia 1.11.4",
   "language": "julia",
   "name": "julia-1.11"
  },
  "language_info": {
   "file_extension": ".jl",
   "mimetype": "application/julia",
   "name": "julia",
   "version": "1.11.4"
  }
 },
 "nbformat": 4,
 "nbformat_minor": 2
}
