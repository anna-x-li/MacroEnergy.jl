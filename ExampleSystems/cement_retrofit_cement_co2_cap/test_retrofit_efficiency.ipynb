{
 "cells": [
  {
   "cell_type": "code",
   "execution_count": 27,
   "metadata": {},
   "outputs": [
    {
     "name": "stderr",
     "output_type": "stream",
     "text": [
      "\u001b[32m\u001b[1m  Activating\u001b[22m\u001b[39m project at `~/Documents/MacroEnergy.jl`\n"
     ]
    }
   ],
   "source": [
    "using Pkg\n",
    "using Revise\n",
    "Pkg.activate(dirname(dirname(@__DIR__)))\n",
    "using MacroEnergy\n",
    "using Gurobi\n",
    "using Plots\n",
    "using DataFrames, CSV\n",
    "using BenchmarkTools\n",
    "using JLD2, FileIO\n",
    "using JuMP"
   ]
  },
  {
   "cell_type": "code",
   "execution_count": 28,
   "metadata": {},
   "outputs": [
    {
     "data": {
      "text/plain": [
       "get_co2_node_values (generic function with 1 method)"
      ]
     },
     "metadata": {},
     "output_type": "display_data"
    }
   ],
   "source": [
    "include(\"../helper_functions.jl\")"
   ]
  },
  {
   "cell_type": "code",
   "execution_count": 29,
   "metadata": {},
   "outputs": [
    {
     "name": "stderr",
     "output_type": "stream",
     "text": [
      "┌ Info: Loading system from /Users/al3792/Documents/MacroEnergy.jl/ExampleSystems/cement_retrofit_cement_co2_cap/system_data.json\n",
      "└ @ MacroEnergy /Users/al3792/Documents/MacroEnergy.jl/src/load_inputs/load_system.jl:18\n",
      "┌ Info: Loading system data\n",
      "└ @ MacroEnergy /Users/al3792/Documents/MacroEnergy.jl/src/load_inputs/load_system_data.jl:18\n",
      "┌ Info: Done loading system data. It took 0.0 seconds\n",
      "└ @ MacroEnergy /Users/al3792/Documents/MacroEnergy.jl/src/load_inputs/load_system_data.jl:26\n",
      "┌ Info: Generating system\n",
      "└ @ MacroEnergy /Users/al3792/Documents/MacroEnergy.jl/src/load_inputs/generate_system.jl:18\n",
      "┌ Warning: TotalHoursModeled not found in time_data.json - Using 8760 as default value for TotalHoursModeled\n",
      "└ @ MacroEnergy /Users/al3792/Documents/MacroEnergy.jl/src/load_inputs/load_time_data.jl:79\n",
      "┌ Warning: Using default weights = 1 as no period map provided and each period maps to itself\n",
      "└ @ MacroEnergy /Users/al3792/Documents/MacroEnergy.jl/src/load_inputs/load_time_data.jl:194\n",
      "┌ Warning: Using default weights = 1 as no period map provided and each period maps to itself\n",
      "└ @ MacroEnergy /Users/al3792/Documents/MacroEnergy.jl/src/load_inputs/load_time_data.jl:194\n",
      "┌ Warning: Using default weights = 1 as no period map provided and each period maps to itself\n",
      "└ @ MacroEnergy /Users/al3792/Documents/MacroEnergy.jl/src/load_inputs/load_time_data.jl:194\n",
      "┌ Warning: Using default weights = 1 as no period map provided and each period maps to itself\n",
      "└ @ MacroEnergy /Users/al3792/Documents/MacroEnergy.jl/src/load_inputs/load_time_data.jl:194\n",
      "┌ Warning: Using default weights = 1 as no period map provided and each period maps to itself\n",
      "└ @ MacroEnergy /Users/al3792/Documents/MacroEnergy.jl/src/load_inputs/load_time_data.jl:194\n",
      "┌ Warning: Using default weights = 1 as no period map provided and each period maps to itself\n",
      "└ @ MacroEnergy /Users/al3792/Documents/MacroEnergy.jl/src/load_inputs/load_time_data.jl:194\n",
      "┌ Info: Done generating system. It took 0.2 seconds\n",
      "└ @ MacroEnergy /Users/al3792/Documents/MacroEnergy.jl/src/load_inputs/generate_system.jl:35\n",
      "┌ Info: Done loading system. It took 0.2 seconds\n",
      "└ @ MacroEnergy /Users/al3792/Documents/MacroEnergy.jl/src/load_inputs/load_system.jl:25\n",
      "┌ Info: Generating model\n",
      "└ @ MacroEnergy /Users/al3792/Documents/MacroEnergy.jl/src/generate_model.jl:3\n",
      "┌ Info:  -- Adding linking variables\n",
      "└ @ MacroEnergy /Users/al3792/Documents/MacroEnergy.jl/src/generate_model.jl:15\n",
      "┌ Info:  -- Defining available capacity\n",
      "└ @ MacroEnergy /Users/al3792/Documents/MacroEnergy.jl/src/generate_model.jl:18\n",
      "┌ Info:  -- Generating planning model\n",
      "└ @ MacroEnergy /Users/al3792/Documents/MacroEnergy.jl/src/generate_model.jl:21\n",
      "┌ Info: Retrofit_ids: Any[1]\n",
      "└ @ MacroEnergy /Users/al3792/Documents/MacroEnergy.jl/src/model/constraints/constraints_utils.jl:23\n",
      "┌ Info:  -- Generating operational model\n",
      "└ @ MacroEnergy /Users/al3792/Documents/MacroEnergy.jl/src/generate_model.jl:24\n",
      "┌ Info:  -- Model generation complete. It took 7.42 seconds\n",
      "└ @ MacroEnergy /Users/al3792/Documents/MacroEnergy.jl/src/generate_model.jl:29\n"
     ]
    },
    {
     "name": "stdout",
     "output_type": "stream",
     "text": [
      "Set parameter Username\n",
      "Set parameter LicenseID to value 2637694\n",
      "Academic license - for non-commercial use only - expires 2026-03-17\n",
      "Set parameter BarConvTol to value 0.001\n",
      "Set parameter Crossover to value 0\n",
      "Set parameter Method to value 2\n",
      "Set parameter Method to value 2\n",
      "Set parameter Crossover to value 0\n",
      "Set parameter BarConvTol to value 0.001\n",
      "Gurobi Optimizer version 12.0.1 build v12.0.1rc0 (mac64[arm] - Darwin 24.2.0 24C101)\n",
      "\n",
      "CPU model: Apple M4 Pro\n",
      "Thread count: 14 physical cores, 14 logical processors, using up to 14 threads\n",
      "\n",
      "Non-default parameters:\n",
      "Method  2\n",
      "BarConvTol  0.001\n",
      "Crossover  0\n",
      "\n",
      "Optimize a model with 867269 rows, 604487 columns and 2898524 nonzeros\n",
      "Model fingerprint: 0xf6ec45a8\n",
      "Coefficient statistics:\n",
      "  Matrix range     [4e-07, 2e+04]\n",
      "  Objective range  [1e-01, 2e+07]\n",
      "  Bounds range     [1e+00, 1e+00]\n",
      "  RHS range        [2e+00, 1e+06]\n",
      "Presolve removed 421043 rows and 219559 columns\n",
      "Presolve time: 1.04s\n",
      "Presolved: 446226 rows, 384928 columns, 2100798 nonzeros\n",
      "Ordering time: 0.19s\n",
      "\n",
      "Barrier statistics:\n",
      " Dense cols : 24\n",
      " AA' NZ     : 3.293e+06\n",
      " Factor NZ  : 1.627e+07 (roughly 500 MB of memory)\n",
      " Factor Ops : 1.358e+09 (less than 1 second per iteration)\n",
      " Threads    : 14\n",
      "\n",
      "                  Objective                Residual\n",
      "Iter       Primal          Dual         Primal    Dual     Compl     Time\n",
      "   0   6.96157705e+14 -4.32240956e+12  8.42e+08 8.11e+04  1.43e+11     2s\n",
      "   1   6.38338730e+14 -1.27065102e+13  7.85e+08 1.35e+06  1.33e+11     2s\n",
      "   2   5.63645890e+14 -5.48727979e+13  5.95e+08 1.09e+06  1.01e+11     2s\n",
      "   3   3.14622645e+14 -1.41528274e+14  3.29e+08 3.90e+05  5.36e+10     2s\n",
      "   4   2.74548863e+14 -1.80031175e+14  2.93e+08 1.64e+05  4.69e+10     2s\n",
      "   5   6.58345716e+13 -1.87968838e+14  6.03e+07 6.81e+04  1.27e+10     2s\n",
      "   6   3.31239140e+13 -1.69143446e+14  2.74e+07 3.60e+04  5.44e+09     2s\n",
      "   7   1.73689889e+13 -1.17644561e+14  7.07e+06 1.06e+04  1.58e+09     2s\n",
      "   8   7.42328152e+12 -3.16157161e+13  3.72e+05 2.98e+02  9.97e+07     2s\n",
      "   9   2.46582037e+12 -6.58716807e+12  1.25e+01 3.92e+01  1.50e+07     2s\n",
      "  10   8.11060931e+11 -8.84538587e+11  1.05e+00 3.97e+00  2.30e+06     3s\n",
      "  11   1.70020462e+11 -2.03012511e+11  5.35e-02 1.02e+00  4.66e+05     3s\n",
      "  12   8.63260994e+10 -5.66509513e+10  2.38e-02 2.74e-01  1.73e+05     3s\n",
      "  13   3.61419072e+10 -1.99140155e+10  9.43e-03 8.12e-02  6.68e+04     3s\n",
      "  14   1.62261698e+10 -6.55696992e+09  4.12e-03 2.43e-02  2.70e+04     3s\n",
      "  15   7.17710731e+09 -1.37702991e+09  1.44e-03 8.05e-03  1.01e+04     3s\n",
      "  16   4.60392794e+09  3.25311068e+07  7.84e-04 4.20e-03  5.42e+03     3s\n",
      "  17   3.02379993e+09  7.52441147e+08  3.62e-04 2.10e-03  2.70e+03     3s\n",
      "  18   2.75566806e+09  8.64593436e+08  2.97e-04 1.59e-03  2.25e+03     3s\n",
      "  19   2.63828823e+09  9.99092620e+08  2.67e-04 1.24e-03  1.95e+03     3s\n",
      "  20   2.56809232e+09  1.12897918e+09  2.42e-04 1.03e-03  1.71e+03     3s\n",
      "  21   2.15568960e+09  1.39544010e+09  1.22e-04 5.47e-04  9.03e+02     4s\n",
      "  22   2.06257965e+09  1.49419905e+09  9.70e-05 3.42e-04  6.74e+02     4s\n",
      "  23   1.99347997e+09  1.55175833e+09  7.89e-05 2.60e-04  5.24e+02     4s\n",
      "  24   1.92885665e+09  1.55520954e+09  6.02e-05 2.54e-04  4.44e+02     4s\n",
      "  25   1.92137127e+09  1.57043461e+09  5.81e-05 2.25e-04  4.17e+02     4s\n",
      "  26   1.88643277e+09  1.66369679e+09  4.88e-05 2.84e-04  2.63e+02     4s\n",
      "  27   1.80150043e+09  1.66643416e+09  2.52e-05 2.65e-04  1.60e+02     4s\n",
      "  28   1.77440723e+09  1.69301929e+09  1.80e-05 3.16e-04  9.61e+01     4s\n",
      "  29   1.75363166e+09  1.70067674e+09  1.22e-05 1.53e-04  6.25e+01     4s\n",
      "  30   1.75193883e+09  1.70210981e+09  1.27e-05 1.40e-04  5.88e+01     4s\n",
      "  31   1.73526244e+09  1.70401213e+09  1.18e-04 1.28e-04  3.69e+01     5s\n",
      "  32   1.72935899e+09  1.70505034e+09  1.27e-04 9.16e-05  2.87e+01     5s\n",
      "  33   1.72762222e+09  1.70588533e+09  1.30e-04 7.03e-05  2.56e+01     5s\n",
      "  34   1.71923312e+09  1.70707384e+09  2.18e-04 6.70e-05  1.43e+01     5s\n",
      "  35   1.71429993e+09  1.70751574e+09  2.24e-04 2.04e-05  8.01e+00     5s\n",
      "  36   1.71186310e+09  1.70774379e+09  1.84e-04 9.22e-06  4.86e+00     5s\n",
      "  37   1.71128745e+09  1.70786681e+09  1.67e-04 2.83e-05  4.04e+00     5s\n",
      "  38   1.70936725e+09  1.70792367e+09  9.23e-05 2.51e-05  1.71e+00     5s\n",
      "  39   1.70882378e+09  1.70794216e+09  7.66e-05 2.13e-05  1.05e+00     5s\n",
      "\n",
      "Barrier solved model in 39 iterations and 5.49 seconds (17.94 work units)\n",
      "Optimal objective 1.70882378e+09\n",
      "\n",
      "\n",
      "User-callback calls 917, time in user-callback 0.00 sec\n"
     ]
    }
   ],
   "source": [
    "system = MacroEnergy.load_system(@__DIR__)\n",
    "model = MacroEnergy.generate_model(system)\n",
    "MacroEnergy.set_optimizer(model, Gurobi.Optimizer);\n",
    "MacroEnergy.set_optimizer_attributes(model, \"BarConvTol\"=>1e-3,\"Crossover\" => 0, \"Method\" => 2)\n",
    "MacroEnergy.optimize!(model)"
   ]
  },
  {
   "cell_type": "code",
   "execution_count": 30,
   "metadata": {},
   "outputs": [
    {
     "data": {
      "text/plain": [
       "77.98076586587977"
      ]
     },
     "metadata": {},
     "output_type": "display_data"
    }
   ],
   "source": [
    "retrofitted_capacity = 0\n",
    "for i in 1:3\n",
    "    retrofitted_capacity += MacroEnergy.value(system.assets[i].cement_edge.retrofitted_capacity)\n",
    "end\n",
    "retrofitted_capacity"
   ]
  },
  {
   "cell_type": "code",
   "execution_count": 31,
   "metadata": {},
   "outputs": [
    {
     "data": {
      "text/plain": [
       "70.1826886861507"
      ]
     },
     "metadata": {},
     "output_type": "display_data"
    }
   ],
   "source": [
    "retrofit_capacity = 0\n",
    "for i in 4:6\n",
    "    retrofit_capacity += MacroEnergy.value(system.assets[i].echem_cement_edge.new_capacity)\n",
    "end\n",
    "retrofit_capacity"
   ]
  },
  {
   "cell_type": "code",
   "execution_count": 32,
   "metadata": {},
   "outputs": [
    {
     "data": {
      "text/plain": [
       "0.8999999923937513"
      ]
     },
     "metadata": {},
     "output_type": "display_data"
    }
   ],
   "source": [
    "retrofit_capacity / retrofitted_capacity"
   ]
  },
  {
   "cell_type": "code",
   "execution_count": null,
   "metadata": {},
   "outputs": [],
   "source": []
  }
 ],
 "metadata": {
  "kernelspec": {
   "display_name": "Julia 1.11.4",
   "language": "julia",
   "name": "julia-1.11"
  },
  "language_info": {
   "file_extension": ".jl",
   "mimetype": "application/julia",
   "name": "julia",
   "version": "1.11.4"
  }
 },
 "nbformat": 4,
 "nbformat_minor": 2
}
