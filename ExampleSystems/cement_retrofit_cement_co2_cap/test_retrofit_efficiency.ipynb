{
 "cells": [
  {
   "cell_type": "code",
   "execution_count": 44,
   "metadata": {},
   "outputs": [
    {
     "name": "stderr",
     "output_type": "stream",
     "text": [
      "\u001b[32m\u001b[1m  Activating\u001b[22m\u001b[39m project at `~/Documents/MacroEnergy.jl`\n"
     ]
    }
   ],
   "source": [
    "using Pkg\n",
    "using Revise\n",
    "Pkg.activate(dirname(dirname(@__DIR__)))\n",
    "using MacroEnergy\n",
    "using Gurobi\n",
    "using Plots\n",
    "using DataFrames, CSV\n",
    "using BenchmarkTools\n",
    "using JLD2, FileIO\n",
    "using JuMP"
   ]
  },
  {
   "cell_type": "code",
   "execution_count": 45,
   "metadata": {},
   "outputs": [
    {
     "data": {
      "text/plain": [
       "get_co2_node_values (generic function with 1 method)"
      ]
     },
     "metadata": {},
     "output_type": "display_data"
    }
   ],
   "source": [
    "include(\"../helper_functions.jl\")"
   ]
  },
  {
   "cell_type": "code",
   "execution_count": 47,
   "metadata": {},
   "outputs": [
    {
     "ename": "UndefVarError",
     "evalue": "UndefVarError: `lazy_load` not defined in `Main`\nSuggestion: check for spelling errors or missing imports.",
     "output_type": "error",
     "traceback": [
      "UndefVarError: `lazy_load` not defined in `Main`\n",
      "Suggestion: check for spelling errors or missing imports.\n",
      "\n",
      "Stacktrace:\n",
      " [1] top-level scope\n",
      "   @ ~/Documents/MacroEnergy.jl/ExampleSystems/cement_retrofit_cement_co2_cap/jl_notebook_cell_df34fa98e69747e1a8f8a730347b8e2f_X15sZmlsZQ==.jl:1"
     ]
    }
   ],
   "source": [
    "system = MacroEnergy.load_system(@__DIR__; lazy_load=lazy_load)\n",
    "# model = MacroEnergy.generate_model(system)\n",
    "# MacroEnergy.set_optimizer(model, Gurobi.Optimizer);\n",
    "# MacroEnergy.set_optimizer_attributes(model, \"BarConvTol\"=>1e-3,\"Crossover\" => 0, \"Method\" => 2)\n",
    "# MacroEnergy.optimize!(model)"
   ]
  },
  {
   "cell_type": "code",
   "execution_count": 30,
   "metadata": {},
   "outputs": [
    {
     "data": {
      "text/plain": [
       "77.98076586587977"
      ]
     },
     "metadata": {},
     "output_type": "display_data"
    }
   ],
   "source": [
    "retrofitted_capacity = 0\n",
    "for i in 1:3\n",
    "    retrofitted_capacity += MacroEnergy.value(system.assets[i].cement_edge.retrofitted_capacity)\n",
    "end\n",
    "retrofitted_capacity"
   ]
  },
  {
   "cell_type": "code",
   "execution_count": 31,
   "metadata": {},
   "outputs": [
    {
     "data": {
      "text/plain": [
       "70.1826886861507"
      ]
     },
     "metadata": {},
     "output_type": "display_data"
    }
   ],
   "source": [
    "retrofit_capacity = 0\n",
    "for i in 4:6\n",
    "    retrofit_capacity += MacroEnergy.value(system.assets[i].echem_cement_edge.new_capacity)\n",
    "end\n",
    "retrofit_capacity"
   ]
  },
  {
   "cell_type": "code",
   "execution_count": 32,
   "metadata": {},
   "outputs": [
    {
     "data": {
      "text/plain": [
       "0.8999999923937513"
      ]
     },
     "metadata": {},
     "output_type": "display_data"
    }
   ],
   "source": [
    "retrofit_capacity / retrofitted_capacity"
   ]
  },
  {
   "cell_type": "code",
   "execution_count": null,
   "metadata": {},
   "outputs": [],
   "source": []
  }
 ],
 "metadata": {
  "kernelspec": {
   "display_name": "Julia 1.11.4",
   "language": "julia",
   "name": "julia-1.11"
  },
  "language_info": {
   "file_extension": ".jl",
   "mimetype": "application/julia",
   "name": "julia",
   "version": "1.11.4"
  }
 },
 "nbformat": 4,
 "nbformat_minor": 2
}
