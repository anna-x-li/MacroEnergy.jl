{
 "cells": [
  {
   "cell_type": "code",
   "execution_count": 1,
   "metadata": {},
   "outputs": [
    {
     "name": "stderr",
     "output_type": "stream",
     "text": [
      "┌ Info: Loading system from /Users/al3792/Documents/MacroEnergy.jl/ExampleSystems/cement_retrofit_cement_co2_cap/system_data.json\n",
      "└ @ MacroEnergy /Users/al3792/Documents/MacroEnergy.jl/src/load_inputs/load_system.jl:18\n",
      "┌ Info: Loading system data\n",
      "└ @ MacroEnergy /Users/al3792/Documents/MacroEnergy.jl/src/load_inputs/load_system_data.jl:18\n",
      "┌ Info: Done loading system data. It took 0.41 seconds\n",
      "└ @ MacroEnergy /Users/al3792/Documents/MacroEnergy.jl/src/load_inputs/load_system_data.jl:26\n",
      "┌ Info: Generating system\n",
      "└ @ MacroEnergy /Users/al3792/Documents/MacroEnergy.jl/src/load_inputs/generate_system.jl:18\n",
      "┌ Warning: TotalHoursModeled not found in time_data.json - Using 8760 as default value for TotalHoursModeled\n",
      "└ @ MacroEnergy /Users/al3792/Documents/MacroEnergy.jl/src/load_inputs/load_time_data.jl:79\n",
      "┌ Warning: Using default weights = 1 as no period map provided and each period maps to itself\n",
      "└ @ MacroEnergy /Users/al3792/Documents/MacroEnergy.jl/src/load_inputs/load_time_data.jl:194\n",
      "┌ Warning: Using default weights = 1 as no period map provided and each period maps to itself\n",
      "└ @ MacroEnergy /Users/al3792/Documents/MacroEnergy.jl/src/load_inputs/load_time_data.jl:194\n",
      "┌ Warning: Using default weights = 1 as no period map provided and each period maps to itself\n",
      "└ @ MacroEnergy /Users/al3792/Documents/MacroEnergy.jl/src/load_inputs/load_time_data.jl:194\n",
      "┌ Warning: Using default weights = 1 as no period map provided and each period maps to itself\n",
      "└ @ MacroEnergy /Users/al3792/Documents/MacroEnergy.jl/src/load_inputs/load_time_data.jl:194\n",
      "┌ Warning: Using default weights = 1 as no period map provided and each period maps to itself\n",
      "└ @ MacroEnergy /Users/al3792/Documents/MacroEnergy.jl/src/load_inputs/load_time_data.jl:194\n",
      "┌ Warning: Using default weights = 1 as no period map provided and each period maps to itself\n",
      "└ @ MacroEnergy /Users/al3792/Documents/MacroEnergy.jl/src/load_inputs/load_time_data.jl:194\n"
     ]
    },
    {
     "ename": "MethodError",
     "evalue": "MethodError: no method matching load!(::MacroEnergy.System, ::Bool)\nThe function `load!` exists, but no method is defined for this combination of argument types.\n\nClosest candidates are:\n  load!(::MacroEnergy.System, !Matched::AbstractVector{<:AbstractDict{Symbol, Any}})\n   @ MacroEnergy ~/Documents/MacroEnergy.jl/src/load_inputs/load.jl:50\n  load!(::MacroEnergy.System, !Matched::AbstractDict{Symbol, Any})\n   @ MacroEnergy ~/Documents/MacroEnergy.jl/src/load_inputs/load.jl:19\n  load!(::MacroEnergy.System, !Matched::AbstractString)\n   @ MacroEnergy ~/Documents/MacroEnergy.jl/src/load_inputs/load.jl:6\n",
     "output_type": "error",
     "traceback": [
      "MethodError: no method matching load!(::MacroEnergy.System, ::Bool)\n",
      "The function `load!` exists, but no method is defined for this combination of argument types.\n",
      "\n",
      "Closest candidates are:\n",
      "  load!(::MacroEnergy.System, !Matched::AbstractVector{<:AbstractDict{Symbol, Any}})\n",
      "   @ MacroEnergy ~/Documents/MacroEnergy.jl/src/load_inputs/load.jl:50\n",
      "  load!(::MacroEnergy.System, !Matched::AbstractDict{Symbol, Any})\n",
      "   @ MacroEnergy ~/Documents/MacroEnergy.jl/src/load_inputs/load.jl:19\n",
      "  load!(::MacroEnergy.System, !Matched::AbstractString)\n",
      "   @ MacroEnergy ~/Documents/MacroEnergy.jl/src/load_inputs/load.jl:6\n",
      "\n",
      "\n",
      "Stacktrace:\n",
      "  [1] load!(system::MacroEnergy.System, data::Dict{Symbol, Any}) (repeats 4 times)\n",
      "    @ MacroEnergy ~/Documents/MacroEnergy.jl/src/load_inputs/load.jl:41\n",
      "  [2] load!(system::MacroEnergy.System, data::Vector{Dict{Symbol, Any}})\n",
      "    @ MacroEnergy ~/Documents/MacroEnergy.jl/src/load_inputs/load.jl:52\n",
      "  [3] load!(system::MacroEnergy.System, data::Dict{Symbol, Any})\n",
      "    @ MacroEnergy ~/Documents/MacroEnergy.jl/src/load_inputs/load.jl:41\n",
      "  [4] load!(system::MacroEnergy.System, file_path::String)\n",
      "    @ MacroEnergy ~/Documents/MacroEnergy.jl/src/load_inputs/load.jl:9\n",
      "  [5] load!(system::MacroEnergy.System, file_path::String)\n",
      "    @ MacroEnergy ~/Documents/MacroEnergy.jl/src/load_inputs/load.jl:12\n",
      "  [6] load!(system::MacroEnergy.System, data::Dict{Symbol, Any})\n",
      "    @ MacroEnergy ~/Documents/MacroEnergy.jl/src/load_inputs/load.jl:36\n",
      "  [7] generate_system!(system::MacroEnergy.System, system_data::Dict{Symbol, Any})\n",
      "    @ MacroEnergy ~/Documents/MacroEnergy.jl/src/load_inputs/generate_system.jl:37\n",
      "  [8] load_system(path::String; lazy_load::Bool)\n",
      "    @ MacroEnergy ~/Documents/MacroEnergy.jl/src/load_inputs/load_system.jl:23\n",
      "  [9] load_system(path::String)\n",
      "    @ MacroEnergy ~/Documents/MacroEnergy.jl/src/load_inputs/load_system.jl:5\n",
      " [10] top-level scope\n",
      "    @ ~/Documents/MacroEnergy.jl/ExampleSystems/cement_retrofit_cement_co2_cap/jl_notebook_cell_df34fa98e69747e1a8f8a730347b8e2f_X10sZmlsZQ==.jl:4"
     ]
    }
   ],
   "source": [
    "using MacroEnergy\n",
    "using Gurobi\n",
    "\n",
    "system = MacroEnergy.load_system(@__DIR__)"
   ]
  },
  {
   "cell_type": "code",
   "execution_count": null,
   "metadata": {},
   "outputs": [],
   "source": []
  },
  {
   "cell_type": "code",
   "execution_count": null,
   "metadata": {},
   "outputs": [],
   "source": []
  }
 ],
 "metadata": {
  "kernelspec": {
   "display_name": "Julia 1.11.4",
   "language": "julia",
   "name": "julia-1.11"
  },
  "language_info": {
   "file_extension": ".jl",
   "mimetype": "application/julia",
   "name": "julia",
   "version": "1.11.4"
  }
 },
 "nbformat": 4,
 "nbformat_minor": 2
}
